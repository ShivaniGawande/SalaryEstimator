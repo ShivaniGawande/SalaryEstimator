{
  "nbformat": 4,
  "nbformat_minor": 0,
  "metadata": {
    "colab": {
      "name": "SalaryPredictor.ipynb",
      "provenance": [],
      "collapsed_sections": [],
      "authorship_tag": "ABX9TyMLLpx15UY16wx+BsKru4qu",
      "include_colab_link": true
    },
    "kernelspec": {
      "name": "python3",
      "display_name": "Python 3"
    },
    "language_info": {
      "name": "python"
    }
  },
  "cells": [
    {
      "cell_type": "markdown",
      "metadata": {
        "id": "view-in-github",
        "colab_type": "text"
      },
      "source": [
        "<a href=\"https://colab.research.google.com/github/ShivaniGawande/SalaryEstimator/blob/main/SalaryPredictor.ipynb\" target=\"_parent\"><img src=\"https://colab.research.google.com/assets/colab-badge.svg\" alt=\"Open In Colab\"/></a>"
      ]
    },
    {
      "cell_type": "markdown",
      "source": [
        "This notebook is part of the final project submission for NYU's ECE-6143 Intro to ML course - Spring 22 .\n",
        "\n",
        "This project explores 4 different approaches, namely, XGBoost Regression with GridSearchCV for hyper Parameter tuning, Support Vector Regression, Random Forest Regression and XGBoost Regression with Optuna framework for hyperparameter tuning, to best estimate Data Scientists Salary across US. The data is taken from kaggle dataset on Glassdoor salaries. Link - https://www.kaggle.com/datasets/nikhilbhathi/data-scientist-salary-us-glassdoor \n"
      ],
      "metadata": {
        "id": "NGL_ovc6p-v4"
      }
    },
    {
      "cell_type": "code",
      "execution_count": 317,
      "metadata": {
        "colab": {
          "base_uri": "https://localhost:8080/"
        },
        "id": "_ltkDGe6x0jm",
        "outputId": "6a4047a6-7322-4280-ff45-4d5d882f3fb4"
      },
      "outputs": [
        {
          "output_type": "stream",
          "name": "stdout",
          "text": [
            "Requirement already satisfied: optuna in /usr/local/lib/python3.7/dist-packages (2.10.0)\n",
            "Requirement already satisfied: sqlalchemy>=1.1.0 in /usr/local/lib/python3.7/dist-packages (from optuna) (1.4.36)\n",
            "Requirement already satisfied: tqdm in /usr/local/lib/python3.7/dist-packages (from optuna) (4.64.0)\n",
            "Requirement already satisfied: scipy!=1.4.0 in /usr/local/lib/python3.7/dist-packages (from optuna) (1.4.1)\n",
            "Requirement already satisfied: PyYAML in /usr/local/lib/python3.7/dist-packages (from optuna) (3.13)\n",
            "Requirement already satisfied: colorlog in /usr/local/lib/python3.7/dist-packages (from optuna) (6.6.0)\n",
            "Requirement already satisfied: cmaes>=0.8.2 in /usr/local/lib/python3.7/dist-packages (from optuna) (0.8.2)\n",
            "Requirement already satisfied: cliff in /usr/local/lib/python3.7/dist-packages (from optuna) (3.10.1)\n",
            "Requirement already satisfied: numpy in /usr/local/lib/python3.7/dist-packages (from optuna) (1.21.6)\n",
            "Requirement already satisfied: alembic in /usr/local/lib/python3.7/dist-packages (from optuna) (1.7.7)\n",
            "Requirement already satisfied: packaging>=20.0 in /usr/local/lib/python3.7/dist-packages (from optuna) (21.3)\n",
            "Requirement already satisfied: pyparsing!=3.0.5,>=2.0.2 in /usr/local/lib/python3.7/dist-packages (from packaging>=20.0->optuna) (3.0.8)\n",
            "Requirement already satisfied: importlib-metadata in /usr/local/lib/python3.7/dist-packages (from sqlalchemy>=1.1.0->optuna) (4.11.3)\n",
            "Requirement already satisfied: greenlet!=0.4.17 in /usr/local/lib/python3.7/dist-packages (from sqlalchemy>=1.1.0->optuna) (1.1.2)\n",
            "Requirement already satisfied: importlib-resources in /usr/local/lib/python3.7/dist-packages (from alembic->optuna) (5.7.1)\n",
            "Requirement already satisfied: Mako in /usr/local/lib/python3.7/dist-packages (from alembic->optuna) (1.2.0)\n",
            "Requirement already satisfied: PrettyTable>=0.7.2 in /usr/local/lib/python3.7/dist-packages (from cliff->optuna) (3.2.0)\n",
            "Requirement already satisfied: stevedore>=2.0.1 in /usr/local/lib/python3.7/dist-packages (from cliff->optuna) (3.5.0)\n",
            "Requirement already satisfied: cmd2>=1.0.0 in /usr/local/lib/python3.7/dist-packages (from cliff->optuna) (2.4.1)\n",
            "Requirement already satisfied: pbr!=2.1.0,>=2.0.0 in /usr/local/lib/python3.7/dist-packages (from cliff->optuna) (5.9.0)\n",
            "Requirement already satisfied: autopage>=0.4.0 in /usr/local/lib/python3.7/dist-packages (from cliff->optuna) (0.5.0)\n",
            "Requirement already satisfied: attrs>=16.3.0 in /usr/local/lib/python3.7/dist-packages (from cmd2>=1.0.0->cliff->optuna) (21.4.0)\n",
            "Requirement already satisfied: wcwidth>=0.1.7 in /usr/local/lib/python3.7/dist-packages (from cmd2>=1.0.0->cliff->optuna) (0.2.5)\n",
            "Requirement already satisfied: pyperclip>=1.6 in /usr/local/lib/python3.7/dist-packages (from cmd2>=1.0.0->cliff->optuna) (1.8.2)\n",
            "Requirement already satisfied: typing-extensions in /usr/local/lib/python3.7/dist-packages (from cmd2>=1.0.0->cliff->optuna) (4.2.0)\n",
            "Requirement already satisfied: zipp>=0.5 in /usr/local/lib/python3.7/dist-packages (from importlib-metadata->sqlalchemy>=1.1.0->optuna) (3.8.0)\n",
            "Requirement already satisfied: MarkupSafe>=0.9.2 in /usr/local/lib/python3.7/dist-packages (from Mako->alembic->optuna) (2.0.1)\n"
          ]
        }
      ],
      "source": [
        "#install optuna - framework for hyperparameter optimization\n",
        "% pip install optuna"
      ]
    },
    {
      "cell_type": "code",
      "source": [
        "import numpy as np\n",
        "import pandas as pd\n",
        "from sklearn.model_selection import train_test_split\n",
        "from sklearn.svm import SVR\n",
        "from sklearn.ensemble import RandomForestRegressor\n",
        "from sklearn.neural_network import MLPRegressor\n",
        "from sklearn.model_selection import GridSearchCV\n",
        "from sklearn.model_selection import cross_val_score\n",
        "from math import sqrt\n",
        "from sklearn.model_selection import learning_curve\n",
        "from sklearn.model_selection import KFold\n",
        "from sklearn.metrics import mean_squared_error\n",
        "import xgboost as xgb\n",
        "from xgboost import XGBRegressor\n",
        "import optuna\n",
        "import matplotlib.pyplot as plt\n",
        "\n",
        "import warnings\n",
        "warnings.filterwarnings('ignore')"
      ],
      "metadata": {
        "id": "r797OJ96G0d2"
      },
      "execution_count": 318,
      "outputs": []
    },
    {
      "cell_type": "code",
      "source": [
        "#Loading data\n",
        "df = pd.read_csv('https://raw.githubusercontent.com/ShivaniGawande/SalaryEstimator/main/data.csv')\n",
        "df.head()"
      ],
      "metadata": {
        "colab": {
          "base_uri": "https://localhost:8080/",
          "height": 542
        },
        "id": "-H-ZzeKHrLEi",
        "outputId": "ef22f2a7-abc8-406d-906c-c300b8c2083d"
      },
      "execution_count": 319,
      "outputs": [
        {
          "output_type": "execute_result",
          "data": {
            "text/plain": [
              "   index                  Job Title              Salary Estimate  \\\n",
              "0      0             Data Scientist   $53K-$91K (Glassdoor est.)   \n",
              "1      1  Healthcare Data Scientist  $63K-$112K (Glassdoor est.)   \n",
              "2      2             Data Scientist   $80K-$90K (Glassdoor est.)   \n",
              "3      3             Data Scientist   $56K-$97K (Glassdoor est.)   \n",
              "4      4             Data Scientist  $86K-$143K (Glassdoor est.)   \n",
              "\n",
              "                                     Job Description  Rating  \\\n",
              "0  Data Scientist\\nLocation: Albuquerque, NM\\nEdu...     3.8   \n",
              "1  What You Will Do:\\n\\nI. General Summary\\n\\nThe...     3.4   \n",
              "2  KnowBe4, Inc. is a high growth information sec...     4.8   \n",
              "3  *Organization and Job ID**\\nJob ID: 310709\\n\\n...     3.8   \n",
              "4  Data Scientist\\nAffinity Solutions / Marketing...     2.9   \n",
              "\n",
              "                                 Company Name         Location  \\\n",
              "0                      Tecolote Research\\n3.8  Albuquerque, NM   \n",
              "1  University of Maryland Medical System\\n3.4    Linthicum, MD   \n",
              "2                                KnowBe4\\n4.8   Clearwater, FL   \n",
              "3                                   PNNL\\n3.8     Richland, WA   \n",
              "4                     Affinity Solutions\\n2.9     New York, NY   \n",
              "\n",
              "     Headquarters          Size  Founded  ... tensor hadoop tableau bi flink  \\\n",
              "0      Goleta, CA   501 - 1000      1973  ...      0      0       1  1     0   \n",
              "1   Baltimore, MD       10000+      1984  ...      0      0       0  0     0   \n",
              "2  Clearwater, FL   501 - 1000      2010  ...      0      0       0  0     0   \n",
              "3    Richland, WA  1001 - 5000      1965  ...      0      0       0  0     0   \n",
              "4    New York, NY     51 - 200      1998  ...      0      0       0  0     0   \n",
              "\n",
              "   mongo  google_an   job_title_sim  seniority_by_title  Degree  \n",
              "0      0          0  data scientist                  na       M  \n",
              "1      0          0  data scientist                  na       M  \n",
              "2      0          0  data scientist                  na       M  \n",
              "3      0          0  data scientist                  na      na  \n",
              "4      0          0  data scientist                  na      na  \n",
              "\n",
              "[5 rows x 42 columns]"
            ],
            "text/html": [
              "\n",
              "  <div id=\"df-9c3a964b-f6c0-4bd5-bf34-c61a5fbe414e\">\n",
              "    <div class=\"colab-df-container\">\n",
              "      <div>\n",
              "<style scoped>\n",
              "    .dataframe tbody tr th:only-of-type {\n",
              "        vertical-align: middle;\n",
              "    }\n",
              "\n",
              "    .dataframe tbody tr th {\n",
              "        vertical-align: top;\n",
              "    }\n",
              "\n",
              "    .dataframe thead th {\n",
              "        text-align: right;\n",
              "    }\n",
              "</style>\n",
              "<table border=\"1\" class=\"dataframe\">\n",
              "  <thead>\n",
              "    <tr style=\"text-align: right;\">\n",
              "      <th></th>\n",
              "      <th>index</th>\n",
              "      <th>Job Title</th>\n",
              "      <th>Salary Estimate</th>\n",
              "      <th>Job Description</th>\n",
              "      <th>Rating</th>\n",
              "      <th>Company Name</th>\n",
              "      <th>Location</th>\n",
              "      <th>Headquarters</th>\n",
              "      <th>Size</th>\n",
              "      <th>Founded</th>\n",
              "      <th>...</th>\n",
              "      <th>tensor</th>\n",
              "      <th>hadoop</th>\n",
              "      <th>tableau</th>\n",
              "      <th>bi</th>\n",
              "      <th>flink</th>\n",
              "      <th>mongo</th>\n",
              "      <th>google_an</th>\n",
              "      <th>job_title_sim</th>\n",
              "      <th>seniority_by_title</th>\n",
              "      <th>Degree</th>\n",
              "    </tr>\n",
              "  </thead>\n",
              "  <tbody>\n",
              "    <tr>\n",
              "      <th>0</th>\n",
              "      <td>0</td>\n",
              "      <td>Data Scientist</td>\n",
              "      <td>$53K-$91K (Glassdoor est.)</td>\n",
              "      <td>Data Scientist\\nLocation: Albuquerque, NM\\nEdu...</td>\n",
              "      <td>3.8</td>\n",
              "      <td>Tecolote Research\\n3.8</td>\n",
              "      <td>Albuquerque, NM</td>\n",
              "      <td>Goleta, CA</td>\n",
              "      <td>501 - 1000</td>\n",
              "      <td>1973</td>\n",
              "      <td>...</td>\n",
              "      <td>0</td>\n",
              "      <td>0</td>\n",
              "      <td>1</td>\n",
              "      <td>1</td>\n",
              "      <td>0</td>\n",
              "      <td>0</td>\n",
              "      <td>0</td>\n",
              "      <td>data scientist</td>\n",
              "      <td>na</td>\n",
              "      <td>M</td>\n",
              "    </tr>\n",
              "    <tr>\n",
              "      <th>1</th>\n",
              "      <td>1</td>\n",
              "      <td>Healthcare Data Scientist</td>\n",
              "      <td>$63K-$112K (Glassdoor est.)</td>\n",
              "      <td>What You Will Do:\\n\\nI. General Summary\\n\\nThe...</td>\n",
              "      <td>3.4</td>\n",
              "      <td>University of Maryland Medical System\\n3.4</td>\n",
              "      <td>Linthicum, MD</td>\n",
              "      <td>Baltimore, MD</td>\n",
              "      <td>10000+</td>\n",
              "      <td>1984</td>\n",
              "      <td>...</td>\n",
              "      <td>0</td>\n",
              "      <td>0</td>\n",
              "      <td>0</td>\n",
              "      <td>0</td>\n",
              "      <td>0</td>\n",
              "      <td>0</td>\n",
              "      <td>0</td>\n",
              "      <td>data scientist</td>\n",
              "      <td>na</td>\n",
              "      <td>M</td>\n",
              "    </tr>\n",
              "    <tr>\n",
              "      <th>2</th>\n",
              "      <td>2</td>\n",
              "      <td>Data Scientist</td>\n",
              "      <td>$80K-$90K (Glassdoor est.)</td>\n",
              "      <td>KnowBe4, Inc. is a high growth information sec...</td>\n",
              "      <td>4.8</td>\n",
              "      <td>KnowBe4\\n4.8</td>\n",
              "      <td>Clearwater, FL</td>\n",
              "      <td>Clearwater, FL</td>\n",
              "      <td>501 - 1000</td>\n",
              "      <td>2010</td>\n",
              "      <td>...</td>\n",
              "      <td>0</td>\n",
              "      <td>0</td>\n",
              "      <td>0</td>\n",
              "      <td>0</td>\n",
              "      <td>0</td>\n",
              "      <td>0</td>\n",
              "      <td>0</td>\n",
              "      <td>data scientist</td>\n",
              "      <td>na</td>\n",
              "      <td>M</td>\n",
              "    </tr>\n",
              "    <tr>\n",
              "      <th>3</th>\n",
              "      <td>3</td>\n",
              "      <td>Data Scientist</td>\n",
              "      <td>$56K-$97K (Glassdoor est.)</td>\n",
              "      <td>*Organization and Job ID**\\nJob ID: 310709\\n\\n...</td>\n",
              "      <td>3.8</td>\n",
              "      <td>PNNL\\n3.8</td>\n",
              "      <td>Richland, WA</td>\n",
              "      <td>Richland, WA</td>\n",
              "      <td>1001 - 5000</td>\n",
              "      <td>1965</td>\n",
              "      <td>...</td>\n",
              "      <td>0</td>\n",
              "      <td>0</td>\n",
              "      <td>0</td>\n",
              "      <td>0</td>\n",
              "      <td>0</td>\n",
              "      <td>0</td>\n",
              "      <td>0</td>\n",
              "      <td>data scientist</td>\n",
              "      <td>na</td>\n",
              "      <td>na</td>\n",
              "    </tr>\n",
              "    <tr>\n",
              "      <th>4</th>\n",
              "      <td>4</td>\n",
              "      <td>Data Scientist</td>\n",
              "      <td>$86K-$143K (Glassdoor est.)</td>\n",
              "      <td>Data Scientist\\nAffinity Solutions / Marketing...</td>\n",
              "      <td>2.9</td>\n",
              "      <td>Affinity Solutions\\n2.9</td>\n",
              "      <td>New York, NY</td>\n",
              "      <td>New York, NY</td>\n",
              "      <td>51 - 200</td>\n",
              "      <td>1998</td>\n",
              "      <td>...</td>\n",
              "      <td>0</td>\n",
              "      <td>0</td>\n",
              "      <td>0</td>\n",
              "      <td>0</td>\n",
              "      <td>0</td>\n",
              "      <td>0</td>\n",
              "      <td>0</td>\n",
              "      <td>data scientist</td>\n",
              "      <td>na</td>\n",
              "      <td>na</td>\n",
              "    </tr>\n",
              "  </tbody>\n",
              "</table>\n",
              "<p>5 rows × 42 columns</p>\n",
              "</div>\n",
              "      <button class=\"colab-df-convert\" onclick=\"convertToInteractive('df-9c3a964b-f6c0-4bd5-bf34-c61a5fbe414e')\"\n",
              "              title=\"Convert this dataframe to an interactive table.\"\n",
              "              style=\"display:none;\">\n",
              "        \n",
              "  <svg xmlns=\"http://www.w3.org/2000/svg\" height=\"24px\"viewBox=\"0 0 24 24\"\n",
              "       width=\"24px\">\n",
              "    <path d=\"M0 0h24v24H0V0z\" fill=\"none\"/>\n",
              "    <path d=\"M18.56 5.44l.94 2.06.94-2.06 2.06-.94-2.06-.94-.94-2.06-.94 2.06-2.06.94zm-11 1L8.5 8.5l.94-2.06 2.06-.94-2.06-.94L8.5 2.5l-.94 2.06-2.06.94zm10 10l.94 2.06.94-2.06 2.06-.94-2.06-.94-.94-2.06-.94 2.06-2.06.94z\"/><path d=\"M17.41 7.96l-1.37-1.37c-.4-.4-.92-.59-1.43-.59-.52 0-1.04.2-1.43.59L10.3 9.45l-7.72 7.72c-.78.78-.78 2.05 0 2.83L4 21.41c.39.39.9.59 1.41.59.51 0 1.02-.2 1.41-.59l7.78-7.78 2.81-2.81c.8-.78.8-2.07 0-2.86zM5.41 20L4 18.59l7.72-7.72 1.47 1.35L5.41 20z\"/>\n",
              "  </svg>\n",
              "      </button>\n",
              "      \n",
              "  <style>\n",
              "    .colab-df-container {\n",
              "      display:flex;\n",
              "      flex-wrap:wrap;\n",
              "      gap: 12px;\n",
              "    }\n",
              "\n",
              "    .colab-df-convert {\n",
              "      background-color: #E8F0FE;\n",
              "      border: none;\n",
              "      border-radius: 50%;\n",
              "      cursor: pointer;\n",
              "      display: none;\n",
              "      fill: #1967D2;\n",
              "      height: 32px;\n",
              "      padding: 0 0 0 0;\n",
              "      width: 32px;\n",
              "    }\n",
              "\n",
              "    .colab-df-convert:hover {\n",
              "      background-color: #E2EBFA;\n",
              "      box-shadow: 0px 1px 2px rgba(60, 64, 67, 0.3), 0px 1px 3px 1px rgba(60, 64, 67, 0.15);\n",
              "      fill: #174EA6;\n",
              "    }\n",
              "\n",
              "    [theme=dark] .colab-df-convert {\n",
              "      background-color: #3B4455;\n",
              "      fill: #D2E3FC;\n",
              "    }\n",
              "\n",
              "    [theme=dark] .colab-df-convert:hover {\n",
              "      background-color: #434B5C;\n",
              "      box-shadow: 0px 1px 3px 1px rgba(0, 0, 0, 0.15);\n",
              "      filter: drop-shadow(0px 1px 2px rgba(0, 0, 0, 0.3));\n",
              "      fill: #FFFFFF;\n",
              "    }\n",
              "  </style>\n",
              "\n",
              "      <script>\n",
              "        const buttonEl =\n",
              "          document.querySelector('#df-9c3a964b-f6c0-4bd5-bf34-c61a5fbe414e button.colab-df-convert');\n",
              "        buttonEl.style.display =\n",
              "          google.colab.kernel.accessAllowed ? 'block' : 'none';\n",
              "\n",
              "        async function convertToInteractive(key) {\n",
              "          const element = document.querySelector('#df-9c3a964b-f6c0-4bd5-bf34-c61a5fbe414e');\n",
              "          const dataTable =\n",
              "            await google.colab.kernel.invokeFunction('convertToInteractive',\n",
              "                                                     [key], {});\n",
              "          if (!dataTable) return;\n",
              "\n",
              "          const docLinkHtml = 'Like what you see? Visit the ' +\n",
              "            '<a target=\"_blank\" href=https://colab.research.google.com/notebooks/data_table.ipynb>data table notebook</a>'\n",
              "            + ' to learn more about interactive tables.';\n",
              "          element.innerHTML = '';\n",
              "          dataTable['output_type'] = 'display_data';\n",
              "          await google.colab.output.renderOutput(dataTable, element);\n",
              "          const docLink = document.createElement('div');\n",
              "          docLink.innerHTML = docLinkHtml;\n",
              "          element.appendChild(docLink);\n",
              "        }\n",
              "      </script>\n",
              "    </div>\n",
              "  </div>\n",
              "  "
            ]
          },
          "metadata": {},
          "execution_count": 319
        }
      ]
    },
    {
      "cell_type": "code",
      "source": [
        "def approach1_XGBRegressor():\n",
        "    xgb = XGBRegressor()\n",
        "    parameters = {'learning_rate': [.01, 0.1, .03], \n",
        "              'max_depth': [5, 7, 9],\n",
        "              'n_estimators': [100,200,300]}\n",
        "    #Using GridSearchCV for hyperparameter optimization\n",
        "    xgb_grid = GridSearchCV(xgb, parameters, cv = 2, n_jobs = 5, verbose=True)\n",
        "    return xgb_grid"
      ],
      "metadata": {
        "id": "oeeX3hZbyS_e"
      },
      "execution_count": 320,
      "outputs": []
    },
    {
      "cell_type": "code",
      "source": [
        "def approach2_SVRRegressor():\n",
        "    #SVR(kernel=\"rbf\", C=100, gamma=0.1, epsilon=0.1)\n",
        "    svr = SVR()\n",
        "    parameters = {'C': [0.1,1, 10, 100], 'gamma': [1,0.1,0.01,0.001],'kernel': ['rbf']}\n",
        "    #Using GridSearchCV for hyperparameter optimization\n",
        "    svr_grid = GridSearchCV(svr, parameters, cv=2, n_jobs = 5, verbose=True)\n",
        "    return svr_grid\n"
      ],
      "metadata": {
        "id": "BJXY_xOBzEV8"
      },
      "execution_count": 321,
      "outputs": []
    },
    {
      "cell_type": "code",
      "source": [
        "\n",
        "def approach3_RandomForestRegressor():\n",
        "    #RandomForestRegressor(max_depth=2, random_state=0)\n",
        "    rfr= RandomForestRegressor()\n",
        "    parameters = {'max_depth': [40, 50, 60],\n",
        "    'min_samples_leaf': [1, 2, 3],\n",
        "    'min_samples_split': [4, 5, 6],\n",
        "    'n_estimators': [150, 200]}\n",
        "    #Using GridSearchCV for hyperparameter optimization\n",
        "    rfr_grid = GridSearchCV(rfr, parameters, cv=2, n_jobs = 5, verbose=True)\n",
        "    return rfr_grid"
      ],
      "metadata": {
        "id": "ZSJM2xbZzF4d"
      },
      "execution_count": 322,
      "outputs": []
    },
    {
      "cell_type": "code",
      "source": [
        "def feature_importance(model,x):\n",
        "    df = pd.DataFrame(model.feature_importances_,columns=['importance'])\n",
        "    df['features'] = x.columns\n",
        "    df.reindex(x.columns, axis=1)\n",
        "\n",
        "def model_accuracy(model, xtrain, xtest, ytrain, ytest):\n",
        "    #evaluate\n",
        "    scores = cross_val_score(model, xtrain, ytrain,cv=5)\n",
        "    print(\"Mean cross-validation score: %.2f\" % scores.mean())\n",
        "    ypred = model.predict(xtest)\n",
        "    mse = mean_squared_error(ytest, ypred)\n",
        "    rmse = sqrt(mse)\n",
        "    print(\"RMSE: %.2f\" % rmse)\n",
        "    y_pred_test = model.predict(xtest)\n",
        "    return rmse\n",
        "\n",
        "def train_model(x,y, model):\n",
        "    xtrain, xtest, ytrain, ytest=train_test_split(x, y, test_size=0.2)\n",
        "    model.fit(xtrain, ytrain)\n",
        "    #print(\" Best Params : \", model.best_params_)\n",
        "    #print(xtest)\n",
        "    return model, xtrain, xtest, ytrain, ytest"
      ],
      "metadata": {
        "id": "UQqev-5k_SeS"
      },
      "execution_count": 323,
      "outputs": []
    },
    {
      "cell_type": "code",
      "source": [
        "Y = df.iloc[:,19]\n",
        "X = pd.concat([df.iloc[:,4],df.iloc[:,23:39],df.iloc[:,21],df.iloc[:,8],df.iloc[:,10],df.iloc[:,11],df.iloc[:,12],df.iloc[:,40:42]],axis = 1)\n",
        "X = X.astype({'Job Location': 'category', 'Industry': 'category', 'Sector' : 'category', 'seniority_by_title' : 'category', 'Degree' : 'category', 'Size' : 'category', 'Type of ownership' : 'category'})\n",
        "\n",
        "X[\"Job Location\"] = X[\"Job Location\"].cat.codes\n",
        "X[\"Industry\"] = X[\"Industry\"].cat.codes\n",
        "X[\"Sector\"] = X[\"Sector\"].cat.codes\n",
        "X[\"seniority_by_title\"] = X[\"seniority_by_title\"].cat.codes\n",
        "X[\"Degree\"] = X[\"Degree\"].cat.codes\n",
        "X[\"Size\"] = X[\"Size\"].cat.codes\n",
        "X[\"Type of ownership\"] = X[\"Type of ownership\"].cat.codes\n",
        "\n",
        "print(\"------------------------------------------------------------------------------------------------------\")\n",
        "print(\"Approach 1: Using XGB\")\n",
        "model = approach1_XGBRegressor()\n",
        "model, xtrain, xtest, ytrain, ytest  = train_model(X,Y, model)\n",
        "print(\"Model Accuracy on Test Dataset for XGBoost Regressor\")\n",
        "rmse_xgb_gridsearchcv = model_accuracy(model, xtrain, xtest, ytrain, ytest)\n",
        "print(rmse_xgb_gridsearchcv)\n",
        "\n",
        "print(\"------------------------------------------------------------------------------------------------------\")\n",
        "print(\"Approach 2: Using SVR\")\n",
        "model = approach2_SVRRegressor()\n",
        "model, xtrain, xtest, ytrain, ytest  = train_model(X,Y, model)\n",
        "print(\"Model Accuracy on Test Dataset for Support Vector Regressor\")\n",
        "rmse_svr = model_accuracy(model, xtrain, xtest, ytrain, ytest)\n",
        "print(rmse_svr)\n",
        "\n",
        "print(\"------------------------------------------------------------------------------------------------------\")\n",
        "print(\"Approach 3: Using Random Forest Regressor\")\n",
        "model = approach3_RandomForestRegressor()\n",
        "model, xtrain, xtest, ytrain, ytest  = train_model(X,Y, model)\n",
        "print(\"Model Accuracy on Test Dataset for Random Forest Regressor\")\n",
        "rmse_rfr = model_accuracy(model, xtrain, xtest, ytrain, ytest)\n",
        "print(rmse_rfr)\n",
        "print(\"------------------------------------------------------------------------------------------------------\")"
      ],
      "metadata": {
        "colab": {
          "base_uri": "https://localhost:8080/"
        },
        "id": "V4KUvj3xyZWk",
        "outputId": "736aefbd-c754-487a-fef9-97892a8be965"
      },
      "execution_count": 324,
      "outputs": [
        {
          "output_type": "stream",
          "name": "stdout",
          "text": [
            "------------------------------------------------------------------------------------------------------\n",
            "Approach 1: Using XGB\n",
            "Fitting 2 folds for each of 27 candidates, totalling 54 fits\n",
            "[01:11:43] WARNING: /workspace/src/objective/regression_obj.cu:152: reg:linear is now deprecated in favor of reg:squarederror.\n",
            "Model Accuracy on Test Dataset for XGBoost Regressor\n",
            "Fitting 2 folds for each of 27 candidates, totalling 54 fits\n",
            "[01:11:52] WARNING: /workspace/src/objective/regression_obj.cu:152: reg:linear is now deprecated in favor of reg:squarederror.\n",
            "Fitting 2 folds for each of 27 candidates, totalling 54 fits\n",
            "[01:12:00] WARNING: /workspace/src/objective/regression_obj.cu:152: reg:linear is now deprecated in favor of reg:squarederror.\n",
            "Fitting 2 folds for each of 27 candidates, totalling 54 fits\n",
            "[01:12:09] WARNING: /workspace/src/objective/regression_obj.cu:152: reg:linear is now deprecated in favor of reg:squarederror.\n",
            "Fitting 2 folds for each of 27 candidates, totalling 54 fits\n",
            "[01:12:18] WARNING: /workspace/src/objective/regression_obj.cu:152: reg:linear is now deprecated in favor of reg:squarederror.\n",
            "Fitting 2 folds for each of 27 candidates, totalling 54 fits\n",
            "[01:12:27] WARNING: /workspace/src/objective/regression_obj.cu:152: reg:linear is now deprecated in favor of reg:squarederror.\n",
            "Mean cross-validation score: 0.53\n",
            "RMSE: 21.00\n",
            "21.000833531406762\n",
            "------------------------------------------------------------------------------------------------------\n",
            "Approach 2: Using SVR\n",
            "Fitting 2 folds for each of 16 candidates, totalling 32 fits\n",
            "Model Accuracy on Test Dataset for Support Vector Regressor\n",
            "Fitting 2 folds for each of 16 candidates, totalling 32 fits\n",
            "Fitting 2 folds for each of 16 candidates, totalling 32 fits\n",
            "Fitting 2 folds for each of 16 candidates, totalling 32 fits\n",
            "Fitting 2 folds for each of 16 candidates, totalling 32 fits\n",
            "Fitting 2 folds for each of 16 candidates, totalling 32 fits\n",
            "Mean cross-validation score: 0.53\n",
            "RMSE: 25.19\n",
            "25.19028006703538\n",
            "------------------------------------------------------------------------------------------------------\n",
            "Approach 3: Using Random Forest Regressor\n",
            "Fitting 2 folds for each of 54 candidates, totalling 108 fits\n",
            "Model Accuracy on Test Dataset for Random Forest Regressor\n",
            "Fitting 2 folds for each of 54 candidates, totalling 108 fits\n",
            "Fitting 2 folds for each of 54 candidates, totalling 108 fits\n",
            "Fitting 2 folds for each of 54 candidates, totalling 108 fits\n",
            "Fitting 2 folds for each of 54 candidates, totalling 108 fits\n",
            "Fitting 2 folds for each of 54 candidates, totalling 108 fits\n",
            "Mean cross-validation score: 0.54\n",
            "RMSE: 20.50\n",
            "20.49705015142174\n",
            "------------------------------------------------------------------------------------------------------\n"
          ]
        }
      ]
    },
    {
      "cell_type": "code",
      "source": [
        "xtrain, xtest, ytrain, ytest=train_test_split(X, Y, test_size=0.2)"
      ],
      "metadata": {
        "id": "sdfKp8vtRpRb"
      },
      "execution_count": 325,
      "outputs": []
    },
    {
      "cell_type": "markdown",
      "source": [
        "Using Optuna Framework for hyperparameter optimization.\n",
        "\n",
        "The following code is referenced from the use of Optuna framework in Cagri Karadeniz's Notebook - https://www.kaggle.com/code/arkaradeniz/ds-salary-forecasting#ALL-FUNCTIONS which he used for Light Gradient Boosting Model (LGBM) to optimize the hyperparameters in order to reduce the value of root mean squared error. \n",
        "\n",
        "I have used similar approach for XGBoost Model."
      ],
      "metadata": {
        "id": "U77pT3X6mzH6"
      }
    },
    {
      "cell_type": "code",
      "source": [
        "def objective_XGB(trial):\n",
        "   learning_rate = trial.suggest_float(\"learning_rate\", 1e-4, 0.25, log=True)\n",
        "   reg_lambda = trial.suggest_loguniform(\"reg_lambda\", 1e-9, 100.0)\n",
        "   reg_alpha = trial.suggest_loguniform(\"reg_alpha\", 1e-9, 100.0)\n",
        "   subsample = trial.suggest_float(\"subsample\", 0.0001, 1.0)\n",
        "   colsample_bytree = trial.suggest_float(\"colsample_bytree\", 0.0001, 1.0)\n",
        "   max_depth = trial.suggest_int(\"max_depth\", 1, 50)\n",
        "   early_stopping_rounds = trial.suggest_int(\"early_stopping_rounds\", 100, 700)\n",
        "   n_estimators = trial.suggest_int(\"n_estimators\", 0, 10000)\n",
        "\n",
        "   model = XGBRegressor(\n",
        "      random_state=50,\n",
        "      n_estimators=n_estimators,\n",
        "      learning_rate=learning_rate,\n",
        "      reg_lambda=reg_lambda,\n",
        "      reg_alpha=reg_alpha,\n",
        "      subsample=subsample,\n",
        "      colsample_bytree=colsample_bytree,\n",
        "      max_depth=max_depth,\n",
        "   )\n",
        "   model.fit(xtrain,ytrain,\n",
        "      early_stopping_rounds=early_stopping_rounds,\n",
        "      eval_set=[(xtest,ytest)],\n",
        "      verbose=1200\n",
        "   )\n",
        "   preds_valid = model.predict(xtest)\n",
        "   rmse = mean_squared_error(ytest, preds_valid, squared=False)\n",
        "\n",
        "   return rmse\n",
        "\n"
      ],
      "metadata": {
        "id": "czUl6Cj1P84R"
      },
      "execution_count": 326,
      "outputs": []
    },
    {
      "cell_type": "markdown",
      "source": [
        "Extracting best params from the Optuna optimizier."
      ],
      "metadata": {
        "id": "MIeimt0Gmv3M"
      }
    },
    {
      "cell_type": "code",
      "source": [
        "study_xgb = optuna.create_study(direction=\"minimize\")\n",
        "study_xgb.optimize(objective_XGB, n_trials=10)\n",
        "\n",
        "optuna_params_xgb = study_xgb.best_params\n",
        "print(\"------------------------------------------------------------------------------------------------------\")\n",
        "print(\"Best Parameters\" , optuna_params_xgb)\n",
        "print(\"------------------------------------------------------------------------------------------------------\")"
      ],
      "metadata": {
        "colab": {
          "base_uri": "https://localhost:8080/"
        },
        "id": "wK9SOCn4KeY4",
        "outputId": "63fe8b30-2249-402a-f755-cf030e9bb3f7"
      },
      "execution_count": 327,
      "outputs": [
        {
          "output_type": "stream",
          "name": "stderr",
          "text": [
            "\u001b[32m[I 2022-05-18 01:15:29,823]\u001b[0m A new study created in memory with name: no-name-984cd1b9-e9c4-4b4d-9f6f-9f7424953378\u001b[0m\n"
          ]
        },
        {
          "output_type": "stream",
          "name": "stdout",
          "text": [
            "[01:15:29] WARNING: /workspace/src/objective/regression_obj.cu:152: reg:linear is now deprecated in favor of reg:squarederror.\n",
            "[0]\tvalidation_0-rmse:112.387\n",
            "Will train until validation_0-rmse hasn't improved in 506 rounds.\n",
            "[1200]\tvalidation_0-rmse:36.031\n",
            "[2400]\tvalidation_0-rmse:29.1579\n",
            "[3600]\tvalidation_0-rmse:26.9157\n",
            "[4800]\tvalidation_0-rmse:25.6832\n",
            "[6000]\tvalidation_0-rmse:25.0204\n",
            "[7200]\tvalidation_0-rmse:24.6043\n",
            "[8073]\tvalidation_0-rmse:24.3921\n"
          ]
        },
        {
          "output_type": "stream",
          "name": "stderr",
          "text": [
            "\u001b[32m[I 2022-05-18 01:16:03,337]\u001b[0m Trial 0 finished with value: 24.392089368489085 and parameters: {'learning_rate': 0.0019909689482616308, 'reg_lambda': 4.363493964548087, 'reg_alpha': 2.775411973227079e-08, 'subsample': 0.3677084214267599, 'colsample_bytree': 0.741357394182574, 'max_depth': 27, 'early_stopping_rounds': 506, 'n_estimators': 8074}. Best is trial 0 with value: 24.392089368489085.\u001b[0m\n"
          ]
        },
        {
          "output_type": "stream",
          "name": "stdout",
          "text": [
            "[01:16:03] WARNING: /workspace/src/objective/regression_obj.cu:152: reg:linear is now deprecated in favor of reg:squarederror.\n",
            "[0]\tvalidation_0-rmse:112.395\n",
            "Will train until validation_0-rmse hasn't improved in 397 rounds.\n",
            "[1200]\tvalidation_0-rmse:36.8714\n",
            "[2153]\tvalidation_0-rmse:32.7555\n"
          ]
        },
        {
          "output_type": "stream",
          "name": "stderr",
          "text": [
            "\u001b[32m[I 2022-05-18 01:16:05,861]\u001b[0m Trial 1 finished with value: 32.75404527347926 and parameters: {'learning_rate': 0.0019028687953531857, 'reg_lambda': 3.5521698144525956e-06, 'reg_alpha': 0.0001775688020018408, 'subsample': 0.11694679427152353, 'colsample_bytree': 0.13877825682640457, 'max_depth': 46, 'early_stopping_rounds': 397, 'n_estimators': 2154}. Best is trial 0 with value: 24.392089368489085.\u001b[0m\n"
          ]
        },
        {
          "output_type": "stream",
          "name": "stdout",
          "text": [
            "[01:16:05] WARNING: /workspace/src/objective/regression_obj.cu:152: reg:linear is now deprecated in favor of reg:squarederror.\n",
            "[0]\tvalidation_0-rmse:112.563\n",
            "Will train until validation_0-rmse hasn't improved in 330 rounds.\n",
            "[1200]\tvalidation_0-rmse:100.191\n",
            "[2400]\tvalidation_0-rmse:89.3536\n",
            "[3600]\tvalidation_0-rmse:79.9398\n",
            "[4800]\tvalidation_0-rmse:71.7457\n",
            "[6000]\tvalidation_0-rmse:64.6255\n",
            "[7200]\tvalidation_0-rmse:58.4928\n",
            "[7345]\tvalidation_0-rmse:57.8079\n"
          ]
        },
        {
          "output_type": "stream",
          "name": "stderr",
          "text": [
            "\u001b[32m[I 2022-05-18 01:16:30,025]\u001b[0m Trial 2 finished with value: 57.80793371851611 and parameters: {'learning_rate': 0.00010730799963972422, 'reg_lambda': 8.166410280320824e-08, 'reg_alpha': 0.00010074713095049366, 'subsample': 0.2639035023304424, 'colsample_bytree': 0.9996577683023262, 'max_depth': 30, 'early_stopping_rounds': 330, 'n_estimators': 7346}. Best is trial 0 with value: 24.392089368489085.\u001b[0m\n"
          ]
        },
        {
          "output_type": "stream",
          "name": "stdout",
          "text": [
            "[01:16:30] WARNING: /workspace/src/objective/regression_obj.cu:152: reg:linear is now deprecated in favor of reg:squarederror.\n",
            "[0]\tvalidation_0-rmse:112.475\n",
            "Will train until validation_0-rmse hasn't improved in 395 rounds.\n",
            "[1200]\tvalidation_0-rmse:47.9109\n",
            "[2400]\tvalidation_0-rmse:31.7478\n",
            "[3600]\tvalidation_0-rmse:27.0335\n",
            "[4800]\tvalidation_0-rmse:25.2155\n",
            "[6000]\tvalidation_0-rmse:24.315\n",
            "[7200]\tvalidation_0-rmse:23.8464\n",
            "[8400]\tvalidation_0-rmse:23.5839\n",
            "[8673]\tvalidation_0-rmse:23.5427\n"
          ]
        },
        {
          "output_type": "stream",
          "name": "stderr",
          "text": [
            "\u001b[32m[I 2022-05-18 01:16:57,318]\u001b[0m Trial 3 finished with value: 23.54270692322052 and parameters: {'learning_rate': 0.0010217369199817879, 'reg_lambda': 1.517817022826282, 'reg_alpha': 1.7386439315337305e-05, 'subsample': 0.5039634081314414, 'colsample_bytree': 0.7390344428192231, 'max_depth': 32, 'early_stopping_rounds': 395, 'n_estimators': 8674}. Best is trial 3 with value: 23.54270692322052.\u001b[0m\n"
          ]
        },
        {
          "output_type": "stream",
          "name": "stdout",
          "text": [
            "[01:16:57] WARNING: /workspace/src/objective/regression_obj.cu:152: reg:linear is now deprecated in favor of reg:squarederror.\n",
            "[0]\tvalidation_0-rmse:111.814\n",
            "Will train until validation_0-rmse hasn't improved in 366 rounds.\n",
            "[1200]\tvalidation_0-rmse:35.6038\n",
            "[2400]\tvalidation_0-rmse:33.9647\n",
            "Stopping. Best iteration:\n",
            "[2873]\tvalidation_0-rmse:33.3746\n",
            "\n"
          ]
        },
        {
          "output_type": "stream",
          "name": "stderr",
          "text": [
            "\u001b[32m[I 2022-05-18 01:17:00,431]\u001b[0m Trial 4 finished with value: 33.37459033874635 and parameters: {'learning_rate': 0.007395998862901015, 'reg_lambda': 5.390706694026834e-09, 'reg_alpha': 2.38074941879763e-07, 'subsample': 0.004681267957202463, 'colsample_bytree': 0.3250264006885554, 'max_depth': 13, 'early_stopping_rounds': 366, 'n_estimators': 5338}. Best is trial 3 with value: 23.54270692322052.\u001b[0m\n"
          ]
        },
        {
          "output_type": "stream",
          "name": "stdout",
          "text": [
            "[01:17:00] WARNING: /workspace/src/objective/regression_obj.cu:152: reg:linear is now deprecated in favor of reg:squarederror.\n",
            "[0]\tvalidation_0-rmse:111.939\n",
            "Will train until validation_0-rmse hasn't improved in 432 rounds.\n",
            "[1200]\tvalidation_0-rmse:24.6085\n",
            "[2400]\tvalidation_0-rmse:23.5659\n",
            "[3600]\tvalidation_0-rmse:23.3609\n",
            "Stopping. Best iteration:\n",
            "[3602]\tvalidation_0-rmse:23.3591\n",
            "\n"
          ]
        },
        {
          "output_type": "stream",
          "name": "stderr",
          "text": [
            "\u001b[32m[I 2022-05-18 01:17:07,581]\u001b[0m Trial 5 finished with value: 23.35905214298845 and parameters: {'learning_rate': 0.006600332510950178, 'reg_lambda': 0.19561356373114563, 'reg_alpha': 0.15599119716336773, 'subsample': 0.26695334159251866, 'colsample_bytree': 0.2997413542852647, 'max_depth': 12, 'early_stopping_rounds': 432, 'n_estimators': 8985}. Best is trial 5 with value: 23.35905214298845.\u001b[0m\n"
          ]
        },
        {
          "output_type": "stream",
          "name": "stdout",
          "text": [
            "[01:17:07] WARNING: /workspace/src/objective/regression_obj.cu:152: reg:linear is now deprecated in favor of reg:squarederror.\n",
            "[0]\tvalidation_0-rmse:112.438\n",
            "Will train until validation_0-rmse hasn't improved in 696 rounds.\n",
            "[1200]\tvalidation_0-rmse:38.043\n",
            "[2400]\tvalidation_0-rmse:27.9108\n",
            "[3600]\tvalidation_0-rmse:25.8515\n",
            "[4800]\tvalidation_0-rmse:24.9511\n",
            "[6000]\tvalidation_0-rmse:24.4338\n",
            "[6871]\tvalidation_0-rmse:24.2073\n"
          ]
        },
        {
          "output_type": "stream",
          "name": "stderr",
          "text": [
            "\u001b[32m[I 2022-05-18 01:17:19,670]\u001b[0m Trial 6 finished with value: 24.207263380282896 and parameters: {'learning_rate': 0.0013998064776422024, 'reg_lambda': 5.016716999133417e-05, 'reg_alpha': 11.03519846071418, 'subsample': 0.23325874549658993, 'colsample_bytree': 0.4365094584980848, 'max_depth': 22, 'early_stopping_rounds': 696, 'n_estimators': 6872}. Best is trial 5 with value: 23.35905214298845.\u001b[0m\n"
          ]
        },
        {
          "output_type": "stream",
          "name": "stdout",
          "text": [
            "[01:17:19] WARNING: /workspace/src/objective/regression_obj.cu:152: reg:linear is now deprecated in favor of reg:squarederror.\n",
            "[0]\tvalidation_0-rmse:110.108\n",
            "Will train until validation_0-rmse hasn't improved in 644 rounds.\n",
            "[1110]\tvalidation_0-rmse:24.1158\n"
          ]
        },
        {
          "output_type": "stream",
          "name": "stderr",
          "text": [
            "\u001b[32m[I 2022-05-18 01:17:21,294]\u001b[0m Trial 7 finished with value: 24.05609531218478 and parameters: {'learning_rate': 0.02618521265701399, 'reg_lambda': 1.0117178139178895e-09, 'reg_alpha': 0.6943575150697804, 'subsample': 0.7340407923775536, 'colsample_bytree': 0.1786383995021124, 'max_depth': 39, 'early_stopping_rounds': 644, 'n_estimators': 1111}. Best is trial 5 with value: 23.35905214298845.\u001b[0m\n"
          ]
        },
        {
          "output_type": "stream",
          "name": "stdout",
          "text": [
            "[01:17:21] WARNING: /workspace/src/objective/regression_obj.cu:152: reg:linear is now deprecated in favor of reg:squarederror.\n",
            "[0]\tvalidation_0-rmse:107.84\n",
            "Will train until validation_0-rmse hasn't improved in 159 rounds.\n",
            "Stopping. Best iteration:\n",
            "[326]\tvalidation_0-rmse:21.9609\n",
            "\n"
          ]
        },
        {
          "output_type": "stream",
          "name": "stderr",
          "text": [
            "\u001b[32m[I 2022-05-18 01:17:22,545]\u001b[0m Trial 8 finished with value: 21.960861835581746 and parameters: {'learning_rate': 0.04459118609734034, 'reg_lambda': 0.026828351213584418, 'reg_alpha': 0.2533928062297104, 'subsample': 0.3393306689258689, 'colsample_bytree': 0.8302277058366766, 'max_depth': 10, 'early_stopping_rounds': 159, 'n_estimators': 1457}. Best is trial 8 with value: 21.960861835581746.\u001b[0m\n"
          ]
        },
        {
          "output_type": "stream",
          "name": "stdout",
          "text": [
            "[01:17:22] WARNING: /workspace/src/objective/regression_obj.cu:152: reg:linear is now deprecated in favor of reg:squarederror.\n",
            "[0]\tvalidation_0-rmse:112.393\n",
            "Will train until validation_0-rmse hasn't improved in 431 rounds.\n",
            "[78]\tvalidation_0-rmse:99.4539\n"
          ]
        },
        {
          "output_type": "stream",
          "name": "stderr",
          "text": [
            "\u001b[32m[I 2022-05-18 01:17:22,869]\u001b[0m Trial 9 finished with value: 99.45389448323208 and parameters: {'learning_rate': 0.001663243885819165, 'reg_lambda': 0.018530118833953127, 'reg_alpha': 0.120694373281519, 'subsample': 0.8956960489747106, 'colsample_bytree': 0.8405638247267352, 'max_depth': 20, 'early_stopping_rounds': 431, 'n_estimators': 79}. Best is trial 8 with value: 21.960861835581746.\u001b[0m\n"
          ]
        },
        {
          "output_type": "stream",
          "name": "stdout",
          "text": [
            "------------------------------------------------------------------------------------------------------\n",
            "Best Parameters {'learning_rate': 0.04459118609734034, 'reg_lambda': 0.026828351213584418, 'reg_alpha': 0.2533928062297104, 'subsample': 0.3393306689258689, 'colsample_bytree': 0.8302277058366766, 'max_depth': 10, 'early_stopping_rounds': 159, 'n_estimators': 1457}\n",
            "------------------------------------------------------------------------------------------------------\n"
          ]
        }
      ]
    },
    {
      "cell_type": "code",
      "source": [
        "print(\"Approach 4: Using XGBoost with Hyperparameters from Optuna \")\n",
        "print(\"------------------------------------------------------------------------------------------------------\")\n",
        "model = XGBRegressor( early_stopping_rounds=optuna_params_xgb['early_stopping_rounds'],\n",
        "      n_estimators=optuna_params_xgb['n_estimators'],\n",
        "      learning_rate=optuna_params_xgb['learning_rate'],\n",
        "      reg_lambda=optuna_params_xgb['reg_lambda'],\n",
        "      reg_alpha=optuna_params_xgb['reg_alpha'],\n",
        "      subsample=optuna_params_xgb['subsample'],\n",
        "      colsample_bytree=optuna_params_xgb['colsample_bytree'],\n",
        "      max_depth=optuna_params_xgb['max_depth'],)\n",
        "model, xtrain, xtest, ytrain, ytest  = train_model(X,Y, model)\n",
        "#feature_importance(model,X)\n",
        "print(\"Model Accuracy on Test Dataset for XGBoost with Hyperparameters from Optuna\")\n",
        "rmse_xgb_optuna = model_accuracy(model, xtrain, xtest, ytrain, ytest)\n",
        "print(rmse_xgb_optuna)\n",
        "print(\"------------------------------------------------------------------------------------------------------\")"
      ],
      "metadata": {
        "colab": {
          "base_uri": "https://localhost:8080/"
        },
        "id": "fSiM5sHgykwY",
        "outputId": "afc49515-4b50-49cd-e272-d097536199e8"
      },
      "execution_count": 328,
      "outputs": [
        {
          "output_type": "stream",
          "name": "stdout",
          "text": [
            "Approach 4: Using XGBoost with Hyperparameters from Optuna \n",
            "------------------------------------------------------------------------------------------------------\n",
            "[01:17:22] WARNING: /workspace/src/objective/regression_obj.cu:152: reg:linear is now deprecated in favor of reg:squarederror.\n",
            "Model Accuracy on Test Dataset for XGBoost with Hyperparameters from Optuna\n",
            "[01:17:25] WARNING: /workspace/src/objective/regression_obj.cu:152: reg:linear is now deprecated in favor of reg:squarederror.\n",
            "[01:17:28] WARNING: /workspace/src/objective/regression_obj.cu:152: reg:linear is now deprecated in favor of reg:squarederror.\n",
            "[01:17:30] WARNING: /workspace/src/objective/regression_obj.cu:152: reg:linear is now deprecated in favor of reg:squarederror.\n",
            "[01:17:33] WARNING: /workspace/src/objective/regression_obj.cu:152: reg:linear is now deprecated in favor of reg:squarederror.\n",
            "[01:17:35] WARNING: /workspace/src/objective/regression_obj.cu:152: reg:linear is now deprecated in favor of reg:squarederror.\n",
            "Mean cross-validation score: 0.51\n",
            "RMSE: 13.39\n",
            "13.391347305422022\n",
            "------------------------------------------------------------------------------------------------------\n"
          ]
        }
      ]
    },
    {
      "cell_type": "markdown",
      "source": [
        "Comparing the results of all the 4 approaches."
      ],
      "metadata": {
        "id": "kw3IgD3LsC7B"
      }
    },
    {
      "cell_type": "code",
      "source": [
        "#Plotting the RMSE values for all the 4 approaches\n",
        "y_values = np.array([rmse_xgb_gridsearchcv, rmse_svr, rmse_rfr, rmse_xgb_optuna])\n",
        "x_values = np.array(['XGB_GridSearchCV','SVR_GridSearchCV','Random Forest Regressor_GridSearchCV','XGB_Optuna'])\n",
        "plt.ylabel(\"Predictive Models\")\n",
        "plt.xlabel(\"Root Mean Squared Error\")\n",
        "plt.barh(x_values, y_values)\n",
        "plt.show()"
      ],
      "metadata": {
        "colab": {
          "base_uri": "https://localhost:8080/",
          "height": 279
        },
        "id": "cTVHHVsKypGf",
        "outputId": "91b54300-513e-4de4-97bc-082d866144aa"
      },
      "execution_count": 329,
      "outputs": [
        {
          "output_type": "display_data",
          "data": {
            "text/plain": [
              "<Figure size 432x288 with 1 Axes>"
            ],
            "image/png": "[encoded data removed]"
          },
          "metadata": {
            "needs_background": "light"
          }
        }
      ]
    }
  ]
}