{
  "nbformat": 4,
  "nbformat_minor": 0,
  "metadata": {
    "colab": {
      "name": "SalaryPredictor.ipynb",
      "provenance": [],
      "collapsed_sections": [],
      "include_colab_link": true
    },
    "kernelspec": {
      "name": "python3",
      "display_name": "Python 3"
    },
    "language_info": {
      "name": "python"
    }
  },
  "cells": [
    {
      "cell_type": "markdown",
      "metadata": {
        "id": "view-in-github",
        "colab_type": "text"
      },
      "source": [
        "<a href=\"https://colab.research.google.com/github/ShivaniGawande/SalaryEstimator/blob/main/SalaryPredictor.ipynb\" target=\"_parent\"><img src=\"https://colab.research.google.com/assets/colab-badge.svg\" alt=\"Open In Colab\"/></a>"
      ]
    },
    {
      "cell_type": "markdown",
      "source": [
        "This notebook is part of the final project submission for NYU's ECE-6143 Intro to ML course - Spring 22 .\n",
        "\n",
        "This project explores 4 different approaches, namely, XGBoost Regression with GridSearchCV for hyper Parameter tuning, Support Vector Regression, Random Forest Regression and XGBoost Regression with Optuna framework for hyperparameter tuning, to best estimate Data Scientists Salary across US. The data is taken from kaggle dataset on Glassdoor salaries. Link - https://www.kaggle.com/datasets/nikhilbhathi/data-scientist-salary-us-glassdoor \n"
      ],
      "metadata": {
        "id": "NGL_ovc6p-v4"
      }
    },
    {
      "cell_type": "code",
      "execution_count": null,
      "metadata": {
        "colab": {
          "base_uri": "https://localhost:8080/"
        },
        "id": "_ltkDGe6x0jm",
        "outputId": "aed747ef-e9de-4d39-a2a7-64ce1ab3d6b7"
      },
      "outputs": [
        {
          "output_type": "stream",
          "name": "stdout",
          "text": [
            "Requirement already satisfied: optuna in /usr/local/lib/python3.7/dist-packages (2.10.0)\n",
            "Requirement already satisfied: packaging>=20.0 in /usr/local/lib/python3.7/dist-packages (from optuna) (21.3)\n",
            "Requirement already satisfied: cliff in /usr/local/lib/python3.7/dist-packages (from optuna) (3.10.1)\n",
            "Requirement already satisfied: alembic in /usr/local/lib/python3.7/dist-packages (from optuna) (1.7.7)\n",
            "Requirement already satisfied: tqdm in /usr/local/lib/python3.7/dist-packages (from optuna) (4.64.0)\n",
            "Requirement already satisfied: cmaes>=0.8.2 in /usr/local/lib/python3.7/dist-packages (from optuna) (0.8.2)\n",
            "Requirement already satisfied: sqlalchemy>=1.1.0 in /usr/local/lib/python3.7/dist-packages (from optuna) (1.4.36)\n",
            "Requirement already satisfied: colorlog in /usr/local/lib/python3.7/dist-packages (from optuna) (6.6.0)\n",
            "Requirement already satisfied: scipy!=1.4.0 in /usr/local/lib/python3.7/dist-packages (from optuna) (1.4.1)\n",
            "Requirement already satisfied: numpy in /usr/local/lib/python3.7/dist-packages (from optuna) (1.21.6)\n",
            "Requirement already satisfied: PyYAML in /usr/local/lib/python3.7/dist-packages (from optuna) (3.13)\n",
            "Requirement already satisfied: pyparsing!=3.0.5,>=2.0.2 in /usr/local/lib/python3.7/dist-packages (from packaging>=20.0->optuna) (3.0.9)\n",
            "Requirement already satisfied: importlib-metadata in /usr/local/lib/python3.7/dist-packages (from sqlalchemy>=1.1.0->optuna) (4.11.3)\n",
            "Requirement already satisfied: greenlet!=0.4.17 in /usr/local/lib/python3.7/dist-packages (from sqlalchemy>=1.1.0->optuna) (1.1.2)\n",
            "Requirement already satisfied: Mako in /usr/local/lib/python3.7/dist-packages (from alembic->optuna) (1.2.0)\n",
            "Requirement already satisfied: importlib-resources in /usr/local/lib/python3.7/dist-packages (from alembic->optuna) (5.7.1)\n",
            "Requirement already satisfied: autopage>=0.4.0 in /usr/local/lib/python3.7/dist-packages (from cliff->optuna) (0.5.0)\n",
            "Requirement already satisfied: PrettyTable>=0.7.2 in /usr/local/lib/python3.7/dist-packages (from cliff->optuna) (3.3.0)\n",
            "Requirement already satisfied: stevedore>=2.0.1 in /usr/local/lib/python3.7/dist-packages (from cliff->optuna) (3.5.0)\n",
            "Requirement already satisfied: pbr!=2.1.0,>=2.0.0 in /usr/local/lib/python3.7/dist-packages (from cliff->optuna) (5.9.0)\n",
            "Requirement already satisfied: cmd2>=1.0.0 in /usr/local/lib/python3.7/dist-packages (from cliff->optuna) (2.4.1)\n",
            "Requirement already satisfied: wcwidth>=0.1.7 in /usr/local/lib/python3.7/dist-packages (from cmd2>=1.0.0->cliff->optuna) (0.2.5)\n",
            "Requirement already satisfied: typing-extensions in /usr/local/lib/python3.7/dist-packages (from cmd2>=1.0.0->cliff->optuna) (4.2.0)\n",
            "Requirement already satisfied: pyperclip>=1.6 in /usr/local/lib/python3.7/dist-packages (from cmd2>=1.0.0->cliff->optuna) (1.8.2)\n",
            "Requirement already satisfied: attrs>=16.3.0 in /usr/local/lib/python3.7/dist-packages (from cmd2>=1.0.0->cliff->optuna) (21.4.0)\n",
            "Requirement already satisfied: zipp>=0.5 in /usr/local/lib/python3.7/dist-packages (from importlib-metadata->sqlalchemy>=1.1.0->optuna) (3.8.0)\n",
            "Requirement already satisfied: MarkupSafe>=0.9.2 in /usr/local/lib/python3.7/dist-packages (from Mako->alembic->optuna) (2.0.1)\n"
          ]
        }
      ],
      "source": [
        "#install optuna - framework for hyperparameter optimization\n",
        "% pip install optuna"
      ]
    },
    {
      "cell_type": "code",
      "source": [
        "import numpy as np\n",
        "import pandas as pd\n",
        "from sklearn.model_selection import train_test_split\n",
        "from sklearn.svm import SVR\n",
        "from sklearn.ensemble import RandomForestRegressor\n",
        "from sklearn.neural_network import MLPRegressor\n",
        "from sklearn.model_selection import GridSearchCV\n",
        "from sklearn.model_selection import cross_val_score\n",
        "from math import sqrt\n",
        "from sklearn.model_selection import learning_curve\n",
        "from sklearn.model_selection import KFold\n",
        "from sklearn.metrics import mean_squared_error\n",
        "import xgboost as xgb\n",
        "from xgboost import XGBRegressor\n",
        "import optuna\n",
        "import matplotlib.pyplot as plt\n",
        "\n",
        "import warnings\n",
        "warnings.filterwarnings('ignore')"
      ],
      "metadata": {
        "id": "r797OJ96G0d2"
      },
      "execution_count": null,
      "outputs": []
    },
    {
      "cell_type": "code",
      "source": [
        "#Loading data\n",
        "pd.set_option('display.max_columns', None)\n",
        "\n",
        "df = pd.read_csv('https://raw.githubusercontent.com/ShivaniGawande/SalaryEstimator/main/data.csv')\n",
        "df.head()"
      ],
      "metadata": {
        "colab": {
          "base_uri": "https://localhost:8080/",
          "height": 565
        },
        "id": "-H-ZzeKHrLEi",
        "outputId": "92d359b2-2284-40b9-d5a2-c5f768327466"
      },
      "execution_count": null,
      "outputs": [
        {
          "output_type": "execute_result",
          "data": {
            "text/plain": [
              "   index                  Job Title              Salary Estimate  \\\n",
              "0      0             Data Scientist   $53K-$91K (Glassdoor est.)   \n",
              "1      1  Healthcare Data Scientist  $63K-$112K (Glassdoor est.)   \n",
              "2      2             Data Scientist   $80K-$90K (Glassdoor est.)   \n",
              "3      3             Data Scientist   $56K-$97K (Glassdoor est.)   \n",
              "4      4             Data Scientist  $86K-$143K (Glassdoor est.)   \n",
              "\n",
              "                                     Job Description  Rating  \\\n",
              "0  Data Scientist\\nLocation: Albuquerque, NM\\nEdu...     3.8   \n",
              "1  What You Will Do:\\n\\nI. General Summary\\n\\nThe...     3.4   \n",
              "2  KnowBe4, Inc. is a high growth information sec...     4.8   \n",
              "3  *Organization and Job ID**\\nJob ID: 310709\\n\\n...     3.8   \n",
              "4  Data Scientist\\nAffinity Solutions / Marketing...     2.9   \n",
              "\n",
              "                                 Company Name         Location  \\\n",
              "0                      Tecolote Research\\n3.8  Albuquerque, NM   \n",
              "1  University of Maryland Medical System\\n3.4    Linthicum, MD   \n",
              "2                                KnowBe4\\n4.8   Clearwater, FL   \n",
              "3                                   PNNL\\n3.8     Richland, WA   \n",
              "4                     Affinity Solutions\\n2.9     New York, NY   \n",
              "\n",
              "     Headquarters          Size  Founded   Type of ownership  \\\n",
              "0      Goleta, CA   501 - 1000      1973   Company - Private   \n",
              "1   Baltimore, MD       10000+      1984  Other Organization   \n",
              "2  Clearwater, FL   501 - 1000      2010   Company - Private   \n",
              "3    Richland, WA  1001 - 5000      1965          Government   \n",
              "4    New York, NY     51 - 200      1998   Company - Private   \n",
              "\n",
              "                           Industry                        Sector  \\\n",
              "0               Aerospace & Defense           Aerospace & Defense   \n",
              "1  Health Care Services & Hospitals                   Health Care   \n",
              "2                 Security Services             Business Services   \n",
              "3                            Energy  Oil, Gas, Energy & Utilities   \n",
              "4           Advertising & Marketing             Business Services   \n",
              "\n",
              "                            Revenue  \\\n",
              "0         $50 to $100 million (USD)   \n",
              "1            $2 to $5 billion (USD)   \n",
              "2        $100 to $500 million (USD)   \n",
              "3  $500 million to $1 billion (USD)   \n",
              "4          Unknown / Non-Applicable   \n",
              "\n",
              "                                         Competitors  Hourly  \\\n",
              "0                                                 -1       0   \n",
              "1                                                 -1       0   \n",
              "2                                                 -1       0   \n",
              "3  Oak Ridge National Laboratory, National Renewa...       0   \n",
              "4               Commerce Signals, Cardlytics, Yodlee       0   \n",
              "\n",
              "   Employer provided  Lower Salary  Upper Salary  avgSalary  \\\n",
              "0                  0            53            91       72.0   \n",
              "1                  0            63           112       87.5   \n",
              "2                  0            80            90       85.0   \n",
              "3                  0            56            97       76.5   \n",
              "4                  0            86           143      114.5   \n",
              "\n",
              "                             company_txt Job Location  Age  Python  spark  \\\n",
              "0                      Tecolote Research           NM   48       1      0   \n",
              "1  University of Maryland Medical System           MD   37       1      0   \n",
              "2                                KnowBe4           FL   11       1      1   \n",
              "3                                   PNNL           WA   56       1      0   \n",
              "4                     Affinity Solutions           NY   23       1      0   \n",
              "\n",
              "   aws  excel  sql  sas  keras  pytorch  scikit  tensor  hadoop  tableau  bi  \\\n",
              "0    0      1    0    1      0        0       0       0       0        1   1   \n",
              "1    0      0    0    0      0        0       0       0       0        0   0   \n",
              "2    0      1    1    1      0        0       0       0       0        0   0   \n",
              "3    0      0    0    0      0        0       0       0       0        0   0   \n",
              "4    0      1    1    1      0        0       0       0       0        0   0   \n",
              "\n",
              "   flink  mongo  google_an   job_title_sim seniority_by_title Degree  \n",
              "0      0      0          0  data scientist                 na      M  \n",
              "1      0      0          0  data scientist                 na      M  \n",
              "2      0      0          0  data scientist                 na      M  \n",
              "3      0      0          0  data scientist                 na     na  \n",
              "4      0      0          0  data scientist                 na     na  "
            ],
            "text/html": [
              "\n",
              "  <div id=\"df-3c8cc274-61f4-4496-8e2d-ddf4ea4d0700\">\n",
              "    <div class=\"colab-df-container\">\n",
              "      <div>\n",
              "<style scoped>\n",
              "    .dataframe tbody tr th:only-of-type {\n",
              "        vertical-align: middle;\n",
              "    }\n",
              "\n",
              "    .dataframe tbody tr th {\n",
              "        vertical-align: top;\n",
              "    }\n",
              "\n",
              "    .dataframe thead th {\n",
              "        text-align: right;\n",
              "    }\n",
              "</style>\n",
              "<table border=\"1\" class=\"dataframe\">\n",
              "  <thead>\n",
              "    <tr style=\"text-align: right;\">\n",
              "      <th></th>\n",
              "      <th>index</th>\n",
              "      <th>Job Title</th>\n",
              "      <th>Salary Estimate</th>\n",
              "      <th>Job Description</th>\n",
              "      <th>Rating</th>\n",
              "      <th>Company Name</th>\n",
              "      <th>Location</th>\n",
              "      <th>Headquarters</th>\n",
              "      <th>Size</th>\n",
              "      <th>Founded</th>\n",
              "      <th>Type of ownership</th>\n",
              "      <th>Industry</th>\n",
              "      <th>Sector</th>\n",
              "      <th>Revenue</th>\n",
              "      <th>Competitors</th>\n",
              "      <th>Hourly</th>\n",
              "      <th>Employer provided</th>\n",
              "      <th>Lower Salary</th>\n",
              "      <th>Upper Salary</th>\n",
              "      <th>avgSalary</th>\n",
              "      <th>company_txt</th>\n",
              "      <th>Job Location</th>\n",
              "      <th>Age</th>\n",
              "      <th>Python</th>\n",
              "      <th>spark</th>\n",
              "      <th>aws</th>\n",
              "      <th>excel</th>\n",
              "      <th>sql</th>\n",
              "      <th>sas</th>\n",
              "      <th>keras</th>\n",
              "      <th>pytorch</th>\n",
              "      <th>scikit</th>\n",
              "      <th>tensor</th>\n",
              "      <th>hadoop</th>\n",
              "      <th>tableau</th>\n",
              "      <th>bi</th>\n",
              "      <th>flink</th>\n",
              "      <th>mongo</th>\n",
              "      <th>google_an</th>\n",
              "      <th>job_title_sim</th>\n",
              "      <th>seniority_by_title</th>\n",
              "      <th>Degree</th>\n",
              "    </tr>\n",
              "  </thead>\n",
              "  <tbody>\n",
              "    <tr>\n",
              "      <th>0</th>\n",
              "      <td>0</td>\n",
              "      <td>Data Scientist</td>\n",
              "      <td>$53K-$91K (Glassdoor est.)</td>\n",
              "      <td>Data Scientist\\nLocation: Albuquerque, NM\\nEdu...</td>\n",
              "      <td>3.8</td>\n",
              "      <td>Tecolote Research\\n3.8</td>\n",
              "      <td>Albuquerque, NM</td>\n",
              "      <td>Goleta, CA</td>\n",
              "      <td>501 - 1000</td>\n",
              "      <td>1973</td>\n",
              "      <td>Company - Private</td>\n",
              "      <td>Aerospace &amp; Defense</td>\n",
              "      <td>Aerospace &amp; Defense</td>\n",
              "      <td>$50 to $100 million (USD)</td>\n",
              "      <td>-1</td>\n",
              "      <td>0</td>\n",
              "      <td>0</td>\n",
              "      <td>53</td>\n",
              "      <td>91</td>\n",
              "      <td>72.0</td>\n",
              "      <td>Tecolote Research</td>\n",
              "      <td>NM</td>\n",
              "      <td>48</td>\n",
              "      <td>1</td>\n",
              "      <td>0</td>\n",
              "      <td>0</td>\n",
              "      <td>1</td>\n",
              "      <td>0</td>\n",
              "      <td>1</td>\n",
              "      <td>0</td>\n",
              "      <td>0</td>\n",
              "      <td>0</td>\n",
              "      <td>0</td>\n",
              "      <td>0</td>\n",
              "      <td>1</td>\n",
              "      <td>1</td>\n",
              "      <td>0</td>\n",
              "      <td>0</td>\n",
              "      <td>0</td>\n",
              "      <td>data scientist</td>\n",
              "      <td>na</td>\n",
              "      <td>M</td>\n",
              "    </tr>\n",
              "    <tr>\n",
              "      <th>1</th>\n",
              "      <td>1</td>\n",
              "      <td>Healthcare Data Scientist</td>\n",
              "      <td>$63K-$112K (Glassdoor est.)</td>\n",
              "      <td>What You Will Do:\\n\\nI. General Summary\\n\\nThe...</td>\n",
              "      <td>3.4</td>\n",
              "      <td>University of Maryland Medical System\\n3.4</td>\n",
              "      <td>Linthicum, MD</td>\n",
              "      <td>Baltimore, MD</td>\n",
              "      <td>10000+</td>\n",
              "      <td>1984</td>\n",
              "      <td>Other Organization</td>\n",
              "      <td>Health Care Services &amp; Hospitals</td>\n",
              "      <td>Health Care</td>\n",
              "      <td>$2 to $5 billion (USD)</td>\n",
              "      <td>-1</td>\n",
              "      <td>0</td>\n",
              "      <td>0</td>\n",
              "      <td>63</td>\n",
              "      <td>112</td>\n",
              "      <td>87.5</td>\n",
              "      <td>University of Maryland Medical System</td>\n",
              "      <td>MD</td>\n",
              "      <td>37</td>\n",
              "      <td>1</td>\n",
              "      <td>0</td>\n",
              "      <td>0</td>\n",
              "      <td>0</td>\n",
              "      <td>0</td>\n",
              "      <td>0</td>\n",
              "      <td>0</td>\n",
              "      <td>0</td>\n",
              "      <td>0</td>\n",
              "      <td>0</td>\n",
              "      <td>0</td>\n",
              "      <td>0</td>\n",
              "      <td>0</td>\n",
              "      <td>0</td>\n",
              "      <td>0</td>\n",
              "      <td>0</td>\n",
              "      <td>data scientist</td>\n",
              "      <td>na</td>\n",
              "      <td>M</td>\n",
              "    </tr>\n",
              "    <tr>\n",
              "      <th>2</th>\n",
              "      <td>2</td>\n",
              "      <td>Data Scientist</td>\n",
              "      <td>$80K-$90K (Glassdoor est.)</td>\n",
              "      <td>KnowBe4, Inc. is a high growth information sec...</td>\n",
              "      <td>4.8</td>\n",
              "      <td>KnowBe4\\n4.8</td>\n",
              "      <td>Clearwater, FL</td>\n",
              "      <td>Clearwater, FL</td>\n",
              "      <td>501 - 1000</td>\n",
              "      <td>2010</td>\n",
              "      <td>Company - Private</td>\n",
              "      <td>Security Services</td>\n",
              "      <td>Business Services</td>\n",
              "      <td>$100 to $500 million (USD)</td>\n",
              "      <td>-1</td>\n",
              "      <td>0</td>\n",
              "      <td>0</td>\n",
              "      <td>80</td>\n",
              "      <td>90</td>\n",
              "      <td>85.0</td>\n",
              "      <td>KnowBe4</td>\n",
              "      <td>FL</td>\n",
              "      <td>11</td>\n",
              "      <td>1</td>\n",
              "      <td>1</td>\n",
              "      <td>0</td>\n",
              "      <td>1</td>\n",
              "      <td>1</td>\n",
              "      <td>1</td>\n",
              "      <td>0</td>\n",
              "      <td>0</td>\n",
              "      <td>0</td>\n",
              "      <td>0</td>\n",
              "      <td>0</td>\n",
              "      <td>0</td>\n",
              "      <td>0</td>\n",
              "      <td>0</td>\n",
              "      <td>0</td>\n",
              "      <td>0</td>\n",
              "      <td>data scientist</td>\n",
              "      <td>na</td>\n",
              "      <td>M</td>\n",
              "    </tr>\n",
              "    <tr>\n",
              "      <th>3</th>\n",
              "      <td>3</td>\n",
              "      <td>Data Scientist</td>\n",
              "      <td>$56K-$97K (Glassdoor est.)</td>\n",
              "      <td>*Organization and Job ID**\\nJob ID: 310709\\n\\n...</td>\n",
              "      <td>3.8</td>\n",
              "      <td>PNNL\\n3.8</td>\n",
              "      <td>Richland, WA</td>\n",
              "      <td>Richland, WA</td>\n",
              "      <td>1001 - 5000</td>\n",
              "      <td>1965</td>\n",
              "      <td>Government</td>\n",
              "      <td>Energy</td>\n",
              "      <td>Oil, Gas, Energy &amp; Utilities</td>\n",
              "      <td>$500 million to $1 billion (USD)</td>\n",
              "      <td>Oak Ridge National Laboratory, National Renewa...</td>\n",
              "      <td>0</td>\n",
              "      <td>0</td>\n",
              "      <td>56</td>\n",
              "      <td>97</td>\n",
              "      <td>76.5</td>\n",
              "      <td>PNNL</td>\n",
              "      <td>WA</td>\n",
              "      <td>56</td>\n",
              "      <td>1</td>\n",
              "      <td>0</td>\n",
              "      <td>0</td>\n",
              "      <td>0</td>\n",
              "      <td>0</td>\n",
              "      <td>0</td>\n",
              "      <td>0</td>\n",
              "      <td>0</td>\n",
              "      <td>0</td>\n",
              "      <td>0</td>\n",
              "      <td>0</td>\n",
              "      <td>0</td>\n",
              "      <td>0</td>\n",
              "      <td>0</td>\n",
              "      <td>0</td>\n",
              "      <td>0</td>\n",
              "      <td>data scientist</td>\n",
              "      <td>na</td>\n",
              "      <td>na</td>\n",
              "    </tr>\n",
              "    <tr>\n",
              "      <th>4</th>\n",
              "      <td>4</td>\n",
              "      <td>Data Scientist</td>\n",
              "      <td>$86K-$143K (Glassdoor est.)</td>\n",
              "      <td>Data Scientist\\nAffinity Solutions / Marketing...</td>\n",
              "      <td>2.9</td>\n",
              "      <td>Affinity Solutions\\n2.9</td>\n",
              "      <td>New York, NY</td>\n",
              "      <td>New York, NY</td>\n",
              "      <td>51 - 200</td>\n",
              "      <td>1998</td>\n",
              "      <td>Company - Private</td>\n",
              "      <td>Advertising &amp; Marketing</td>\n",
              "      <td>Business Services</td>\n",
              "      <td>Unknown / Non-Applicable</td>\n",
              "      <td>Commerce Signals, Cardlytics, Yodlee</td>\n",
              "      <td>0</td>\n",
              "      <td>0</td>\n",
              "      <td>86</td>\n",
              "      <td>143</td>\n",
              "      <td>114.5</td>\n",
              "      <td>Affinity Solutions</td>\n",
              "      <td>NY</td>\n",
              "      <td>23</td>\n",
              "      <td>1</td>\n",
              "      <td>0</td>\n",
              "      <td>0</td>\n",
              "      <td>1</td>\n",
              "      <td>1</td>\n",
              "      <td>1</td>\n",
              "      <td>0</td>\n",
              "      <td>0</td>\n",
              "      <td>0</td>\n",
              "      <td>0</td>\n",
              "      <td>0</td>\n",
              "      <td>0</td>\n",
              "      <td>0</td>\n",
              "      <td>0</td>\n",
              "      <td>0</td>\n",
              "      <td>0</td>\n",
              "      <td>data scientist</td>\n",
              "      <td>na</td>\n",
              "      <td>na</td>\n",
              "    </tr>\n",
              "  </tbody>\n",
              "</table>\n",
              "</div>\n",
              "      <button class=\"colab-df-convert\" onclick=\"convertToInteractive('df-3c8cc274-61f4-4496-8e2d-ddf4ea4d0700')\"\n",
              "              title=\"Convert this dataframe to an interactive table.\"\n",
              "              style=\"display:none;\">\n",
              "        \n",
              "  <svg xmlns=\"http://www.w3.org/2000/svg\" height=\"24px\"viewBox=\"0 0 24 24\"\n",
              "       width=\"24px\">\n",
              "    <path d=\"M0 0h24v24H0V0z\" fill=\"none\"/>\n",
              "    <path d=\"M18.56 5.44l.94 2.06.94-2.06 2.06-.94-2.06-.94-.94-2.06-.94 2.06-2.06.94zm-11 1L8.5 8.5l.94-2.06 2.06-.94-2.06-.94L8.5 2.5l-.94 2.06-2.06.94zm10 10l.94 2.06.94-2.06 2.06-.94-2.06-.94-.94-2.06-.94 2.06-2.06.94z\"/><path d=\"M17.41 7.96l-1.37-1.37c-.4-.4-.92-.59-1.43-.59-.52 0-1.04.2-1.43.59L10.3 9.45l-7.72 7.72c-.78.78-.78 2.05 0 2.83L4 21.41c.39.39.9.59 1.41.59.51 0 1.02-.2 1.41-.59l7.78-7.78 2.81-2.81c.8-.78.8-2.07 0-2.86zM5.41 20L4 18.59l7.72-7.72 1.47 1.35L5.41 20z\"/>\n",
              "  </svg>\n",
              "      </button>\n",
              "      \n",
              "  <style>\n",
              "    .colab-df-container {\n",
              "      display:flex;\n",
              "      flex-wrap:wrap;\n",
              "      gap: 12px;\n",
              "    }\n",
              "\n",
              "    .colab-df-convert {\n",
              "      background-color: #E8F0FE;\n",
              "      border: none;\n",
              "      border-radius: 50%;\n",
              "      cursor: pointer;\n",
              "      display: none;\n",
              "      fill: #1967D2;\n",
              "      height: 32px;\n",
              "      padding: 0 0 0 0;\n",
              "      width: 32px;\n",
              "    }\n",
              "\n",
              "    .colab-df-convert:hover {\n",
              "      background-color: #E2EBFA;\n",
              "      box-shadow: 0px 1px 2px rgba(60, 64, 67, 0.3), 0px 1px 3px 1px rgba(60, 64, 67, 0.15);\n",
              "      fill: #174EA6;\n",
              "    }\n",
              "\n",
              "    [theme=dark] .colab-df-convert {\n",
              "      background-color: #3B4455;\n",
              "      fill: #D2E3FC;\n",
              "    }\n",
              "\n",
              "    [theme=dark] .colab-df-convert:hover {\n",
              "      background-color: #434B5C;\n",
              "      box-shadow: 0px 1px 3px 1px rgba(0, 0, 0, 0.15);\n",
              "      filter: drop-shadow(0px 1px 2px rgba(0, 0, 0, 0.3));\n",
              "      fill: #FFFFFF;\n",
              "    }\n",
              "  </style>\n",
              "\n",
              "      <script>\n",
              "        const buttonEl =\n",
              "          document.querySelector('#df-3c8cc274-61f4-4496-8e2d-ddf4ea4d0700 button.colab-df-convert');\n",
              "        buttonEl.style.display =\n",
              "          google.colab.kernel.accessAllowed ? 'block' : 'none';\n",
              "\n",
              "        async function convertToInteractive(key) {\n",
              "          const element = document.querySelector('#df-3c8cc274-61f4-4496-8e2d-ddf4ea4d0700');\n",
              "          const dataTable =\n",
              "            await google.colab.kernel.invokeFunction('convertToInteractive',\n",
              "                                                     [key], {});\n",
              "          if (!dataTable) return;\n",
              "\n",
              "          const docLinkHtml = 'Like what you see? Visit the ' +\n",
              "            '<a target=\"_blank\" href=https://colab.research.google.com/notebooks/data_table.ipynb>data table notebook</a>'\n",
              "            + ' to learn more about interactive tables.';\n",
              "          element.innerHTML = '';\n",
              "          dataTable['output_type'] = 'display_data';\n",
              "          await google.colab.output.renderOutput(dataTable, element);\n",
              "          const docLink = document.createElement('div');\n",
              "          docLink.innerHTML = docLinkHtml;\n",
              "          element.appendChild(docLink);\n",
              "        }\n",
              "      </script>\n",
              "    </div>\n",
              "  </div>\n",
              "  "
            ]
          },
          "metadata": {},
          "execution_count": 27
        }
      ]
    },
    {
      "cell_type": "code",
      "source": [
        "def approach1_XGBRegressor():\n",
        "    xgb = XGBRegressor()\n",
        "    parameters = {'learning_rate': [.01, 0.1, .03], \n",
        "              'max_depth': [5, 7, 9],\n",
        "              'n_estimators': [100,200,300]}\n",
        "    #Using GridSearchCV for hyperparameter optimization\n",
        "    xgb_grid = GridSearchCV(xgb, parameters, cv = 2, n_jobs = 5, verbose=True)\n",
        "    return xgb_grid"
      ],
      "metadata": {
        "id": "oeeX3hZbyS_e"
      },
      "execution_count": null,
      "outputs": []
    },
    {
      "cell_type": "code",
      "source": [
        "def approach2_SVRRegressor():\n",
        "    #SVR(kernel=\"rbf\", C=100, gamma=0.1, epsilon=0.1)\n",
        "    svr = SVR()\n",
        "    parameters = {'C': [0.1,1, 10, 100], 'gamma': [1,0.1,0.01,0.001],'kernel': ['rbf']}\n",
        "    #Using GridSearchCV for hyperparameter optimization\n",
        "    svr_grid = GridSearchCV(svr, parameters, cv=2, n_jobs = 5, verbose=True)\n",
        "    return svr_grid\n"
      ],
      "metadata": {
        "id": "BJXY_xOBzEV8"
      },
      "execution_count": null,
      "outputs": []
    },
    {
      "cell_type": "code",
      "source": [
        "\n",
        "def approach3_RandomForestRegressor():\n",
        "    #RandomForestRegressor(max_depth=2, random_state=0)\n",
        "    rfr= RandomForestRegressor()\n",
        "    parameters = {'max_depth': [40, 50, 60],\n",
        "    'min_samples_leaf': [1, 2, 3],\n",
        "    'min_samples_split': [4, 5, 6],\n",
        "    'n_estimators': [150, 200]}\n",
        "    #Using GridSearchCV for hyperparameter optimization\n",
        "    rfr_grid = GridSearchCV(rfr, parameters, cv=2, n_jobs = 5, verbose=True)\n",
        "    return rfr_grid"
      ],
      "metadata": {
        "id": "ZSJM2xbZzF4d"
      },
      "execution_count": null,
      "outputs": []
    },
    {
      "cell_type": "code",
      "source": [
        "def model_accuracy(model, Xtrain, Xtest, ytrain, ytest):\n",
        "    scores = cross_val_score(model, Xtrain, ytrain, cv=5)\n",
        "    print(\"Average cross-validation score is: %.2f\" % scores.mean())\n",
        "    ypred = model.predict(Xtest)\n",
        "    rmse = sqrt(mean_squared_error(ytest, ypred))\n",
        "    print(\"RMSE: %.2f\" % rmse)\n",
        "    return rmse\n",
        "\n",
        "def train_model(x,y, model):\n",
        "    Xtrain, Xtest, ytrain, ytest = train_test_split(x, y, test_size=0.2)\n",
        "    model.fit(xtrain, ytrain)\n",
        "    #print(\" Best Params : \", model.best_params_)\n",
        "    #print(xtest)\n",
        "    return model, Xtrain, Xtest, ytrain, ytest"
      ],
      "metadata": {
        "id": "UQqev-5k_SeS"
      },
      "execution_count": null,
      "outputs": []
    },
    {
      "cell_type": "code",
      "source": [
        "Y = df['avgSalary']\n",
        "feature_columns = ['Rating',\t'Python',\t'spark',\t'aws',\t'excel',\t'sql',\t'sas',\t'keras',\t'pytorch',\t'scikit',\t'tensor',\t'hadoop',\t'tableau',\t'bi',\t'flink',\t'mongo',\t'google_an',\t'Job Location',\t'Size',\t'Type of ownership',\t'Industry',\t'Sector', 'seniority_by_title', 'Degree']\n",
        "X = df[feature_columns]\n",
        "for col in [\"Job Location\", \"Industry\", \"Sector\", \"seniority_by_title\", \"Degree\", \"Size\", \"Type of ownership\"]:\n",
        "    X[col] = X[col].astype('category')\n",
        "    X[col] = X[col].cat.codes\n",
        "\n",
        "print(\"------------------------------------------------------------------------------------------------------\")\n",
        "print(\"Approach 1: Using XGB\")\n",
        "model = approach1_XGBRegressor()\n",
        "model, xtrain, xtest, ytrain, ytest  = train_model(X,Y, model)\n",
        "print(\"Model Accuracy on Test Dataset for XGBoost Regressor\")\n",
        "rmse_xgb_gridsearchcv = model_accuracy(model, xtrain, xtest, ytrain, ytest)\n",
        "print(rmse_xgb_gridsearchcv)\n",
        "\n",
        "print(\"------------------------------------------------------------------------------------------------------\")\n",
        "print(\"Approach 2: Using SVR\")\n",
        "model = approach2_SVRRegressor()\n",
        "model, xtrain, xtest, ytrain, ytest  = train_model(X,Y, model)\n",
        "print(\"Model Accuracy on Test Dataset for Support Vector Regressor\")\n",
        "rmse_svr = model_accuracy(model, xtrain, xtest, ytrain, ytest)\n",
        "print(rmse_svr)\n",
        "\n",
        "print(\"------------------------------------------------------------------------------------------------------\")\n",
        "print(\"Approach 3: Using Random Forest Regressor\")\n",
        "model = approach3_RandomForestRegressor()\n",
        "model, xtrain, xtest, ytrain, ytest  = train_model(X,Y, model)\n",
        "print(\"Model Accuracy on Test Dataset for Random Forest Regressor\")\n",
        "rmse_rfr = model_accuracy(model, xtrain, xtest, ytrain, ytest)\n",
        "print(rmse_rfr)\n",
        "print(\"------------------------------------------------------------------------------------------------------\")"
      ],
      "metadata": {
        "colab": {
          "base_uri": "https://localhost:8080/"
        },
        "id": "V4KUvj3xyZWk",
        "outputId": "c70b5a6f-10bb-4f55-c3e3-f0ec5a7b9cf0"
      },
      "execution_count": null,
      "outputs": [
        {
          "output_type": "stream",
          "name": "stdout",
          "text": [
            "------------------------------------------------------------------------------------------------------\n",
            "Approach 1: Using XGB\n",
            "Fitting 2 folds for each of 27 candidates, totalling 54 fits\n",
            "[03:12:01] WARNING: /workspace/src/objective/regression_obj.cu:152: reg:linear is now deprecated in favor of reg:squarederror.\n",
            "Model Accuracy on Test Dataset for XGBoost Regressor\n",
            "Fitting 2 folds for each of 27 candidates, totalling 54 fits\n",
            "[03:12:09] WARNING: /workspace/src/objective/regression_obj.cu:152: reg:linear is now deprecated in favor of reg:squarederror.\n",
            "Fitting 2 folds for each of 27 candidates, totalling 54 fits\n",
            "[03:12:17] WARNING: /workspace/src/objective/regression_obj.cu:152: reg:linear is now deprecated in favor of reg:squarederror.\n",
            "Fitting 2 folds for each of 27 candidates, totalling 54 fits\n",
            "[03:12:26] WARNING: /workspace/src/objective/regression_obj.cu:152: reg:linear is now deprecated in favor of reg:squarederror.\n",
            "Fitting 2 folds for each of 27 candidates, totalling 54 fits\n",
            "[03:12:34] WARNING: /workspace/src/objective/regression_obj.cu:152: reg:linear is now deprecated in favor of reg:squarederror.\n",
            "Fitting 2 folds for each of 27 candidates, totalling 54 fits\n",
            "[03:12:43] WARNING: /workspace/src/objective/regression_obj.cu:152: reg:linear is now deprecated in favor of reg:squarederror.\n",
            "Average cross-validation score is: 0.50\n",
            "RMSE: 38.03\n",
            "38.032076808249634\n",
            "------------------------------------------------------------------------------------------------------\n",
            "Approach 2: Using SVR\n",
            "Fitting 2 folds for each of 16 candidates, totalling 32 fits\n",
            "Model Accuracy on Test Dataset for Support Vector Regressor\n",
            "Fitting 2 folds for each of 16 candidates, totalling 32 fits\n",
            "Fitting 2 folds for each of 16 candidates, totalling 32 fits\n",
            "Fitting 2 folds for each of 16 candidates, totalling 32 fits\n",
            "Fitting 2 folds for each of 16 candidates, totalling 32 fits\n",
            "Fitting 2 folds for each of 16 candidates, totalling 32 fits\n",
            "Average cross-validation score is: 0.48\n",
            "RMSE: 41.57\n",
            "41.5696106076902\n",
            "------------------------------------------------------------------------------------------------------\n",
            "Approach 3: Using Random Forest Regressor\n",
            "Fitting 2 folds for each of 54 candidates, totalling 108 fits\n",
            "Model Accuracy on Test Dataset for Random Forest Regressor\n",
            "Fitting 2 folds for each of 54 candidates, totalling 108 fits\n",
            "Fitting 2 folds for each of 54 candidates, totalling 108 fits\n",
            "Fitting 2 folds for each of 54 candidates, totalling 108 fits\n",
            "Fitting 2 folds for each of 54 candidates, totalling 108 fits\n",
            "Fitting 2 folds for each of 54 candidates, totalling 108 fits\n",
            "Average cross-validation score is: 0.52\n",
            "RMSE: 38.30\n",
            "38.2985961691368\n",
            "------------------------------------------------------------------------------------------------------\n"
          ]
        }
      ]
    },
    {
      "cell_type": "code",
      "source": [
        "xtrain, xtest, ytrain, ytest=train_test_split(X, Y, test_size=0.2)"
      ],
      "metadata": {
        "id": "sdfKp8vtRpRb"
      },
      "execution_count": null,
      "outputs": []
    },
    {
      "cell_type": "markdown",
      "source": [
        "Using Optuna Framework for hyperparameter optimization.\n",
        "\n",
        "The following code is referenced from the use of Optuna framework in Cagri Karadeniz's Notebook - https://www.kaggle.com/code/arkaradeniz/ds-salary-forecasting#ALL-FUNCTIONS which he used for Light Gradient Boosting Model (LGBM) to optimize the hyperparameters in order to reduce the value of root mean squared error. \n",
        "\n",
        "I have used similar approach for XGBoost Model."
      ],
      "metadata": {
        "id": "U77pT3X6mzH6"
      }
    },
    {
      "cell_type": "code",
      "source": [
        "def objective_XGB(trial):\n",
        "   learning_rate = trial.suggest_float(\"learning_rate\", 1e-4, 0.25, log=True)\n",
        "   reg_lambda = trial.suggest_loguniform(\"reg_lambda\", 1e-9, 100.0)\n",
        "   reg_alpha = trial.suggest_loguniform(\"reg_alpha\", 1e-9, 100.0)\n",
        "   subsample = trial.suggest_float(\"subsample\", 0.0001, 1.0)\n",
        "   colsample_bytree = trial.suggest_float(\"colsample_bytree\", 0.0001, 1.0)\n",
        "   max_depth = trial.suggest_int(\"max_depth\", 1, 50)\n",
        "   early_stopping_rounds = trial.suggest_int(\"early_stopping_rounds\", 100, 700)\n",
        "   n_estimators = trial.suggest_int(\"n_estimators\", 0, 10000)\n",
        "\n",
        "   model = XGBRegressor(\n",
        "      random_state=50,\n",
        "      n_estimators=n_estimators,\n",
        "      learning_rate=learning_rate,\n",
        "      reg_lambda=reg_lambda,\n",
        "      reg_alpha=reg_alpha,\n",
        "      subsample=subsample,\n",
        "      colsample_bytree=colsample_bytree,\n",
        "      max_depth=max_depth,\n",
        "   )\n",
        "   model.fit(xtrain,ytrain,\n",
        "      early_stopping_rounds=early_stopping_rounds,\n",
        "      eval_set=[(xtest,ytest)],\n",
        "      verbose=1200\n",
        "   )\n",
        "   preds_valid = model.predict(xtest)\n",
        "   rmse = mean_squared_error(ytest, preds_valid, squared=False)\n",
        "\n",
        "   return rmse\n",
        "\n"
      ],
      "metadata": {
        "id": "czUl6Cj1P84R"
      },
      "execution_count": null,
      "outputs": []
    },
    {
      "cell_type": "markdown",
      "source": [
        "Extracting best params from the Optuna optimizier."
      ],
      "metadata": {
        "id": "MIeimt0Gmv3M"
      }
    },
    {
      "cell_type": "code",
      "source": [
        "study_xgb = optuna.create_study(direction=\"minimize\")\n",
        "study_xgb.optimize(objective_XGB, n_trials=10)\n",
        "\n",
        "optuna_params_xgb = study_xgb.best_params\n",
        "print(\"------------------------------------------------------------------------------------------------------\")\n",
        "print(\"Best Parameters\" , optuna_params_xgb)\n",
        "print(\"------------------------------------------------------------------------------------------------------\")"
      ],
      "metadata": {
        "colab": {
          "base_uri": "https://localhost:8080/"
        },
        "id": "wK9SOCn4KeY4",
        "outputId": "18261abf-b497-45c7-b0ad-1706b842b1d2"
      },
      "execution_count": null,
      "outputs": [
        {
          "output_type": "stream",
          "name": "stderr",
          "text": [
            "\u001b[32m[I 2022-05-18 03:15:39,489]\u001b[0m A new study created in memory with name: no-name-8c6c5887-ef96-4e63-9efe-4256ba365459\u001b[0m\n"
          ]
        },
        {
          "output_type": "stream",
          "name": "stdout",
          "text": [
            "[03:15:39] WARNING: /workspace/src/objective/regression_obj.cu:152: reg:linear is now deprecated in favor of reg:squarederror.\n",
            "[0]\tvalidation_0-rmse:109.033\n",
            "Will train until validation_0-rmse hasn't improved in 222 rounds.\n",
            "[1200]\tvalidation_0-rmse:25.2744\n",
            "[1896]\tvalidation_0-rmse:24.8122\n"
          ]
        },
        {
          "output_type": "stream",
          "name": "stderr",
          "text": [
            "\u001b[32m[I 2022-05-18 03:15:42,000]\u001b[0m Trial 0 finished with value: 24.799107573841543 and parameters: {'learning_rate': 0.04281346212708749, 'reg_lambda': 2.1891061849565442e-07, 'reg_alpha': 8.42055336933291e-09, 'subsample': 0.9348737752782929, 'colsample_bytree': 0.08998458724119367, 'max_depth': 41, 'early_stopping_rounds': 222, 'n_estimators': 1897}. Best is trial 0 with value: 24.799107573841543.\u001b[0m\n"
          ]
        },
        {
          "output_type": "stream",
          "name": "stdout",
          "text": [
            "[03:15:42] WARNING: /workspace/src/objective/regression_obj.cu:152: reg:linear is now deprecated in favor of reg:squarederror.\n",
            "[0]\tvalidation_0-rmse:112.984\n",
            "Will train until validation_0-rmse hasn't improved in 418 rounds.\n",
            "[1200]\tvalidation_0-rmse:65.6663\n",
            "[2400]\tvalidation_0-rmse:42.7775\n",
            "[3600]\tvalidation_0-rmse:33.0449\n",
            "[4800]\tvalidation_0-rmse:29.4896\n",
            "[5984]\tvalidation_0-rmse:28.2941\n"
          ]
        },
        {
          "output_type": "stream",
          "name": "stderr",
          "text": [
            "\u001b[32m[I 2022-05-18 03:16:21,655]\u001b[0m Trial 1 finished with value: 28.294138858802594 and parameters: {'learning_rate': 0.0005123776695158094, 'reg_lambda': 0.005068370926948244, 'reg_alpha': 0.0008262516380125823, 'subsample': 0.972749478702566, 'colsample_bytree': 0.9700490993568377, 'max_depth': 37, 'early_stopping_rounds': 418, 'n_estimators': 5985}. Best is trial 0 with value: 24.799107573841543.\u001b[0m\n"
          ]
        },
        {
          "output_type": "stream",
          "name": "stdout",
          "text": [
            "[03:16:21] WARNING: /workspace/src/objective/regression_obj.cu:152: reg:linear is now deprecated in favor of reg:squarederror.\n",
            "[0]\tvalidation_0-rmse:112.767\n",
            "Will train until validation_0-rmse hasn't improved in 221 rounds.\n",
            "[1200]\tvalidation_0-rmse:35.3237\n",
            "[2400]\tvalidation_0-rmse:33.0549\n",
            "[3600]\tvalidation_0-rmse:32.1235\n",
            "[4800]\tvalidation_0-rmse:31.5324\n",
            "[6000]\tvalidation_0-rmse:31.206\n",
            "[7200]\tvalidation_0-rmse:30.9879\n",
            "[8400]\tvalidation_0-rmse:30.8208\n",
            "[8886]\tvalidation_0-rmse:30.7761\n"
          ]
        },
        {
          "output_type": "stream",
          "name": "stderr",
          "text": [
            "\u001b[32m[I 2022-05-18 03:16:30,450]\u001b[0m Trial 2 finished with value: 30.77608534601111 and parameters: {'learning_rate': 0.002864148338721899, 'reg_lambda': 0.0005823749430660706, 'reg_alpha': 2.274705542025864e-09, 'subsample': 0.7967477809779063, 'colsample_bytree': 0.03483786386440785, 'max_depth': 43, 'early_stopping_rounds': 221, 'n_estimators': 8887}. Best is trial 0 with value: 24.799107573841543.\u001b[0m\n"
          ]
        },
        {
          "output_type": "stream",
          "name": "stdout",
          "text": [
            "[03:16:30] WARNING: /workspace/src/objective/regression_obj.cu:152: reg:linear is now deprecated in favor of reg:squarederror.\n",
            "[0]\tvalidation_0-rmse:98.7059\n",
            "Will train until validation_0-rmse hasn't improved in 557 rounds.\n",
            "Stopping. Best iteration:\n",
            "[119]\tvalidation_0-rmse:22.6188\n",
            "\n"
          ]
        },
        {
          "output_type": "stream",
          "name": "stderr",
          "text": [
            "\u001b[32m[I 2022-05-18 03:16:31,718]\u001b[0m Trial 3 finished with value: 22.61883072734654 and parameters: {'learning_rate': 0.14297769405750396, 'reg_lambda': 0.02611803338502405, 'reg_alpha': 3.8921264267071333e-07, 'subsample': 0.737240930329532, 'colsample_bytree': 0.3295781441612595, 'max_depth': 10, 'early_stopping_rounds': 557, 'n_estimators': 7351}. Best is trial 3 with value: 22.61883072734654.\u001b[0m\n"
          ]
        },
        {
          "output_type": "stream",
          "name": "stdout",
          "text": [
            "[03:16:31] WARNING: /workspace/src/objective/regression_obj.cu:152: reg:linear is now deprecated in favor of reg:squarederror.\n",
            "[0]\tvalidation_0-rmse:110.483\n",
            "Will train until validation_0-rmse hasn't improved in 673 rounds.\n",
            "[1200]\tvalidation_0-rmse:21.6096\n",
            "Stopping. Best iteration:\n",
            "[562]\tvalidation_0-rmse:21.3895\n",
            "\n"
          ]
        },
        {
          "output_type": "stream",
          "name": "stderr",
          "text": [
            "\u001b[32m[I 2022-05-18 03:16:35,905]\u001b[0m Trial 4 finished with value: 21.389466764626704 and parameters: {'learning_rate': 0.02280319295460174, 'reg_lambda': 1.4679871921137863e-09, 'reg_alpha': 0.00013415235910429078, 'subsample': 0.30378215691666627, 'colsample_bytree': 0.7700744555981499, 'max_depth': 41, 'early_stopping_rounds': 673, 'n_estimators': 4914}. Best is trial 4 with value: 21.389466764626704.\u001b[0m\n"
          ]
        },
        {
          "output_type": "stream",
          "name": "stdout",
          "text": [
            "[03:16:35] WARNING: /workspace/src/objective/regression_obj.cu:152: reg:linear is now deprecated in favor of reg:squarederror.\n",
            "[0]\tvalidation_0-rmse:112.957\n",
            "Will train until validation_0-rmse hasn't improved in 503 rounds.\n",
            "[132]\tvalidation_0-rmse:103.086\n"
          ]
        },
        {
          "output_type": "stream",
          "name": "stderr",
          "text": [
            "\u001b[32m[I 2022-05-18 03:16:36,069]\u001b[0m Trial 5 finished with value: 103.08594014014948 and parameters: {'learning_rate': 0.0010713772862202904, 'reg_lambda': 71.42614064008723, 'reg_alpha': 0.0024536066459743015, 'subsample': 0.4535310465209828, 'colsample_bytree': 0.9878719603973466, 'max_depth': 41, 'early_stopping_rounds': 503, 'n_estimators': 133}. Best is trial 4 with value: 21.389466764626704.\u001b[0m\n"
          ]
        },
        {
          "output_type": "stream",
          "name": "stdout",
          "text": [
            "[03:16:36] WARNING: /workspace/src/objective/regression_obj.cu:152: reg:linear is now deprecated in favor of reg:squarederror.\n",
            "[0]\tvalidation_0-rmse:112.421\n",
            "Will train until validation_0-rmse hasn't improved in 655 rounds.\n",
            "[1200]\tvalidation_0-rmse:29.7962\n",
            "[2400]\tvalidation_0-rmse:28.6166\n",
            "[3600]\tvalidation_0-rmse:27.9208\n",
            "[4456]\tvalidation_0-rmse:27.5363\n"
          ]
        },
        {
          "output_type": "stream",
          "name": "stderr",
          "text": [
            "\u001b[32m[I 2022-05-18 03:16:41,124]\u001b[0m Trial 6 finished with value: 27.534616145734176 and parameters: {'learning_rate': 0.006985799285980522, 'reg_lambda': 19.548625975439798, 'reg_alpha': 2.9264466134265955e-06, 'subsample': 0.5059315851629794, 'colsample_bytree': 0.35479454752274425, 'max_depth': 3, 'early_stopping_rounds': 655, 'n_estimators': 4457}. Best is trial 4 with value: 21.389466764626704.\u001b[0m\n"
          ]
        },
        {
          "output_type": "stream",
          "name": "stdout",
          "text": [
            "[03:16:41] WARNING: /workspace/src/objective/regression_obj.cu:152: reg:linear is now deprecated in favor of reg:squarederror.\n",
            "[0]\tvalidation_0-rmse:109.487\n",
            "Will train until validation_0-rmse hasn't improved in 331 rounds.\n",
            "Stopping. Best iteration:\n",
            "[210]\tvalidation_0-rmse:22.8798\n",
            "\n"
          ]
        },
        {
          "output_type": "stream",
          "name": "stderr",
          "text": [
            "\u001b[32m[I 2022-05-18 03:16:42,623]\u001b[0m Trial 7 finished with value: 22.879836541306982 and parameters: {'learning_rate': 0.034243064073094256, 'reg_lambda': 0.00045421271914022996, 'reg_alpha': 0.48026781721268347, 'subsample': 0.8013665387263925, 'colsample_bytree': 0.8321642904700354, 'max_depth': 10, 'early_stopping_rounds': 331, 'n_estimators': 9082}. Best is trial 4 with value: 21.389466764626704.\u001b[0m\n"
          ]
        },
        {
          "output_type": "stream",
          "name": "stdout",
          "text": [
            "[03:16:42] WARNING: /workspace/src/objective/regression_obj.cu:152: reg:linear is now deprecated in favor of reg:squarederror.\n",
            "[0]\tvalidation_0-rmse:111.41\n",
            "Will train until validation_0-rmse hasn't improved in 692 rounds.\n",
            "[1200]\tvalidation_0-rmse:31.2396\n",
            "[1377]\tvalidation_0-rmse:30.9704\n"
          ]
        },
        {
          "output_type": "stream",
          "name": "stderr",
          "text": [
            "\u001b[32m[I 2022-05-18 03:16:44,016]\u001b[0m Trial 8 finished with value: 30.970439015227214 and parameters: {'learning_rate': 0.017333300187849777, 'reg_lambda': 2.3664752863407973e-07, 'reg_alpha': 0.2096053876804123, 'subsample': 0.40806416165353626, 'colsample_bytree': 0.0410169257539906, 'max_depth': 44, 'early_stopping_rounds': 692, 'n_estimators': 1378}. Best is trial 4 with value: 21.389466764626704.\u001b[0m\n"
          ]
        },
        {
          "output_type": "stream",
          "name": "stdout",
          "text": [
            "[03:16:44] WARNING: /workspace/src/objective/regression_obj.cu:152: reg:linear is now deprecated in favor of reg:squarederror.\n",
            "[0]\tvalidation_0-rmse:112.943\n",
            "Will train until validation_0-rmse hasn't improved in 488 rounds.\n",
            "[1200]\tvalidation_0-rmse:51.1991\n",
            "[2400]\tvalidation_0-rmse:38.1496\n",
            "[3600]\tvalidation_0-rmse:35.2768\n",
            "[4800]\tvalidation_0-rmse:34.1446\n",
            "[6000]\tvalidation_0-rmse:33.5155\n",
            "[7200]\tvalidation_0-rmse:33.0798\n",
            "[7249]\tvalidation_0-rmse:33.0639\n"
          ]
        },
        {
          "output_type": "stream",
          "name": "stderr",
          "text": [
            "\u001b[32m[I 2022-05-18 03:16:51,153]\u001b[0m Trial 9 finished with value: 33.06389039387501 and parameters: {'learning_rate': 0.0010017329044563084, 'reg_lambda': 2.5042584158634598e-09, 'reg_alpha': 0.07403844860457624, 'subsample': 0.27225798918629285, 'colsample_bytree': 0.07853634829006463, 'max_depth': 16, 'early_stopping_rounds': 488, 'n_estimators': 7250}. Best is trial 4 with value: 21.389466764626704.\u001b[0m\n"
          ]
        },
        {
          "output_type": "stream",
          "name": "stdout",
          "text": [
            "------------------------------------------------------------------------------------------------------\n",
            "Best Parameters {'learning_rate': 0.02280319295460174, 'reg_lambda': 1.4679871921137863e-09, 'reg_alpha': 0.00013415235910429078, 'subsample': 0.30378215691666627, 'colsample_bytree': 0.7700744555981499, 'max_depth': 41, 'early_stopping_rounds': 673, 'n_estimators': 4914}\n",
            "------------------------------------------------------------------------------------------------------\n"
          ]
        }
      ]
    },
    {
      "cell_type": "code",
      "source": [
        "print(\"Approach 4: Using XGBoost with Hyperparameters from Optuna \")\n",
        "print(\"------------------------------------------------------------------------------------------------------\")\n",
        "model = XGBRegressor( early_stopping_rounds=optuna_params_xgb['early_stopping_rounds'],\n",
        "      n_estimators=optuna_params_xgb['n_estimators'],\n",
        "      learning_rate=optuna_params_xgb['learning_rate'],\n",
        "      reg_lambda=optuna_params_xgb['reg_lambda'],\n",
        "      reg_alpha=optuna_params_xgb['reg_alpha'],\n",
        "      subsample=optuna_params_xgb['subsample'],\n",
        "      colsample_bytree=optuna_params_xgb['colsample_bytree'],\n",
        "      max_depth=optuna_params_xgb['max_depth'],)\n",
        "model, xtrain, xtest, ytrain, ytest  = train_model(X,Y, model)\n",
        "#feature_importance(model,X)\n",
        "print(\"Model Accuracy on Test Dataset for XGBoost with Hyperparameters from Optuna\")\n",
        "rmse_xgb_optuna = model_accuracy(model, xtrain, xtest, ytrain, ytest)\n",
        "print(rmse_xgb_optuna)\n",
        "print(\"------------------------------------------------------------------------------------------------------\")"
      ],
      "metadata": {
        "colab": {
          "base_uri": "https://localhost:8080/"
        },
        "id": "fSiM5sHgykwY",
        "outputId": "ee12ce9d-1e54-4c82-bb2f-1b7e6c0df1ce"
      },
      "execution_count": null,
      "outputs": [
        {
          "output_type": "stream",
          "name": "stdout",
          "text": [
            "Approach 4: Using XGBoost with Hyperparameters from Optuna \n",
            "------------------------------------------------------------------------------------------------------\n",
            "[03:16:51] WARNING: /workspace/src/objective/regression_obj.cu:152: reg:linear is now deprecated in favor of reg:squarederror.\n",
            "Model Accuracy on Test Dataset for XGBoost with Hyperparameters from Optuna\n",
            "[03:17:03] WARNING: /workspace/src/objective/regression_obj.cu:152: reg:linear is now deprecated in favor of reg:squarederror.\n",
            "[03:17:12] WARNING: /workspace/src/objective/regression_obj.cu:152: reg:linear is now deprecated in favor of reg:squarederror.\n",
            "[03:17:24] WARNING: /workspace/src/objective/regression_obj.cu:152: reg:linear is now deprecated in favor of reg:squarederror.\n",
            "[03:17:34] WARNING: /workspace/src/objective/regression_obj.cu:152: reg:linear is now deprecated in favor of reg:squarederror.\n",
            "[03:17:43] WARNING: /workspace/src/objective/regression_obj.cu:152: reg:linear is now deprecated in favor of reg:squarederror.\n",
            "Average cross-validation score is: 0.53\n",
            "RMSE: 43.74\n",
            "43.73551027642816\n",
            "------------------------------------------------------------------------------------------------------\n"
          ]
        }
      ]
    },
    {
      "cell_type": "markdown",
      "source": [
        "Comparing the results of all the 4 approaches."
      ],
      "metadata": {
        "id": "kw3IgD3LsC7B"
      }
    },
    {
      "cell_type": "code",
      "source": [
        "#Plotting the RMSE values for all the 4 approaches\n",
        "y_values = np.array([rmse_xgb_gridsearchcv, rmse_svr, rmse_rfr, rmse_xgb_optuna])\n",
        "x_values = np.array(['XGB_GridSearchCV','SVR_GridSearchCV','Random Forest Regressor_GridSearchCV','XGB_Optuna'])\n",
        "plt.ylabel(\"Predictive Models\")\n",
        "plt.xlabel(\"Root Mean Squared Error\")\n",
        "plt.barh(x_values, y_values)\n",
        "plt.show()"
      ],
      "metadata": {
        "colab": {
          "base_uri": "https://localhost:8080/",
          "height": 279
        },
        "id": "cTVHHVsKypGf",
        "outputId": "81e4e0ab-2741-4851-b5df-3518ea6acd62"
      },
      "execution_count": null,
      "outputs": [
        {
          "output_type": "display_data",
          "data": {
            "text/plain": [
              "<Figure size 432x288 with 1 Axes>"
            ],
            "image/png": "[encoded data removed]"
          },
          "metadata": {
            "needs_background": "light"
          }
        }
      ]
    }
  ]
}