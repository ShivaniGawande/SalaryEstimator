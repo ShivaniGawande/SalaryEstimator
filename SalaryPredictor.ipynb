{
  "nbformat": 4,
  "nbformat_minor": 0,
  "metadata": {
    "colab": {
      "name": "SalaryPredictor.ipynb",
      "provenance": [],
      "collapsed_sections": [],
      "authorship_tag": "ABX9TyM6HEl6eugIZ5HemFo4fRPA",
      "include_colab_link": true
    },
    "kernelspec": {
      "name": "python3",
      "display_name": "Python 3"
    },
    "language_info": {
      "name": "python"
    }
  },
  "cells": [
    {
      "cell_type": "markdown",
      "metadata": {
        "id": "view-in-github",
        "colab_type": "text"
      },
      "source": [
        "<a href=\"https://colab.research.google.com/github/ShivaniGawande/SalaryEstimator/blob/main/SalaryPredictor.ipynb\" target=\"_parent\"><img src=\"https://colab.research.google.com/assets/colab-badge.svg\" alt=\"Open In Colab\"/></a>"
      ]
    },
    {
      "cell_type": "code",
      "execution_count": 256,
      "metadata": {
        "colab": {
          "base_uri": "https://localhost:8080/"
        },
        "id": "_ltkDGe6x0jm",
        "outputId": "abcd0ec2-c168-4886-80fd-f9547b02d1cf"
      },
      "outputs": [
        {
          "output_type": "stream",
          "name": "stdout",
          "text": [
            "Requirement already satisfied: optuna in /usr/local/lib/python3.7/dist-packages (2.10.0)\n",
            "Requirement already satisfied: colorlog in /usr/local/lib/python3.7/dist-packages (from optuna) (6.6.0)\n",
            "Requirement already satisfied: packaging>=20.0 in /usr/local/lib/python3.7/dist-packages (from optuna) (21.3)\n",
            "Requirement already satisfied: sqlalchemy>=1.1.0 in /usr/local/lib/python3.7/dist-packages (from optuna) (1.4.36)\n",
            "Requirement already satisfied: scipy!=1.4.0 in /usr/local/lib/python3.7/dist-packages (from optuna) (1.4.1)\n",
            "Requirement already satisfied: tqdm in /usr/local/lib/python3.7/dist-packages (from optuna) (4.64.0)\n",
            "Requirement already satisfied: cmaes>=0.8.2 in /usr/local/lib/python3.7/dist-packages (from optuna) (0.8.2)\n",
            "Requirement already satisfied: numpy in /usr/local/lib/python3.7/dist-packages (from optuna) (1.21.6)\n",
            "Requirement already satisfied: cliff in /usr/local/lib/python3.7/dist-packages (from optuna) (3.10.1)\n",
            "Requirement already satisfied: alembic in /usr/local/lib/python3.7/dist-packages (from optuna) (1.7.7)\n",
            "Requirement already satisfied: PyYAML in /usr/local/lib/python3.7/dist-packages (from optuna) (3.13)\n",
            "Requirement already satisfied: pyparsing!=3.0.5,>=2.0.2 in /usr/local/lib/python3.7/dist-packages (from packaging>=20.0->optuna) (3.0.8)\n",
            "Requirement already satisfied: importlib-metadata in /usr/local/lib/python3.7/dist-packages (from sqlalchemy>=1.1.0->optuna) (4.11.3)\n",
            "Requirement already satisfied: greenlet!=0.4.17 in /usr/local/lib/python3.7/dist-packages (from sqlalchemy>=1.1.0->optuna) (1.1.2)\n",
            "Requirement already satisfied: Mako in /usr/local/lib/python3.7/dist-packages (from alembic->optuna) (1.2.0)\n",
            "Requirement already satisfied: importlib-resources in /usr/local/lib/python3.7/dist-packages (from alembic->optuna) (5.7.1)\n",
            "Requirement already satisfied: cmd2>=1.0.0 in /usr/local/lib/python3.7/dist-packages (from cliff->optuna) (2.4.1)\n",
            "Requirement already satisfied: PrettyTable>=0.7.2 in /usr/local/lib/python3.7/dist-packages (from cliff->optuna) (3.2.0)\n",
            "Requirement already satisfied: autopage>=0.4.0 in /usr/local/lib/python3.7/dist-packages (from cliff->optuna) (0.5.0)\n",
            "Requirement already satisfied: stevedore>=2.0.1 in /usr/local/lib/python3.7/dist-packages (from cliff->optuna) (3.5.0)\n",
            "Requirement already satisfied: pbr!=2.1.0,>=2.0.0 in /usr/local/lib/python3.7/dist-packages (from cliff->optuna) (5.9.0)\n",
            "Requirement already satisfied: pyperclip>=1.6 in /usr/local/lib/python3.7/dist-packages (from cmd2>=1.0.0->cliff->optuna) (1.8.2)\n",
            "Requirement already satisfied: wcwidth>=0.1.7 in /usr/local/lib/python3.7/dist-packages (from cmd2>=1.0.0->cliff->optuna) (0.2.5)\n",
            "Requirement already satisfied: attrs>=16.3.0 in /usr/local/lib/python3.7/dist-packages (from cmd2>=1.0.0->cliff->optuna) (21.4.0)\n",
            "Requirement already satisfied: typing-extensions in /usr/local/lib/python3.7/dist-packages (from cmd2>=1.0.0->cliff->optuna) (4.2.0)\n",
            "Requirement already satisfied: zipp>=0.5 in /usr/local/lib/python3.7/dist-packages (from importlib-metadata->sqlalchemy>=1.1.0->optuna) (3.8.0)\n",
            "Requirement already satisfied: MarkupSafe>=0.9.2 in /usr/local/lib/python3.7/dist-packages (from Mako->alembic->optuna) (2.0.1)\n"
          ]
        }
      ],
      "source": [
        "#install optuna - framework for hyperparameter optimization\n",
        "% pip install optuna"
      ]
    },
    {
      "cell_type": "code",
      "source": [
        "import numpy as np\n",
        "import pandas as pd\n",
        "from sklearn.model_selection import train_test_split\n",
        "from sklearn.svm import SVR\n",
        "from sklearn.ensemble import RandomForestRegressor\n",
        "from sklearn.neural_network import MLPRegressor\n",
        "from sklearn.model_selection import GridSearchCV\n",
        "from sklearn.model_selection import cross_val_score\n",
        "from math import sqrt\n",
        "from sklearn.model_selection import learning_curve\n",
        "from sklearn.model_selection import KFold\n",
        "from sklearn.metrics import mean_squared_error\n",
        "import xgboost as xgb\n",
        "from xgboost import XGBRegressor\n",
        "import optuna\n",
        "\n",
        "import warnings\n",
        "warnings.filterwarnings('ignore')"
      ],
      "metadata": {
        "id": "r797OJ96G0d2"
      },
      "execution_count": 257,
      "outputs": []
    },
    {
      "cell_type": "code",
      "source": [
        "df = pd.read_csv('https://raw.githubusercontent.com/ShivaniGawande/SalaryEstimator/main/data.csv')\n",
        "df.head()"
      ],
      "metadata": {
        "colab": {
          "base_uri": "https://localhost:8080/",
          "height": 542
        },
        "id": "-H-ZzeKHrLEi",
        "outputId": "567e0edc-bcaf-4e41-e8d2-b6924c3be82c"
      },
      "execution_count": 258,
      "outputs": [
        {
          "output_type": "execute_result",
          "data": {
            "text/plain": [
              "   index                  Job Title              Salary Estimate  \\\n",
              "0      0             Data Scientist   $53K-$91K (Glassdoor est.)   \n",
              "1      1  Healthcare Data Scientist  $63K-$112K (Glassdoor est.)   \n",
              "2      2             Data Scientist   $80K-$90K (Glassdoor est.)   \n",
              "3      3             Data Scientist   $56K-$97K (Glassdoor est.)   \n",
              "4      4             Data Scientist  $86K-$143K (Glassdoor est.)   \n",
              "\n",
              "                                     Job Description  Rating  \\\n",
              "0  Data Scientist\\nLocation: Albuquerque, NM\\nEdu...     3.8   \n",
              "1  What You Will Do:\\n\\nI. General Summary\\n\\nThe...     3.4   \n",
              "2  KnowBe4, Inc. is a high growth information sec...     4.8   \n",
              "3  *Organization and Job ID**\\nJob ID: 310709\\n\\n...     3.8   \n",
              "4  Data Scientist\\nAffinity Solutions / Marketing...     2.9   \n",
              "\n",
              "                                 Company Name         Location  \\\n",
              "0                      Tecolote Research\\n3.8  Albuquerque, NM   \n",
              "1  University of Maryland Medical System\\n3.4    Linthicum, MD   \n",
              "2                                KnowBe4\\n4.8   Clearwater, FL   \n",
              "3                                   PNNL\\n3.8     Richland, WA   \n",
              "4                     Affinity Solutions\\n2.9     New York, NY   \n",
              "\n",
              "     Headquarters          Size  Founded  ... tensor hadoop tableau bi flink  \\\n",
              "0      Goleta, CA   501 - 1000      1973  ...      0      0       1  1     0   \n",
              "1   Baltimore, MD       10000+      1984  ...      0      0       0  0     0   \n",
              "2  Clearwater, FL   501 - 1000      2010  ...      0      0       0  0     0   \n",
              "3    Richland, WA  1001 - 5000      1965  ...      0      0       0  0     0   \n",
              "4    New York, NY     51 - 200      1998  ...      0      0       0  0     0   \n",
              "\n",
              "   mongo  google_an   job_title_sim  seniority_by_title  Degree  \n",
              "0      0          0  data scientist                  na       M  \n",
              "1      0          0  data scientist                  na       M  \n",
              "2      0          0  data scientist                  na       M  \n",
              "3      0          0  data scientist                  na      na  \n",
              "4      0          0  data scientist                  na      na  \n",
              "\n",
              "[5 rows x 42 columns]"
            ],
            "text/html": [
              "\n",
              "  <div id=\"df-6d5e4aa3-e578-4d10-b587-2b96e743e7f8\">\n",
              "    <div class=\"colab-df-container\">\n",
              "      <div>\n",
              "<style scoped>\n",
              "    .dataframe tbody tr th:only-of-type {\n",
              "        vertical-align: middle;\n",
              "    }\n",
              "\n",
              "    .dataframe tbody tr th {\n",
              "        vertical-align: top;\n",
              "    }\n",
              "\n",
              "    .dataframe thead th {\n",
              "        text-align: right;\n",
              "    }\n",
              "</style>\n",
              "<table border=\"1\" class=\"dataframe\">\n",
              "  <thead>\n",
              "    <tr style=\"text-align: right;\">\n",
              "      <th></th>\n",
              "      <th>index</th>\n",
              "      <th>Job Title</th>\n",
              "      <th>Salary Estimate</th>\n",
              "      <th>Job Description</th>\n",
              "      <th>Rating</th>\n",
              "      <th>Company Name</th>\n",
              "      <th>Location</th>\n",
              "      <th>Headquarters</th>\n",
              "      <th>Size</th>\n",
              "      <th>Founded</th>\n",
              "      <th>...</th>\n",
              "      <th>tensor</th>\n",
              "      <th>hadoop</th>\n",
              "      <th>tableau</th>\n",
              "      <th>bi</th>\n",
              "      <th>flink</th>\n",
              "      <th>mongo</th>\n",
              "      <th>google_an</th>\n",
              "      <th>job_title_sim</th>\n",
              "      <th>seniority_by_title</th>\n",
              "      <th>Degree</th>\n",
              "    </tr>\n",
              "  </thead>\n",
              "  <tbody>\n",
              "    <tr>\n",
              "      <th>0</th>\n",
              "      <td>0</td>\n",
              "      <td>Data Scientist</td>\n",
              "      <td>$53K-$91K (Glassdoor est.)</td>\n",
              "      <td>Data Scientist\\nLocation: Albuquerque, NM\\nEdu...</td>\n",
              "      <td>3.8</td>\n",
              "      <td>Tecolote Research\\n3.8</td>\n",
              "      <td>Albuquerque, NM</td>\n",
              "      <td>Goleta, CA</td>\n",
              "      <td>501 - 1000</td>\n",
              "      <td>1973</td>\n",
              "      <td>...</td>\n",
              "      <td>0</td>\n",
              "      <td>0</td>\n",
              "      <td>1</td>\n",
              "      <td>1</td>\n",
              "      <td>0</td>\n",
              "      <td>0</td>\n",
              "      <td>0</td>\n",
              "      <td>data scientist</td>\n",
              "      <td>na</td>\n",
              "      <td>M</td>\n",
              "    </tr>\n",
              "    <tr>\n",
              "      <th>1</th>\n",
              "      <td>1</td>\n",
              "      <td>Healthcare Data Scientist</td>\n",
              "      <td>$63K-$112K (Glassdoor est.)</td>\n",
              "      <td>What You Will Do:\\n\\nI. General Summary\\n\\nThe...</td>\n",
              "      <td>3.4</td>\n",
              "      <td>University of Maryland Medical System\\n3.4</td>\n",
              "      <td>Linthicum, MD</td>\n",
              "      <td>Baltimore, MD</td>\n",
              "      <td>10000+</td>\n",
              "      <td>1984</td>\n",
              "      <td>...</td>\n",
              "      <td>0</td>\n",
              "      <td>0</td>\n",
              "      <td>0</td>\n",
              "      <td>0</td>\n",
              "      <td>0</td>\n",
              "      <td>0</td>\n",
              "      <td>0</td>\n",
              "      <td>data scientist</td>\n",
              "      <td>na</td>\n",
              "      <td>M</td>\n",
              "    </tr>\n",
              "    <tr>\n",
              "      <th>2</th>\n",
              "      <td>2</td>\n",
              "      <td>Data Scientist</td>\n",
              "      <td>$80K-$90K (Glassdoor est.)</td>\n",
              "      <td>KnowBe4, Inc. is a high growth information sec...</td>\n",
              "      <td>4.8</td>\n",
              "      <td>KnowBe4\\n4.8</td>\n",
              "      <td>Clearwater, FL</td>\n",
              "      <td>Clearwater, FL</td>\n",
              "      <td>501 - 1000</td>\n",
              "      <td>2010</td>\n",
              "      <td>...</td>\n",
              "      <td>0</td>\n",
              "      <td>0</td>\n",
              "      <td>0</td>\n",
              "      <td>0</td>\n",
              "      <td>0</td>\n",
              "      <td>0</td>\n",
              "      <td>0</td>\n",
              "      <td>data scientist</td>\n",
              "      <td>na</td>\n",
              "      <td>M</td>\n",
              "    </tr>\n",
              "    <tr>\n",
              "      <th>3</th>\n",
              "      <td>3</td>\n",
              "      <td>Data Scientist</td>\n",
              "      <td>$56K-$97K (Glassdoor est.)</td>\n",
              "      <td>*Organization and Job ID**\\nJob ID: 310709\\n\\n...</td>\n",
              "      <td>3.8</td>\n",
              "      <td>PNNL\\n3.8</td>\n",
              "      <td>Richland, WA</td>\n",
              "      <td>Richland, WA</td>\n",
              "      <td>1001 - 5000</td>\n",
              "      <td>1965</td>\n",
              "      <td>...</td>\n",
              "      <td>0</td>\n",
              "      <td>0</td>\n",
              "      <td>0</td>\n",
              "      <td>0</td>\n",
              "      <td>0</td>\n",
              "      <td>0</td>\n",
              "      <td>0</td>\n",
              "      <td>data scientist</td>\n",
              "      <td>na</td>\n",
              "      <td>na</td>\n",
              "    </tr>\n",
              "    <tr>\n",
              "      <th>4</th>\n",
              "      <td>4</td>\n",
              "      <td>Data Scientist</td>\n",
              "      <td>$86K-$143K (Glassdoor est.)</td>\n",
              "      <td>Data Scientist\\nAffinity Solutions / Marketing...</td>\n",
              "      <td>2.9</td>\n",
              "      <td>Affinity Solutions\\n2.9</td>\n",
              "      <td>New York, NY</td>\n",
              "      <td>New York, NY</td>\n",
              "      <td>51 - 200</td>\n",
              "      <td>1998</td>\n",
              "      <td>...</td>\n",
              "      <td>0</td>\n",
              "      <td>0</td>\n",
              "      <td>0</td>\n",
              "      <td>0</td>\n",
              "      <td>0</td>\n",
              "      <td>0</td>\n",
              "      <td>0</td>\n",
              "      <td>data scientist</td>\n",
              "      <td>na</td>\n",
              "      <td>na</td>\n",
              "    </tr>\n",
              "  </tbody>\n",
              "</table>\n",
              "<p>5 rows × 42 columns</p>\n",
              "</div>\n",
              "      <button class=\"colab-df-convert\" onclick=\"convertToInteractive('df-6d5e4aa3-e578-4d10-b587-2b96e743e7f8')\"\n",
              "              title=\"Convert this dataframe to an interactive table.\"\n",
              "              style=\"display:none;\">\n",
              "        \n",
              "  <svg xmlns=\"http://www.w3.org/2000/svg\" height=\"24px\"viewBox=\"0 0 24 24\"\n",
              "       width=\"24px\">\n",
              "    <path d=\"M0 0h24v24H0V0z\" fill=\"none\"/>\n",
              "    <path d=\"M18.56 5.44l.94 2.06.94-2.06 2.06-.94-2.06-.94-.94-2.06-.94 2.06-2.06.94zm-11 1L8.5 8.5l.94-2.06 2.06-.94-2.06-.94L8.5 2.5l-.94 2.06-2.06.94zm10 10l.94 2.06.94-2.06 2.06-.94-2.06-.94-.94-2.06-.94 2.06-2.06.94z\"/><path d=\"M17.41 7.96l-1.37-1.37c-.4-.4-.92-.59-1.43-.59-.52 0-1.04.2-1.43.59L10.3 9.45l-7.72 7.72c-.78.78-.78 2.05 0 2.83L4 21.41c.39.39.9.59 1.41.59.51 0 1.02-.2 1.41-.59l7.78-7.78 2.81-2.81c.8-.78.8-2.07 0-2.86zM5.41 20L4 18.59l7.72-7.72 1.47 1.35L5.41 20z\"/>\n",
              "  </svg>\n",
              "      </button>\n",
              "      \n",
              "  <style>\n",
              "    .colab-df-container {\n",
              "      display:flex;\n",
              "      flex-wrap:wrap;\n",
              "      gap: 12px;\n",
              "    }\n",
              "\n",
              "    .colab-df-convert {\n",
              "      background-color: #E8F0FE;\n",
              "      border: none;\n",
              "      border-radius: 50%;\n",
              "      cursor: pointer;\n",
              "      display: none;\n",
              "      fill: #1967D2;\n",
              "      height: 32px;\n",
              "      padding: 0 0 0 0;\n",
              "      width: 32px;\n",
              "    }\n",
              "\n",
              "    .colab-df-convert:hover {\n",
              "      background-color: #E2EBFA;\n",
              "      box-shadow: 0px 1px 2px rgba(60, 64, 67, 0.3), 0px 1px 3px 1px rgba(60, 64, 67, 0.15);\n",
              "      fill: #174EA6;\n",
              "    }\n",
              "\n",
              "    [theme=dark] .colab-df-convert {\n",
              "      background-color: #3B4455;\n",
              "      fill: #D2E3FC;\n",
              "    }\n",
              "\n",
              "    [theme=dark] .colab-df-convert:hover {\n",
              "      background-color: #434B5C;\n",
              "      box-shadow: 0px 1px 3px 1px rgba(0, 0, 0, 0.15);\n",
              "      filter: drop-shadow(0px 1px 2px rgba(0, 0, 0, 0.3));\n",
              "      fill: #FFFFFF;\n",
              "    }\n",
              "  </style>\n",
              "\n",
              "      <script>\n",
              "        const buttonEl =\n",
              "          document.querySelector('#df-6d5e4aa3-e578-4d10-b587-2b96e743e7f8 button.colab-df-convert');\n",
              "        buttonEl.style.display =\n",
              "          google.colab.kernel.accessAllowed ? 'block' : 'none';\n",
              "\n",
              "        async function convertToInteractive(key) {\n",
              "          const element = document.querySelector('#df-6d5e4aa3-e578-4d10-b587-2b96e743e7f8');\n",
              "          const dataTable =\n",
              "            await google.colab.kernel.invokeFunction('convertToInteractive',\n",
              "                                                     [key], {});\n",
              "          if (!dataTable) return;\n",
              "\n",
              "          const docLinkHtml = 'Like what you see? Visit the ' +\n",
              "            '<a target=\"_blank\" href=https://colab.research.google.com/notebooks/data_table.ipynb>data table notebook</a>'\n",
              "            + ' to learn more about interactive tables.';\n",
              "          element.innerHTML = '';\n",
              "          dataTable['output_type'] = 'display_data';\n",
              "          await google.colab.output.renderOutput(dataTable, element);\n",
              "          const docLink = document.createElement('div');\n",
              "          docLink.innerHTML = docLinkHtml;\n",
              "          element.appendChild(docLink);\n",
              "        }\n",
              "      </script>\n",
              "    </div>\n",
              "  </div>\n",
              "  "
            ]
          },
          "metadata": {},
          "execution_count": 258
        }
      ]
    },
    {
      "cell_type": "code",
      "source": [
        "\n"
      ],
      "metadata": {
        "id": "8Zzl_v84ERrv"
      },
      "execution_count": 258,
      "outputs": []
    },
    {
      "cell_type": "code",
      "source": [
        "def approach1_XGBRegressor():\n",
        "    xgb = XGBRegressor()\n",
        "    parameters = {'learning_rate': [.01, 0.1, .03], \n",
        "              'max_depth': [5, 7, 9],\n",
        "              'n_estimators': [100,200,300]}\n",
        "\n",
        "    xgb_grid = GridSearchCV(xgb, parameters, cv = 2, n_jobs = 5, verbose=True)\n",
        "    return xgb_grid"
      ],
      "metadata": {
        "id": "oeeX3hZbyS_e"
      },
      "execution_count": 259,
      "outputs": []
    },
    {
      "cell_type": "code",
      "source": [
        "def approach2_SVRRegressor():\n",
        "    #SVR(kernel=\"rbf\", C=100, gamma=0.1, epsilon=0.1)\n",
        "    svr = SVR()\n",
        "    parameters = {'C': [0.1,1, 10, 100], 'gamma': [1,0.1,0.01,0.001],'kernel': ['rbf']}\n",
        "\n",
        "    svr_grid = GridSearchCV(svr, parameters, cv=2, n_jobs = 5, verbose=True)\n",
        "    return svr_grid\n"
      ],
      "metadata": {
        "id": "BJXY_xOBzEV8"
      },
      "execution_count": 260,
      "outputs": []
    },
    {
      "cell_type": "code",
      "source": [
        "\n",
        "def approach3_RandomForestRegressor():\n",
        "    #RandomForestRegressor(max_depth=2, random_state=0)\n",
        "    rfr= RandomForestRegressor()\n",
        "    parameters = {'max_depth': [40, 50, 60],\n",
        "    'min_samples_leaf': [1, 2, 3],\n",
        "    'min_samples_split': [4, 5, 6],\n",
        "    'n_estimators': [150, 200]}\n",
        "\n",
        "    rfr_grid = GridSearchCV(rfr, parameters, cv=2, n_jobs = 5, verbose=True)\n",
        "    return rfr_grid"
      ],
      "metadata": {
        "id": "ZSJM2xbZzF4d"
      },
      "execution_count": 261,
      "outputs": []
    },
    {
      "cell_type": "code",
      "source": [
        "def feature_importance(model,x):\n",
        "    df = pd.DataFrame(model.feature_importances_,columns=['importance'])\n",
        "    df['features'] = x.columns\n",
        "    df.reindex(x.columns, axis=1)\n",
        "\n",
        "def model_accuracy(model, xtrain, xtest, ytrain, ytest):\n",
        "    #evaluate\n",
        "    scores = cross_val_score(model, xtrain, ytrain,cv=5)\n",
        "    print(\"Mean cross-validation score: %.2f\" % scores.mean())\n",
        "    ypred = model.predict(xtest)\n",
        "    mse = mean_squared_error(ytest, ypred)\n",
        "    rmse = sqrt(mse)\n",
        "    print(\"RMSE: %.2f\" % rmse)\n",
        "    y_pred_test = model.predict(xtest)\n",
        "\n",
        "def train_model(x,y, model):\n",
        "    xtrain, xtest, ytrain, ytest=train_test_split(x, y, test_size=0.2)\n",
        "    model.fit(xtrain, ytrain)\n",
        "    #print(\" Best Params : \", model.best_params_)\n",
        "    #print(xtest)\n",
        "    return model, xtrain, xtest, ytrain, ytest"
      ],
      "metadata": {
        "id": "UQqev-5k_SeS"
      },
      "execution_count": 262,
      "outputs": []
    },
    {
      "cell_type": "code",
      "source": [
        "Y = df.iloc[:,19]\n",
        "X = pd.concat([df.iloc[:,4],df.iloc[:,23:39],df.iloc[:,21],df.iloc[:,8],df.iloc[:,10],df.iloc[:,11],df.iloc[:,12],df.iloc[:,40:42]],axis = 1)\n",
        "X[\"Job Location\"] = X[\"Job Location\"].astype(\"category\")\n",
        "X[\"Industry\"]=X[\"Industry\"].astype(\"category\")\n",
        "X[\"Sector\"] = X[\"Sector\"].astype(\"category\")\n",
        "X[\"seniority_by_title\"] = X[\"seniority_by_title\"].astype(\"category\")\n",
        "X[\"Degree\"] = X[\"Degree\"].astype(\"category\")\n",
        "X[\"Size\"] = X[\"Size\"].astype(\"category\")\n",
        "X[\"Type of ownership\"]=X[\"Type of ownership\"].astype(\"category\")\n",
        "\n",
        "X[\"Job Location\"] = X[\"Job Location\"].cat.codes\n",
        "X[\"Industry\"] = X[\"Industry\"].cat.codes\n",
        "X[\"Sector\"] = X[\"Sector\"].cat.codes\n",
        "X[\"seniority_by_title\"] = X[\"seniority_by_title\"].cat.codes\n",
        "X[\"Degree\"] = X[\"Degree\"].cat.codes\n",
        "X[\"Size\"] = X[\"Size\"].cat.codes\n",
        "X[\"Type of ownership\"] = X[\"Type of ownership\"].cat.codes\n",
        "\n",
        "print(\"Approach 1: Using XGB\")\n",
        "model = approach1_XGBRegressor()\n",
        "model, xtrain, xtest, ytrain, ytest  = train_model(X,Y, model)\n",
        "print(\"Model Accuracy on Test Dataset\")\n",
        "model_accuracy(model, xtrain, xtest, ytrain, ytest)\n",
        "#print(X.columns)\n",
        "\n",
        "\n",
        "print(\"Approach 2: Using SVR\")\n",
        "model = approach2_SVRRegressor()\n",
        "model, xtrain, xtest, ytrain, ytest  = train_model(X,Y, model)\n",
        "print(\"Model Accuracy on Test Dataset\")\n",
        "model_accuracy(model, xtrain, xtest, ytrain, ytest)\n",
        "#print(X.columns)\n",
        "\n",
        "\n",
        "print(\"Approach 3: Using Random Forest Regressor\")\n",
        "model = approach3_RandomForestRegressor()\n",
        "model, xtrain, xtest, ytrain, ytest  = train_model(X,Y, model)\n",
        "print(\"Model Accuracy on Test Dataset\")\n",
        "model_accuracy(model, xtrain, xtest, ytrain, ytest)\n",
        "#print(X.columns)"
      ],
      "metadata": {
        "colab": {
          "base_uri": "https://localhost:8080/"
        },
        "id": "V4KUvj3xyZWk",
        "outputId": "b7d95205-0431-45b1-d265-f77be25b7d8d"
      },
      "execution_count": 263,
      "outputs": [
        {
          "output_type": "stream",
          "name": "stdout",
          "text": [
            "Approach 1: Using XGB\n",
            "Fitting 2 folds for each of 27 candidates, totalling 54 fits\n",
            "[23:29:53] WARNING: /workspace/src/objective/regression_obj.cu:152: reg:linear is now deprecated in favor of reg:squarederror.\n",
            "Model Accuracy on Test Dataset\n",
            "Fitting 2 folds for each of 27 candidates, totalling 54 fits\n",
            "[23:30:01] WARNING: /workspace/src/objective/regression_obj.cu:152: reg:linear is now deprecated in favor of reg:squarederror.\n",
            "Fitting 2 folds for each of 27 candidates, totalling 54 fits\n",
            "[23:30:10] WARNING: /workspace/src/objective/regression_obj.cu:152: reg:linear is now deprecated in favor of reg:squarederror.\n",
            "Fitting 2 folds for each of 27 candidates, totalling 54 fits\n",
            "[23:30:19] WARNING: /workspace/src/objective/regression_obj.cu:152: reg:linear is now deprecated in favor of reg:squarederror.\n",
            "Fitting 2 folds for each of 27 candidates, totalling 54 fits\n",
            "[23:30:27] WARNING: /workspace/src/objective/regression_obj.cu:152: reg:linear is now deprecated in favor of reg:squarederror.\n",
            "Fitting 2 folds for each of 27 candidates, totalling 54 fits\n",
            "[23:30:33] WARNING: /workspace/src/objective/regression_obj.cu:152: reg:linear is now deprecated in favor of reg:squarederror.\n",
            "Mean cross-validation score: 0.53\n",
            "RMSE: 25.29\n",
            "Approach 2: Using SVR\n",
            "Fitting 2 folds for each of 16 candidates, totalling 32 fits\n",
            "Model Accuracy on Test Dataset\n",
            "Fitting 2 folds for each of 16 candidates, totalling 32 fits\n",
            "Fitting 2 folds for each of 16 candidates, totalling 32 fits\n",
            "Fitting 2 folds for each of 16 candidates, totalling 32 fits\n",
            "Fitting 2 folds for each of 16 candidates, totalling 32 fits\n",
            "Fitting 2 folds for each of 16 candidates, totalling 32 fits\n",
            "Mean cross-validation score: 0.38\n",
            "RMSE: 28.32\n",
            "Approach 3: Using Random Forest Regressor\n",
            "Fitting 2 folds for each of 54 candidates, totalling 108 fits\n",
            "Model Accuracy on Test Dataset\n",
            "Fitting 2 folds for each of 54 candidates, totalling 108 fits\n",
            "Fitting 2 folds for each of 54 candidates, totalling 108 fits\n",
            "Fitting 2 folds for each of 54 candidates, totalling 108 fits\n",
            "Fitting 2 folds for each of 54 candidates, totalling 108 fits\n",
            "Fitting 2 folds for each of 54 candidates, totalling 108 fits\n",
            "Mean cross-validation score: 0.52\n",
            "RMSE: 20.03\n"
          ]
        }
      ]
    },
    {
      "cell_type": "code",
      "source": [
        "xtrain, xtest, ytrain, ytest=train_test_split(X, Y, test_size=0.2)"
      ],
      "metadata": {
        "id": "sdfKp8vtRpRb"
      },
      "execution_count": 264,
      "outputs": []
    },
    {
      "cell_type": "code",
      "source": [
        "def objective_XGB(trial):\n",
        "   learning_rate = trial.suggest_float(\"learning_rate\", 1e-4, 0.25, log=True)\n",
        "   reg_lambda = trial.suggest_loguniform(\"reg_lambda\", 1e-9, 100.0)\n",
        "   reg_alpha = trial.suggest_loguniform(\"reg_alpha\", 1e-9, 100.0)\n",
        "   subsample = trial.suggest_float(\"subsample\", 0.0001, 1.0)\n",
        "   colsample_bytree = trial.suggest_float(\"colsample_bytree\", 0.0001, 1.0)\n",
        "   max_depth = trial.suggest_int(\"max_depth\", 1, 50)\n",
        "   early_stopping_rounds = trial.suggest_int(\"early_stopping_rounds\", 100, 700)\n",
        "   n_estimators = trial.suggest_int(\"n_estimators\", 0, 10000)\n",
        "\n",
        "   model = XGBRegressor(\n",
        "      random_state=50,\n",
        "      n_estimators=n_estimators,\n",
        "      learning_rate=learning_rate,\n",
        "      reg_lambda=reg_lambda,\n",
        "      reg_alpha=reg_alpha,\n",
        "      subsample=subsample,\n",
        "      colsample_bytree=colsample_bytree,\n",
        "      max_depth=max_depth,\n",
        "   )\n",
        "   model.fit(xtrain,ytrain,\n",
        "      early_stopping_rounds=early_stopping_rounds,\n",
        "      eval_set=[(xtest,ytest)],\n",
        "      verbose=1200\n",
        "   )\n",
        "   preds_valid = model.predict(xtest)\n",
        "   rmse = mean_squared_error(ytest, preds_valid, squared=False)\n",
        "\n",
        "   return rmse\n",
        "\n"
      ],
      "metadata": {
        "id": "czUl6Cj1P84R"
      },
      "execution_count": 265,
      "outputs": []
    },
    {
      "cell_type": "code",
      "source": [
        "study_xgb = optuna.create_study(direction=\"minimize\")\n",
        "study_xgb.optimize(objective_XGB, n_trials=10)\n",
        "\n",
        "optuna_params_xgb = study_xgb.best_params\n",
        "optuna_params_xgb"
      ],
      "metadata": {
        "colab": {
          "base_uri": "https://localhost:8080/"
        },
        "id": "wK9SOCn4KeY4",
        "outputId": "12362b61-296b-46a8-d833-154036038340"
      },
      "execution_count": 266,
      "outputs": [
        {
          "output_type": "stream",
          "name": "stderr",
          "text": [
            "\u001b[32m[I 2022-05-17 23:33:35,123]\u001b[0m A new study created in memory with name: no-name-b9f9baeb-16ba-41cd-991c-b0d73531895c\u001b[0m\n"
          ]
        },
        {
          "output_type": "stream",
          "name": "stdout",
          "text": [
            "[23:33:35] WARNING: /workspace/src/objective/regression_obj.cu:152: reg:linear is now deprecated in favor of reg:squarederror.\n",
            "[0]\tvalidation_0-rmse:99.4107\n",
            "Will train until validation_0-rmse hasn't improved in 570 rounds.\n",
            "Stopping. Best iteration:\n",
            "[520]\tvalidation_0-rmse:20.1374\n",
            "\n"
          ]
        },
        {
          "output_type": "stream",
          "name": "stderr",
          "text": [
            "\u001b[32m[I 2022-05-17 23:33:38,470]\u001b[0m Trial 0 finished with value: 20.137381508171906 and parameters: {'learning_rate': 0.04726755128546075, 'reg_lambda': 5.97004126542331e-05, 'reg_alpha': 0.000358721959048697, 'subsample': 0.12360453852921172, 'colsample_bytree': 0.8972085500187995, 'max_depth': 14, 'early_stopping_rounds': 570, 'n_estimators': 4724}. Best is trial 0 with value: 20.137381508171906.\u001b[0m\n"
          ]
        },
        {
          "output_type": "stream",
          "name": "stdout",
          "text": [
            "[23:33:38] WARNING: /workspace/src/objective/regression_obj.cu:152: reg:linear is now deprecated in favor of reg:squarederror.\n",
            "[0]\tvalidation_0-rmse:97.5527\n",
            "Will train until validation_0-rmse hasn't improved in 652 rounds.\n",
            "Stopping. Best iteration:\n",
            "[133]\tvalidation_0-rmse:26.9855\n",
            "\n"
          ]
        },
        {
          "output_type": "stream",
          "name": "stderr",
          "text": [
            "\u001b[32m[I 2022-05-17 23:33:40,285]\u001b[0m Trial 1 finished with value: 26.985543283685082 and parameters: {'learning_rate': 0.06761569834995938, 'reg_lambda': 1.4315731964123033e-09, 'reg_alpha': 2.9973007335183262e-06, 'subsample': 0.042451568134273296, 'colsample_bytree': 0.30657007504403594, 'max_depth': 17, 'early_stopping_rounds': 652, 'n_estimators': 6753}. Best is trial 0 with value: 20.137381508171906.\u001b[0m\n"
          ]
        },
        {
          "output_type": "stream",
          "name": "stdout",
          "text": [
            "[23:33:40] WARNING: /workspace/src/objective/regression_obj.cu:152: reg:linear is now deprecated in favor of reg:squarederror.\n",
            "[0]\tvalidation_0-rmse:103.943\n",
            "Will train until validation_0-rmse hasn't improved in 431 rounds.\n",
            "[1200]\tvalidation_0-rmse:72.1714\n",
            "[2400]\tvalidation_0-rmse:52.2818\n",
            "[3053]\tvalidation_0-rmse:44.922\n"
          ]
        },
        {
          "output_type": "stream",
          "name": "stderr",
          "text": [
            "\u001b[32m[I 2022-05-17 23:33:47,351]\u001b[0m Trial 2 finished with value: 44.92199951846483 and parameters: {'learning_rate': 0.00033707519057787753, 'reg_lambda': 5.024935220834377e-05, 'reg_alpha': 27.421477541468196, 'subsample': 0.14996735632304672, 'colsample_bytree': 0.6156270452581394, 'max_depth': 27, 'early_stopping_rounds': 431, 'n_estimators': 3054}. Best is trial 0 with value: 20.137381508171906.\u001b[0m\n"
          ]
        },
        {
          "output_type": "stream",
          "name": "stdout",
          "text": [
            "[23:33:47] WARNING: /workspace/src/objective/regression_obj.cu:152: reg:linear is now deprecated in favor of reg:squarederror.\n",
            "[0]\tvalidation_0-rmse:103.954\n",
            "Will train until validation_0-rmse hasn't improved in 120 rounds.\n",
            "[863]\tvalidation_0-rmse:88.1936\n"
          ]
        },
        {
          "output_type": "stream",
          "name": "stderr",
          "text": [
            "\u001b[32m[I 2022-05-17 23:33:51,437]\u001b[0m Trial 3 finished with value: 88.19361358433392 and parameters: {'learning_rate': 0.00019991789685528253, 'reg_lambda': 0.0030495477136555705, 'reg_alpha': 1.008108035578421e-06, 'subsample': 0.3534411716204735, 'colsample_bytree': 0.46508753984280243, 'max_depth': 9, 'early_stopping_rounds': 120, 'n_estimators': 864}. Best is trial 0 with value: 20.137381508171906.\u001b[0m\n"
          ]
        },
        {
          "output_type": "stream",
          "name": "stdout",
          "text": [
            "[23:33:51] WARNING: /workspace/src/objective/regression_obj.cu:152: reg:linear is now deprecated in favor of reg:squarederror.\n",
            "[0]\tvalidation_0-rmse:103.764\n",
            "Will train until validation_0-rmse hasn't improved in 468 rounds.\n",
            "[1200]\tvalidation_0-rmse:28.1348\n",
            "[2400]\tvalidation_0-rmse:25.7435\n",
            "[3600]\tvalidation_0-rmse:25.3214\n",
            "Stopping. Best iteration:\n",
            "[3333]\tvalidation_0-rmse:25.2847\n",
            "\n"
          ]
        },
        {
          "output_type": "stream",
          "name": "stderr",
          "text": [
            "\u001b[32m[I 2022-05-17 23:34:00,427]\u001b[0m Trial 4 finished with value: 25.284680132344512 and parameters: {'learning_rate': 0.002086210864471714, 'reg_lambda': 0.37763880389677756, 'reg_alpha': 5.906909246171006e-06, 'subsample': 0.042545641787094086, 'colsample_bytree': 0.8775329473528756, 'max_depth': 39, 'early_stopping_rounds': 468, 'n_estimators': 7734}. Best is trial 0 with value: 20.137381508171906.\u001b[0m\n"
          ]
        },
        {
          "output_type": "stream",
          "name": "stdout",
          "text": [
            "[23:34:00] WARNING: /workspace/src/objective/regression_obj.cu:152: reg:linear is now deprecated in favor of reg:squarederror.\n",
            "[0]\tvalidation_0-rmse:103.389\n",
            "Will train until validation_0-rmse hasn't improved in 624 rounds.\n",
            "[1200]\tvalidation_0-rmse:21.3382\n",
            "[2400]\tvalidation_0-rmse:19.3805\n",
            "[3555]\tvalidation_0-rmse:18.6051\n"
          ]
        },
        {
          "output_type": "stream",
          "name": "stderr",
          "text": [
            "\u001b[32m[I 2022-05-17 23:34:05,256]\u001b[0m Trial 5 finished with value: 18.605115367520845 and parameters: {'learning_rate': 0.0058880846508205095, 'reg_lambda': 2.3179567508212708e-05, 'reg_alpha': 14.609890147496435, 'subsample': 0.9351439537274974, 'colsample_bytree': 0.17244443311936075, 'max_depth': 26, 'early_stopping_rounds': 624, 'n_estimators': 3556}. Best is trial 5 with value: 18.605115367520845.\u001b[0m\n"
          ]
        },
        {
          "output_type": "stream",
          "name": "stdout",
          "text": [
            "[23:34:05] WARNING: /workspace/src/objective/regression_obj.cu:152: reg:linear is now deprecated in favor of reg:squarederror.\n",
            "[0]\tvalidation_0-rmse:103.923\n",
            "Will train until validation_0-rmse hasn't improved in 593 rounds.\n",
            "[1200]\tvalidation_0-rmse:58.5609\n",
            "[2400]\tvalidation_0-rmse:35.5346\n",
            "[3600]\tvalidation_0-rmse:24.8738\n",
            "[4183]\tvalidation_0-rmse:22.2689\n"
          ]
        },
        {
          "output_type": "stream",
          "name": "stderr",
          "text": [
            "\u001b[32m[I 2022-05-17 23:34:17,781]\u001b[0m Trial 6 finished with value: 22.268905397786714 and parameters: {'learning_rate': 0.0005109687909174174, 'reg_lambda': 1.7188517358453746e-07, 'reg_alpha': 0.0008006993316278407, 'subsample': 0.6121662846103842, 'colsample_bytree': 0.4223544535917725, 'max_depth': 20, 'early_stopping_rounds': 593, 'n_estimators': 4184}. Best is trial 5 with value: 18.605115367520845.\u001b[0m\n"
          ]
        },
        {
          "output_type": "stream",
          "name": "stdout",
          "text": [
            "[23:34:17] WARNING: /workspace/src/objective/regression_obj.cu:152: reg:linear is now deprecated in favor of reg:squarederror.\n",
            "[0]\tvalidation_0-rmse:103.655\n",
            "Will train until validation_0-rmse hasn't improved in 662 rounds.\n",
            "[1200]\tvalidation_0-rmse:23.22\n",
            "[2400]\tvalidation_0-rmse:21.2402\n",
            "[3207]\tvalidation_0-rmse:20.354\n"
          ]
        },
        {
          "output_type": "stream",
          "name": "stderr",
          "text": [
            "\u001b[32m[I 2022-05-17 23:34:23,196]\u001b[0m Trial 7 finished with value: 20.34438230641845 and parameters: {'learning_rate': 0.003075970145486491, 'reg_lambda': 1.5574173305596763e-09, 'reg_alpha': 0.1816868115691729, 'subsample': 0.10573479446428721, 'colsample_bytree': 0.4433817407650103, 'max_depth': 43, 'early_stopping_rounds': 662, 'n_estimators': 3208}. Best is trial 5 with value: 18.605115367520845.\u001b[0m\n"
          ]
        },
        {
          "output_type": "stream",
          "name": "stdout",
          "text": [
            "[23:34:23] WARNING: /workspace/src/objective/regression_obj.cu:152: reg:linear is now deprecated in favor of reg:squarederror.\n",
            "[0]\tvalidation_0-rmse:100.001\n",
            "Will train until validation_0-rmse hasn't improved in 168 rounds.\n",
            "Stopping. Best iteration:\n",
            "[115]\tvalidation_0-rmse:27.8066\n",
            "\n"
          ]
        },
        {
          "output_type": "stream",
          "name": "stderr",
          "text": [
            "\u001b[32m[I 2022-05-17 23:34:23,616]\u001b[0m Trial 8 finished with value: 27.806608215099104 and parameters: {'learning_rate': 0.04503277938667517, 'reg_lambda': 4.4957111519981114e-07, 'reg_alpha': 4.083932360220303e-06, 'subsample': 0.02635609588419648, 'colsample_bytree': 0.6063753260052993, 'max_depth': 25, 'early_stopping_rounds': 168, 'n_estimators': 3213}. Best is trial 5 with value: 18.605115367520845.\u001b[0m\n"
          ]
        },
        {
          "output_type": "stream",
          "name": "stdout",
          "text": [
            "[23:34:23] WARNING: /workspace/src/objective/regression_obj.cu:152: reg:linear is now deprecated in favor of reg:squarederror.\n",
            "[0]\tvalidation_0-rmse:103.538\n",
            "Will train until validation_0-rmse hasn't improved in 436 rounds.\n",
            "[1200]\tvalidation_0-rmse:17.2295\n",
            "Stopping. Best iteration:\n",
            "[883]\tvalidation_0-rmse:17.1209\n",
            "\n"
          ]
        },
        {
          "output_type": "stream",
          "name": "stderr",
          "text": [
            "\u001b[32m[I 2022-05-17 23:34:29,570]\u001b[0m Trial 9 finished with value: 17.120895787476243 and parameters: {'learning_rate': 0.004151562084116753, 'reg_lambda': 1.5846583488222143e-08, 'reg_alpha': 4.082996757423279e-08, 'subsample': 0.986084344319199, 'colsample_bytree': 0.8740989338944797, 'max_depth': 45, 'early_stopping_rounds': 436, 'n_estimators': 4936}. Best is trial 9 with value: 17.120895787476243.\u001b[0m\n"
          ]
        },
        {
          "output_type": "execute_result",
          "data": {
            "text/plain": [
              "{'colsample_bytree': 0.8740989338944797,\n",
              " 'early_stopping_rounds': 436,\n",
              " 'learning_rate': 0.004151562084116753,\n",
              " 'max_depth': 45,\n",
              " 'n_estimators': 4936,\n",
              " 'reg_alpha': 4.082996757423279e-08,\n",
              " 'reg_lambda': 1.5846583488222143e-08,\n",
              " 'subsample': 0.986084344319199}"
            ]
          },
          "metadata": {},
          "execution_count": 266
        }
      ]
    },
    {
      "cell_type": "code",
      "source": [
        "print(\"Approach 1: Using XGBoost \")\n",
        "model = XGBRegressor( early_stopping_rounds=optuna_params_xgb['early_stopping_rounds'],\n",
        "      n_estimators=optuna_params_xgb['n_estimators'],\n",
        "      learning_rate=optuna_params_xgb['learning_rate'],\n",
        "      reg_lambda=optuna_params_xgb['reg_lambda'],\n",
        "      reg_alpha=optuna_params_xgb['reg_alpha'],\n",
        "      subsample=optuna_params_xgb['subsample'],\n",
        "      colsample_bytree=optuna_params_xgb['colsample_bytree'],\n",
        "      max_depth=optuna_params_xgb['max_depth'],)\n",
        "model, xtrain, xtest, ytrain, ytest  = train_model(X,Y, model)\n",
        "#feature_importance(model,X)\n",
        "print(\"Model Accuracy on Test Dataset\")\n",
        "model_accuracy(model, xtrain, xtest, ytrain, ytest)\n",
        "#print(X.columns)\n"
      ],
      "metadata": {
        "colab": {
          "base_uri": "https://localhost:8080/"
        },
        "id": "fSiM5sHgykwY",
        "outputId": "caac7fe6-537d-48e7-c8f4-3960fa955c44"
      },
      "execution_count": 267,
      "outputs": [
        {
          "output_type": "stream",
          "name": "stdout",
          "text": [
            "Approach 1: Using XGBoost \n",
            "[23:34:29] WARNING: /workspace/src/objective/regression_obj.cu:152: reg:linear is now deprecated in favor of reg:squarederror.\n",
            "Model Accuracy on Test Dataset\n",
            "[23:34:44] WARNING: /workspace/src/objective/regression_obj.cu:152: reg:linear is now deprecated in favor of reg:squarederror.\n",
            "[23:34:57] WARNING: /workspace/src/objective/regression_obj.cu:152: reg:linear is now deprecated in favor of reg:squarederror.\n",
            "[23:35:09] WARNING: /workspace/src/objective/regression_obj.cu:152: reg:linear is now deprecated in favor of reg:squarederror.\n",
            "[23:35:20] WARNING: /workspace/src/objective/regression_obj.cu:152: reg:linear is now deprecated in favor of reg:squarederror.\n",
            "[23:35:32] WARNING: /workspace/src/objective/regression_obj.cu:152: reg:linear is now deprecated in favor of reg:squarederror.\n",
            "Mean cross-validation score: 0.53\n",
            "RMSE: 22.45\n"
          ]
        }
      ]
    },
    {
      "cell_type": "code",
      "source": [
        ""
      ],
      "metadata": {
        "id": "cTVHHVsKypGf"
      },
      "execution_count": 267,
      "outputs": []
    }
  ]
}