{
  "nbformat": 4,
  "nbformat_minor": 0,
  "metadata": {
    "colab": {
      "name": "SalaryPredictor.ipynb",
      "provenance": [],
      "collapsed_sections": [],
      "authorship_tag": "ABX9TyPK8T/XsveEsfClz6BUBhud",
      "include_colab_link": true
    },
    "kernelspec": {
      "name": "python3",
      "display_name": "Python 3"
    },
    "language_info": {
      "name": "python"
    }
  },
  "cells": [
    {
      "cell_type": "markdown",
      "metadata": {
        "id": "view-in-github",
        "colab_type": "text"
      },
      "source": [
        "<a href=\"https://colab.research.google.com/github/ShivaniGawande/SalaryEstimator/blob/main/SalaryPredictor.ipynb\" target=\"_parent\"><img src=\"https://colab.research.google.com/assets/colab-badge.svg\" alt=\"Open In Colab\"/></a>"
      ]
    },
    {
      "cell_type": "code",
      "execution_count": 268,
      "metadata": {
        "colab": {
          "base_uri": "https://localhost:8080/"
        },
        "id": "_ltkDGe6x0jm",
        "outputId": "109bcfab-d9d5-4358-c421-ac5523f02fc6"
      },
      "outputs": [
        {
          "output_type": "stream",
          "name": "stdout",
          "text": [
            "Requirement already satisfied: optuna in /usr/local/lib/python3.7/dist-packages (2.10.0)\n",
            "Requirement already satisfied: sqlalchemy>=1.1.0 in /usr/local/lib/python3.7/dist-packages (from optuna) (1.4.36)\n",
            "Requirement already satisfied: colorlog in /usr/local/lib/python3.7/dist-packages (from optuna) (6.6.0)\n",
            "Requirement already satisfied: cliff in /usr/local/lib/python3.7/dist-packages (from optuna) (3.10.1)\n",
            "Requirement already satisfied: cmaes>=0.8.2 in /usr/local/lib/python3.7/dist-packages (from optuna) (0.8.2)\n",
            "Requirement already satisfied: scipy!=1.4.0 in /usr/local/lib/python3.7/dist-packages (from optuna) (1.4.1)\n",
            "Requirement already satisfied: alembic in /usr/local/lib/python3.7/dist-packages (from optuna) (1.7.7)\n",
            "Requirement already satisfied: numpy in /usr/local/lib/python3.7/dist-packages (from optuna) (1.21.6)\n",
            "Requirement already satisfied: tqdm in /usr/local/lib/python3.7/dist-packages (from optuna) (4.64.0)\n",
            "Requirement already satisfied: PyYAML in /usr/local/lib/python3.7/dist-packages (from optuna) (3.13)\n",
            "Requirement already satisfied: packaging>=20.0 in /usr/local/lib/python3.7/dist-packages (from optuna) (21.3)\n",
            "Requirement already satisfied: pyparsing!=3.0.5,>=2.0.2 in /usr/local/lib/python3.7/dist-packages (from packaging>=20.0->optuna) (3.0.8)\n",
            "Requirement already satisfied: greenlet!=0.4.17 in /usr/local/lib/python3.7/dist-packages (from sqlalchemy>=1.1.0->optuna) (1.1.2)\n",
            "Requirement already satisfied: importlib-metadata in /usr/local/lib/python3.7/dist-packages (from sqlalchemy>=1.1.0->optuna) (4.11.3)\n",
            "Requirement already satisfied: importlib-resources in /usr/local/lib/python3.7/dist-packages (from alembic->optuna) (5.7.1)\n",
            "Requirement already satisfied: Mako in /usr/local/lib/python3.7/dist-packages (from alembic->optuna) (1.2.0)\n",
            "Requirement already satisfied: cmd2>=1.0.0 in /usr/local/lib/python3.7/dist-packages (from cliff->optuna) (2.4.1)\n",
            "Requirement already satisfied: stevedore>=2.0.1 in /usr/local/lib/python3.7/dist-packages (from cliff->optuna) (3.5.0)\n",
            "Requirement already satisfied: PrettyTable>=0.7.2 in /usr/local/lib/python3.7/dist-packages (from cliff->optuna) (3.2.0)\n",
            "Requirement already satisfied: pbr!=2.1.0,>=2.0.0 in /usr/local/lib/python3.7/dist-packages (from cliff->optuna) (5.9.0)\n",
            "Requirement already satisfied: autopage>=0.4.0 in /usr/local/lib/python3.7/dist-packages (from cliff->optuna) (0.5.0)\n",
            "Requirement already satisfied: attrs>=16.3.0 in /usr/local/lib/python3.7/dist-packages (from cmd2>=1.0.0->cliff->optuna) (21.4.0)\n",
            "Requirement already satisfied: typing-extensions in /usr/local/lib/python3.7/dist-packages (from cmd2>=1.0.0->cliff->optuna) (4.2.0)\n",
            "Requirement already satisfied: wcwidth>=0.1.7 in /usr/local/lib/python3.7/dist-packages (from cmd2>=1.0.0->cliff->optuna) (0.2.5)\n",
            "Requirement already satisfied: pyperclip>=1.6 in /usr/local/lib/python3.7/dist-packages (from cmd2>=1.0.0->cliff->optuna) (1.8.2)\n",
            "Requirement already satisfied: zipp>=0.5 in /usr/local/lib/python3.7/dist-packages (from importlib-metadata->sqlalchemy>=1.1.0->optuna) (3.8.0)\n",
            "Requirement already satisfied: MarkupSafe>=0.9.2 in /usr/local/lib/python3.7/dist-packages (from Mako->alembic->optuna) (2.0.1)\n"
          ]
        }
      ],
      "source": [
        "#install optuna - framework for hyperparameter optimization\n",
        "% pip install optuna"
      ]
    },
    {
      "cell_type": "code",
      "source": [
        "import numpy as np\n",
        "import pandas as pd\n",
        "from sklearn.model_selection import train_test_split\n",
        "from sklearn.svm import SVR\n",
        "from sklearn.ensemble import RandomForestRegressor\n",
        "from sklearn.neural_network import MLPRegressor\n",
        "from sklearn.model_selection import GridSearchCV\n",
        "from sklearn.model_selection import cross_val_score\n",
        "from math import sqrt\n",
        "from sklearn.model_selection import learning_curve\n",
        "from sklearn.model_selection import KFold\n",
        "from sklearn.metrics import mean_squared_error\n",
        "import xgboost as xgb\n",
        "from xgboost import XGBRegressor\n",
        "import optuna\n",
        "\n",
        "import warnings\n",
        "warnings.filterwarnings('ignore')"
      ],
      "metadata": {
        "id": "r797OJ96G0d2"
      },
      "execution_count": 269,
      "outputs": []
    },
    {
      "cell_type": "code",
      "source": [
        "df = pd.read_csv('https://raw.githubusercontent.com/ShivaniGawande/SalaryEstimator/main/data.csv')\n",
        "df.head()"
      ],
      "metadata": {
        "colab": {
          "base_uri": "https://localhost:8080/",
          "height": 542
        },
        "id": "-H-ZzeKHrLEi",
        "outputId": "0d1f3386-6171-4bc1-f032-7a4f9cf54079"
      },
      "execution_count": 270,
      "outputs": [
        {
          "output_type": "execute_result",
          "data": {
            "text/plain": [
              "   index                  Job Title              Salary Estimate  \\\n",
              "0      0             Data Scientist   $53K-$91K (Glassdoor est.)   \n",
              "1      1  Healthcare Data Scientist  $63K-$112K (Glassdoor est.)   \n",
              "2      2             Data Scientist   $80K-$90K (Glassdoor est.)   \n",
              "3      3             Data Scientist   $56K-$97K (Glassdoor est.)   \n",
              "4      4             Data Scientist  $86K-$143K (Glassdoor est.)   \n",
              "\n",
              "                                     Job Description  Rating  \\\n",
              "0  Data Scientist\\nLocation: Albuquerque, NM\\nEdu...     3.8   \n",
              "1  What You Will Do:\\n\\nI. General Summary\\n\\nThe...     3.4   \n",
              "2  KnowBe4, Inc. is a high growth information sec...     4.8   \n",
              "3  *Organization and Job ID**\\nJob ID: 310709\\n\\n...     3.8   \n",
              "4  Data Scientist\\nAffinity Solutions / Marketing...     2.9   \n",
              "\n",
              "                                 Company Name         Location  \\\n",
              "0                      Tecolote Research\\n3.8  Albuquerque, NM   \n",
              "1  University of Maryland Medical System\\n3.4    Linthicum, MD   \n",
              "2                                KnowBe4\\n4.8   Clearwater, FL   \n",
              "3                                   PNNL\\n3.8     Richland, WA   \n",
              "4                     Affinity Solutions\\n2.9     New York, NY   \n",
              "\n",
              "     Headquarters          Size  Founded  ... tensor hadoop tableau bi flink  \\\n",
              "0      Goleta, CA   501 - 1000      1973  ...      0      0       1  1     0   \n",
              "1   Baltimore, MD       10000+      1984  ...      0      0       0  0     0   \n",
              "2  Clearwater, FL   501 - 1000      2010  ...      0      0       0  0     0   \n",
              "3    Richland, WA  1001 - 5000      1965  ...      0      0       0  0     0   \n",
              "4    New York, NY     51 - 200      1998  ...      0      0       0  0     0   \n",
              "\n",
              "   mongo  google_an   job_title_sim  seniority_by_title  Degree  \n",
              "0      0          0  data scientist                  na       M  \n",
              "1      0          0  data scientist                  na       M  \n",
              "2      0          0  data scientist                  na       M  \n",
              "3      0          0  data scientist                  na      na  \n",
              "4      0          0  data scientist                  na      na  \n",
              "\n",
              "[5 rows x 42 columns]"
            ],
            "text/html": [
              "\n",
              "  <div id=\"df-ebc642bb-3d27-469c-b129-824387affbb0\">\n",
              "    <div class=\"colab-df-container\">\n",
              "      <div>\n",
              "<style scoped>\n",
              "    .dataframe tbody tr th:only-of-type {\n",
              "        vertical-align: middle;\n",
              "    }\n",
              "\n",
              "    .dataframe tbody tr th {\n",
              "        vertical-align: top;\n",
              "    }\n",
              "\n",
              "    .dataframe thead th {\n",
              "        text-align: right;\n",
              "    }\n",
              "</style>\n",
              "<table border=\"1\" class=\"dataframe\">\n",
              "  <thead>\n",
              "    <tr style=\"text-align: right;\">\n",
              "      <th></th>\n",
              "      <th>index</th>\n",
              "      <th>Job Title</th>\n",
              "      <th>Salary Estimate</th>\n",
              "      <th>Job Description</th>\n",
              "      <th>Rating</th>\n",
              "      <th>Company Name</th>\n",
              "      <th>Location</th>\n",
              "      <th>Headquarters</th>\n",
              "      <th>Size</th>\n",
              "      <th>Founded</th>\n",
              "      <th>...</th>\n",
              "      <th>tensor</th>\n",
              "      <th>hadoop</th>\n",
              "      <th>tableau</th>\n",
              "      <th>bi</th>\n",
              "      <th>flink</th>\n",
              "      <th>mongo</th>\n",
              "      <th>google_an</th>\n",
              "      <th>job_title_sim</th>\n",
              "      <th>seniority_by_title</th>\n",
              "      <th>Degree</th>\n",
              "    </tr>\n",
              "  </thead>\n",
              "  <tbody>\n",
              "    <tr>\n",
              "      <th>0</th>\n",
              "      <td>0</td>\n",
              "      <td>Data Scientist</td>\n",
              "      <td>$53K-$91K (Glassdoor est.)</td>\n",
              "      <td>Data Scientist\\nLocation: Albuquerque, NM\\nEdu...</td>\n",
              "      <td>3.8</td>\n",
              "      <td>Tecolote Research\\n3.8</td>\n",
              "      <td>Albuquerque, NM</td>\n",
              "      <td>Goleta, CA</td>\n",
              "      <td>501 - 1000</td>\n",
              "      <td>1973</td>\n",
              "      <td>...</td>\n",
              "      <td>0</td>\n",
              "      <td>0</td>\n",
              "      <td>1</td>\n",
              "      <td>1</td>\n",
              "      <td>0</td>\n",
              "      <td>0</td>\n",
              "      <td>0</td>\n",
              "      <td>data scientist</td>\n",
              "      <td>na</td>\n",
              "      <td>M</td>\n",
              "    </tr>\n",
              "    <tr>\n",
              "      <th>1</th>\n",
              "      <td>1</td>\n",
              "      <td>Healthcare Data Scientist</td>\n",
              "      <td>$63K-$112K (Glassdoor est.)</td>\n",
              "      <td>What You Will Do:\\n\\nI. General Summary\\n\\nThe...</td>\n",
              "      <td>3.4</td>\n",
              "      <td>University of Maryland Medical System\\n3.4</td>\n",
              "      <td>Linthicum, MD</td>\n",
              "      <td>Baltimore, MD</td>\n",
              "      <td>10000+</td>\n",
              "      <td>1984</td>\n",
              "      <td>...</td>\n",
              "      <td>0</td>\n",
              "      <td>0</td>\n",
              "      <td>0</td>\n",
              "      <td>0</td>\n",
              "      <td>0</td>\n",
              "      <td>0</td>\n",
              "      <td>0</td>\n",
              "      <td>data scientist</td>\n",
              "      <td>na</td>\n",
              "      <td>M</td>\n",
              "    </tr>\n",
              "    <tr>\n",
              "      <th>2</th>\n",
              "      <td>2</td>\n",
              "      <td>Data Scientist</td>\n",
              "      <td>$80K-$90K (Glassdoor est.)</td>\n",
              "      <td>KnowBe4, Inc. is a high growth information sec...</td>\n",
              "      <td>4.8</td>\n",
              "      <td>KnowBe4\\n4.8</td>\n",
              "      <td>Clearwater, FL</td>\n",
              "      <td>Clearwater, FL</td>\n",
              "      <td>501 - 1000</td>\n",
              "      <td>2010</td>\n",
              "      <td>...</td>\n",
              "      <td>0</td>\n",
              "      <td>0</td>\n",
              "      <td>0</td>\n",
              "      <td>0</td>\n",
              "      <td>0</td>\n",
              "      <td>0</td>\n",
              "      <td>0</td>\n",
              "      <td>data scientist</td>\n",
              "      <td>na</td>\n",
              "      <td>M</td>\n",
              "    </tr>\n",
              "    <tr>\n",
              "      <th>3</th>\n",
              "      <td>3</td>\n",
              "      <td>Data Scientist</td>\n",
              "      <td>$56K-$97K (Glassdoor est.)</td>\n",
              "      <td>*Organization and Job ID**\\nJob ID: 310709\\n\\n...</td>\n",
              "      <td>3.8</td>\n",
              "      <td>PNNL\\n3.8</td>\n",
              "      <td>Richland, WA</td>\n",
              "      <td>Richland, WA</td>\n",
              "      <td>1001 - 5000</td>\n",
              "      <td>1965</td>\n",
              "      <td>...</td>\n",
              "      <td>0</td>\n",
              "      <td>0</td>\n",
              "      <td>0</td>\n",
              "      <td>0</td>\n",
              "      <td>0</td>\n",
              "      <td>0</td>\n",
              "      <td>0</td>\n",
              "      <td>data scientist</td>\n",
              "      <td>na</td>\n",
              "      <td>na</td>\n",
              "    </tr>\n",
              "    <tr>\n",
              "      <th>4</th>\n",
              "      <td>4</td>\n",
              "      <td>Data Scientist</td>\n",
              "      <td>$86K-$143K (Glassdoor est.)</td>\n",
              "      <td>Data Scientist\\nAffinity Solutions / Marketing...</td>\n",
              "      <td>2.9</td>\n",
              "      <td>Affinity Solutions\\n2.9</td>\n",
              "      <td>New York, NY</td>\n",
              "      <td>New York, NY</td>\n",
              "      <td>51 - 200</td>\n",
              "      <td>1998</td>\n",
              "      <td>...</td>\n",
              "      <td>0</td>\n",
              "      <td>0</td>\n",
              "      <td>0</td>\n",
              "      <td>0</td>\n",
              "      <td>0</td>\n",
              "      <td>0</td>\n",
              "      <td>0</td>\n",
              "      <td>data scientist</td>\n",
              "      <td>na</td>\n",
              "      <td>na</td>\n",
              "    </tr>\n",
              "  </tbody>\n",
              "</table>\n",
              "<p>5 rows × 42 columns</p>\n",
              "</div>\n",
              "      <button class=\"colab-df-convert\" onclick=\"convertToInteractive('df-ebc642bb-3d27-469c-b129-824387affbb0')\"\n",
              "              title=\"Convert this dataframe to an interactive table.\"\n",
              "              style=\"display:none;\">\n",
              "        \n",
              "  <svg xmlns=\"http://www.w3.org/2000/svg\" height=\"24px\"viewBox=\"0 0 24 24\"\n",
              "       width=\"24px\">\n",
              "    <path d=\"M0 0h24v24H0V0z\" fill=\"none\"/>\n",
              "    <path d=\"M18.56 5.44l.94 2.06.94-2.06 2.06-.94-2.06-.94-.94-2.06-.94 2.06-2.06.94zm-11 1L8.5 8.5l.94-2.06 2.06-.94-2.06-.94L8.5 2.5l-.94 2.06-2.06.94zm10 10l.94 2.06.94-2.06 2.06-.94-2.06-.94-.94-2.06-.94 2.06-2.06.94z\"/><path d=\"M17.41 7.96l-1.37-1.37c-.4-.4-.92-.59-1.43-.59-.52 0-1.04.2-1.43.59L10.3 9.45l-7.72 7.72c-.78.78-.78 2.05 0 2.83L4 21.41c.39.39.9.59 1.41.59.51 0 1.02-.2 1.41-.59l7.78-7.78 2.81-2.81c.8-.78.8-2.07 0-2.86zM5.41 20L4 18.59l7.72-7.72 1.47 1.35L5.41 20z\"/>\n",
              "  </svg>\n",
              "      </button>\n",
              "      \n",
              "  <style>\n",
              "    .colab-df-container {\n",
              "      display:flex;\n",
              "      flex-wrap:wrap;\n",
              "      gap: 12px;\n",
              "    }\n",
              "\n",
              "    .colab-df-convert {\n",
              "      background-color: #E8F0FE;\n",
              "      border: none;\n",
              "      border-radius: 50%;\n",
              "      cursor: pointer;\n",
              "      display: none;\n",
              "      fill: #1967D2;\n",
              "      height: 32px;\n",
              "      padding: 0 0 0 0;\n",
              "      width: 32px;\n",
              "    }\n",
              "\n",
              "    .colab-df-convert:hover {\n",
              "      background-color: #E2EBFA;\n",
              "      box-shadow: 0px 1px 2px rgba(60, 64, 67, 0.3), 0px 1px 3px 1px rgba(60, 64, 67, 0.15);\n",
              "      fill: #174EA6;\n",
              "    }\n",
              "\n",
              "    [theme=dark] .colab-df-convert {\n",
              "      background-color: #3B4455;\n",
              "      fill: #D2E3FC;\n",
              "    }\n",
              "\n",
              "    [theme=dark] .colab-df-convert:hover {\n",
              "      background-color: #434B5C;\n",
              "      box-shadow: 0px 1px 3px 1px rgba(0, 0, 0, 0.15);\n",
              "      filter: drop-shadow(0px 1px 2px rgba(0, 0, 0, 0.3));\n",
              "      fill: #FFFFFF;\n",
              "    }\n",
              "  </style>\n",
              "\n",
              "      <script>\n",
              "        const buttonEl =\n",
              "          document.querySelector('#df-ebc642bb-3d27-469c-b129-824387affbb0 button.colab-df-convert');\n",
              "        buttonEl.style.display =\n",
              "          google.colab.kernel.accessAllowed ? 'block' : 'none';\n",
              "\n",
              "        async function convertToInteractive(key) {\n",
              "          const element = document.querySelector('#df-ebc642bb-3d27-469c-b129-824387affbb0');\n",
              "          const dataTable =\n",
              "            await google.colab.kernel.invokeFunction('convertToInteractive',\n",
              "                                                     [key], {});\n",
              "          if (!dataTable) return;\n",
              "\n",
              "          const docLinkHtml = 'Like what you see? Visit the ' +\n",
              "            '<a target=\"_blank\" href=https://colab.research.google.com/notebooks/data_table.ipynb>data table notebook</a>'\n",
              "            + ' to learn more about interactive tables.';\n",
              "          element.innerHTML = '';\n",
              "          dataTable['output_type'] = 'display_data';\n",
              "          await google.colab.output.renderOutput(dataTable, element);\n",
              "          const docLink = document.createElement('div');\n",
              "          docLink.innerHTML = docLinkHtml;\n",
              "          element.appendChild(docLink);\n",
              "        }\n",
              "      </script>\n",
              "    </div>\n",
              "  </div>\n",
              "  "
            ]
          },
          "metadata": {},
          "execution_count": 270
        }
      ]
    },
    {
      "cell_type": "code",
      "source": [
        "\n"
      ],
      "metadata": {
        "id": "8Zzl_v84ERrv"
      },
      "execution_count": 270,
      "outputs": []
    },
    {
      "cell_type": "code",
      "source": [
        "def approach1_XGBRegressor():\n",
        "    xgb = XGBRegressor()\n",
        "    parameters = {'learning_rate': [.01, 0.1, .03], \n",
        "              'max_depth': [5, 7, 9],\n",
        "              'n_estimators': [100,200,300]}\n",
        "\n",
        "    xgb_grid = GridSearchCV(xgb, parameters, cv = 2, n_jobs = 5, verbose=True)\n",
        "    return xgb_grid"
      ],
      "metadata": {
        "id": "oeeX3hZbyS_e"
      },
      "execution_count": 271,
      "outputs": []
    },
    {
      "cell_type": "code",
      "source": [
        "def approach2_SVRRegressor():\n",
        "    #SVR(kernel=\"rbf\", C=100, gamma=0.1, epsilon=0.1)\n",
        "    svr = SVR()\n",
        "    parameters = {'C': [0.1,1, 10, 100], 'gamma': [1,0.1,0.01,0.001],'kernel': ['rbf']}\n",
        "\n",
        "    svr_grid = GridSearchCV(svr, parameters, cv=2, n_jobs = 5, verbose=True)\n",
        "    return svr_grid\n"
      ],
      "metadata": {
        "id": "BJXY_xOBzEV8"
      },
      "execution_count": 272,
      "outputs": []
    },
    {
      "cell_type": "code",
      "source": [
        "\n",
        "def approach3_RandomForestRegressor():\n",
        "    #RandomForestRegressor(max_depth=2, random_state=0)\n",
        "    rfr= RandomForestRegressor()\n",
        "    parameters = {'max_depth': [40, 50, 60],\n",
        "    'min_samples_leaf': [1, 2, 3],\n",
        "    'min_samples_split': [4, 5, 6],\n",
        "    'n_estimators': [150, 200]}\n",
        "\n",
        "    rfr_grid = GridSearchCV(rfr, parameters, cv=2, n_jobs = 5, verbose=True)\n",
        "    return rfr_grid"
      ],
      "metadata": {
        "id": "ZSJM2xbZzF4d"
      },
      "execution_count": 273,
      "outputs": []
    },
    {
      "cell_type": "code",
      "source": [
        "def feature_importance(model,x):\n",
        "    df = pd.DataFrame(model.feature_importances_,columns=['importance'])\n",
        "    df['features'] = x.columns\n",
        "    df.reindex(x.columns, axis=1)\n",
        "\n",
        "def model_accuracy(model, xtrain, xtest, ytrain, ytest):\n",
        "    #evaluate\n",
        "    scores = cross_val_score(model, xtrain, ytrain,cv=5)\n",
        "    print(\"Mean cross-validation score: %.2f\" % scores.mean())\n",
        "    ypred = model.predict(xtest)\n",
        "    mse = mean_squared_error(ytest, ypred)\n",
        "    rmse = sqrt(mse)\n",
        "    print(\"RMSE: %.2f\" % rmse)\n",
        "    y_pred_test = model.predict(xtest)\n",
        "\n",
        "def train_model(x,y, model):\n",
        "    xtrain, xtest, ytrain, ytest=train_test_split(x, y, test_size=0.2)\n",
        "    model.fit(xtrain, ytrain)\n",
        "    #print(\" Best Params : \", model.best_params_)\n",
        "    #print(xtest)\n",
        "    return model, xtrain, xtest, ytrain, ytest"
      ],
      "metadata": {
        "id": "UQqev-5k_SeS"
      },
      "execution_count": 274,
      "outputs": []
    },
    {
      "cell_type": "code",
      "source": [
        "Y = df.iloc[:,19]\n",
        "X = pd.concat([df.iloc[:,4],df.iloc[:,23:39],df.iloc[:,21],df.iloc[:,8],df.iloc[:,10],df.iloc[:,11],df.iloc[:,12],df.iloc[:,40:42]],axis = 1)\n",
        "X = X.astype({'Job Location': 'category', 'Industry': 'category', 'Sector' : 'category', 'seniority_by_title' : 'category', 'Degree' : 'category', 'Size' : 'category', 'Type of ownership' : 'category'})\n",
        "# X[\"Job Location\"] = X[\"Job Location\"].astype(\"category\")\n",
        "# X[\"Industry\"]=X[\"Industry\"].astype(\"category\")\n",
        "# X[\"Sector\"] = X[\"Sector\"].astype(\"category\")\n",
        "# X[\"seniority_by_title\"] = X[\"seniority_by_title\"].astype(\"category\")\n",
        "# X[\"Degree\"] = X[\"Degree\"].astype(\"category\")\n",
        "# X[\"Size\"] = X[\"Size\"].astype(\"category\")\n",
        "# X[\"Type of ownership\"]=X[\"Type of ownership\"].astype(\"category\")\n",
        "\n",
        "X[\"Job Location\"] = X[\"Job Location\"].cat.codes\n",
        "X[\"Industry\"] = X[\"Industry\"].cat.codes\n",
        "X[\"Sector\"] = X[\"Sector\"].cat.codes\n",
        "X[\"seniority_by_title\"] = X[\"seniority_by_title\"].cat.codes\n",
        "X[\"Degree\"] = X[\"Degree\"].cat.codes\n",
        "X[\"Size\"] = X[\"Size\"].cat.codes\n",
        "X[\"Type of ownership\"] = X[\"Type of ownership\"].cat.codes\n",
        "\n",
        "print(\"Approach 1: Using XGB\")\n",
        "model = approach1_XGBRegressor()\n",
        "model, xtrain, xtest, ytrain, ytest  = train_model(X,Y, model)\n",
        "print(\"Model Accuracy on Test Dataset\")\n",
        "model_accuracy(model, xtrain, xtest, ytrain, ytest)\n",
        "#print(X.columns)\n",
        "\n",
        "\n",
        "print(\"Approach 2: Using SVR\")\n",
        "model = approach2_SVRRegressor()\n",
        "model, xtrain, xtest, ytrain, ytest  = train_model(X,Y, model)\n",
        "print(\"Model Accuracy on Test Dataset\")\n",
        "model_accuracy(model, xtrain, xtest, ytrain, ytest)\n",
        "#print(X.columns)\n",
        "\n",
        "\n",
        "print(\"Approach 3: Using Random Forest Regressor\")\n",
        "model = approach3_RandomForestRegressor()\n",
        "model, xtrain, xtest, ytrain, ytest  = train_model(X,Y, model)\n",
        "print(\"Model Accuracy on Test Dataset\")\n",
        "model_accuracy(model, xtrain, xtest, ytrain, ytest)\n",
        "#print(X.columns)"
      ],
      "metadata": {
        "colab": {
          "base_uri": "https://localhost:8080/"
        },
        "id": "V4KUvj3xyZWk",
        "outputId": "60b2f3e6-1ba1-432f-d4fb-5d4ff98f2a3a"
      },
      "execution_count": 275,
      "outputs": [
        {
          "output_type": "stream",
          "name": "stdout",
          "text": [
            "Approach 1: Using XGB\n",
            "Fitting 2 folds for each of 27 candidates, totalling 54 fits\n",
            "[00:04:57] WARNING: /workspace/src/objective/regression_obj.cu:152: reg:linear is now deprecated in favor of reg:squarederror.\n",
            "Model Accuracy on Test Dataset\n",
            "Fitting 2 folds for each of 27 candidates, totalling 54 fits\n",
            "[00:05:06] WARNING: /workspace/src/objective/regression_obj.cu:152: reg:linear is now deprecated in favor of reg:squarederror.\n",
            "Fitting 2 folds for each of 27 candidates, totalling 54 fits\n",
            "[00:05:15] WARNING: /workspace/src/objective/regression_obj.cu:152: reg:linear is now deprecated in favor of reg:squarederror.\n",
            "Fitting 2 folds for each of 27 candidates, totalling 54 fits\n",
            "[00:05:24] WARNING: /workspace/src/objective/regression_obj.cu:152: reg:linear is now deprecated in favor of reg:squarederror.\n",
            "Fitting 2 folds for each of 27 candidates, totalling 54 fits\n",
            "[00:05:33] WARNING: /workspace/src/objective/regression_obj.cu:152: reg:linear is now deprecated in favor of reg:squarederror.\n",
            "Fitting 2 folds for each of 27 candidates, totalling 54 fits\n",
            "[00:05:39] WARNING: /workspace/src/objective/regression_obj.cu:152: reg:linear is now deprecated in favor of reg:squarederror.\n",
            "Mean cross-validation score: 0.44\n",
            "RMSE: 22.88\n",
            "Approach 2: Using SVR\n",
            "Fitting 2 folds for each of 16 candidates, totalling 32 fits\n",
            "Model Accuracy on Test Dataset\n",
            "Fitting 2 folds for each of 16 candidates, totalling 32 fits\n",
            "Fitting 2 folds for each of 16 candidates, totalling 32 fits\n",
            "Fitting 2 folds for each of 16 candidates, totalling 32 fits\n",
            "Fitting 2 folds for each of 16 candidates, totalling 32 fits\n",
            "Fitting 2 folds for each of 16 candidates, totalling 32 fits\n",
            "Mean cross-validation score: 0.54\n",
            "RMSE: 22.54\n",
            "Approach 3: Using Random Forest Regressor\n",
            "Fitting 2 folds for each of 54 candidates, totalling 108 fits\n",
            "Model Accuracy on Test Dataset\n",
            "Fitting 2 folds for each of 54 candidates, totalling 108 fits\n",
            "Fitting 2 folds for each of 54 candidates, totalling 108 fits\n",
            "Fitting 2 folds for each of 54 candidates, totalling 108 fits\n",
            "Fitting 2 folds for each of 54 candidates, totalling 108 fits\n",
            "Fitting 2 folds for each of 54 candidates, totalling 108 fits\n",
            "Mean cross-validation score: 0.53\n",
            "RMSE: 22.46\n"
          ]
        }
      ]
    },
    {
      "cell_type": "code",
      "source": [
        "xtrain, xtest, ytrain, ytest=train_test_split(X, Y, test_size=0.2)"
      ],
      "metadata": {
        "id": "sdfKp8vtRpRb"
      },
      "execution_count": 276,
      "outputs": []
    },
    {
      "cell_type": "code",
      "source": [
        "def objective_XGB(trial):\n",
        "   learning_rate = trial.suggest_float(\"learning_rate\", 1e-4, 0.25, log=True)\n",
        "   reg_lambda = trial.suggest_loguniform(\"reg_lambda\", 1e-9, 100.0)\n",
        "   reg_alpha = trial.suggest_loguniform(\"reg_alpha\", 1e-9, 100.0)\n",
        "   subsample = trial.suggest_float(\"subsample\", 0.0001, 1.0)\n",
        "   colsample_bytree = trial.suggest_float(\"colsample_bytree\", 0.0001, 1.0)\n",
        "   max_depth = trial.suggest_int(\"max_depth\", 1, 50)\n",
        "   early_stopping_rounds = trial.suggest_int(\"early_stopping_rounds\", 100, 700)\n",
        "   n_estimators = trial.suggest_int(\"n_estimators\", 0, 10000)\n",
        "\n",
        "   model = XGBRegressor(\n",
        "      random_state=50,\n",
        "      n_estimators=n_estimators,\n",
        "      learning_rate=learning_rate,\n",
        "      reg_lambda=reg_lambda,\n",
        "      reg_alpha=reg_alpha,\n",
        "      subsample=subsample,\n",
        "      colsample_bytree=colsample_bytree,\n",
        "      max_depth=max_depth,\n",
        "   )\n",
        "   model.fit(xtrain,ytrain,\n",
        "      early_stopping_rounds=early_stopping_rounds,\n",
        "      eval_set=[(xtest,ytest)],\n",
        "      verbose=1200\n",
        "   )\n",
        "   preds_valid = model.predict(xtest)\n",
        "   rmse = mean_squared_error(ytest, preds_valid, squared=False)\n",
        "\n",
        "   return rmse\n",
        "\n"
      ],
      "metadata": {
        "id": "czUl6Cj1P84R"
      },
      "execution_count": 277,
      "outputs": []
    },
    {
      "cell_type": "code",
      "source": [
        "study_xgb = optuna.create_study(direction=\"minimize\")\n",
        "study_xgb.optimize(objective_XGB, n_trials=10)\n",
        "\n",
        "optuna_params_xgb = study_xgb.best_params\n",
        "optuna_params_xgb"
      ],
      "metadata": {
        "colab": {
          "base_uri": "https://localhost:8080/"
        },
        "id": "wK9SOCn4KeY4",
        "outputId": "109bb1a8-7baa-4c7c-d058-f737bedf8d40"
      },
      "execution_count": 278,
      "outputs": [
        {
          "output_type": "stream",
          "name": "stderr",
          "text": [
            "\u001b[32m[I 2022-05-18 00:08:50,196]\u001b[0m A new study created in memory with name: no-name-b0f3c85d-c38a-452a-98ad-cde5aa3236c4\u001b[0m\n"
          ]
        },
        {
          "output_type": "stream",
          "name": "stdout",
          "text": [
            "[00:08:50] WARNING: /workspace/src/objective/regression_obj.cu:152: reg:linear is now deprecated in favor of reg:squarederror.\n",
            "[0]\tvalidation_0-rmse:108.711\n",
            "Will train until validation_0-rmse hasn't improved in 263 rounds.\n",
            "Stopping. Best iteration:\n",
            "[800]\tvalidation_0-rmse:19.7765\n",
            "\n"
          ]
        },
        {
          "output_type": "stream",
          "name": "stderr",
          "text": [
            "\u001b[32m[I 2022-05-18 00:08:51,848]\u001b[0m Trial 0 finished with value: 19.776548906717128 and parameters: {'learning_rate': 0.051434028495989756, 'reg_lambda': 0.07765410085511942, 'reg_alpha': 1.6501521526429508e-05, 'subsample': 0.960921581688122, 'colsample_bytree': 0.3152759828234102, 'max_depth': 7, 'early_stopping_rounds': 263, 'n_estimators': 1968}. Best is trial 0 with value: 19.776548906717128.\u001b[0m\n"
          ]
        },
        {
          "output_type": "stream",
          "name": "stdout",
          "text": [
            "[00:08:51] WARNING: /workspace/src/objective/regression_obj.cu:152: reg:linear is now deprecated in favor of reg:squarederror.\n",
            "[0]\tvalidation_0-rmse:113.525\n",
            "Will train until validation_0-rmse hasn't improved in 549 rounds.\n",
            "[1200]\tvalidation_0-rmse:77.2709\n",
            "[2400]\tvalidation_0-rmse:58.1289\n",
            "[3208]\tvalidation_0-rmse:50.9467\n"
          ]
        },
        {
          "output_type": "stream",
          "name": "stderr",
          "text": [
            "\u001b[32m[I 2022-05-18 00:08:55,113]\u001b[0m Trial 1 finished with value: 50.9467419435137 and parameters: {'learning_rate': 0.0005468956614070136, 'reg_lambda': 3.9582640189402074, 'reg_alpha': 8.184984731475857e-06, 'subsample': 0.026661026081662154, 'colsample_bytree': 0.5263366360672485, 'max_depth': 30, 'early_stopping_rounds': 549, 'n_estimators': 3209}. Best is trial 0 with value: 19.776548906717128.\u001b[0m\n"
          ]
        },
        {
          "output_type": "stream",
          "name": "stdout",
          "text": [
            "[00:08:55] WARNING: /workspace/src/objective/regression_obj.cu:152: reg:linear is now deprecated in favor of reg:squarederror.\n",
            "[0]\tvalidation_0-rmse:113.557\n",
            "Will train until validation_0-rmse hasn't improved in 452 rounds.\n",
            "[1200]\tvalidation_0-rmse:99.4155\n",
            "[2400]\tvalidation_0-rmse:87.5101\n",
            "[2496]\tvalidation_0-rmse:86.6424\n"
          ]
        },
        {
          "output_type": "stream",
          "name": "stderr",
          "text": [
            "\u001b[32m[I 2022-05-18 00:08:58,476]\u001b[0m Trial 2 finished with value: 86.64235328415293 and parameters: {'learning_rate': 0.00013541220199512802, 'reg_lambda': 0.18039186043975505, 'reg_alpha': 4.264942864967655, 'subsample': 0.14916769708026045, 'colsample_bytree': 0.4292179880762896, 'max_depth': 35, 'early_stopping_rounds': 452, 'n_estimators': 2497}. Best is trial 0 with value: 19.776548906717128.\u001b[0m\n"
          ]
        },
        {
          "output_type": "stream",
          "name": "stdout",
          "text": [
            "[00:08:58] WARNING: /workspace/src/objective/regression_obj.cu:152: reg:linear is now deprecated in favor of reg:squarederror.\n",
            "[0]\tvalidation_0-rmse:99.4518\n",
            "Will train until validation_0-rmse hasn't improved in 310 rounds.\n",
            "Stopping. Best iteration:\n",
            "[203]\tvalidation_0-rmse:19.7981\n",
            "\n"
          ]
        },
        {
          "output_type": "stream",
          "name": "stderr",
          "text": [
            "\u001b[32m[I 2022-05-18 00:09:00,055]\u001b[0m Trial 3 finished with value: 19.798080511826043 and parameters: {'learning_rate': 0.13632291492792595, 'reg_lambda': 9.68018133256423e-05, 'reg_alpha': 4.004558399454312e-05, 'subsample': 0.5070289384184132, 'colsample_bytree': 0.4818602012055686, 'max_depth': 45, 'early_stopping_rounds': 310, 'n_estimators': 9843}. Best is trial 0 with value: 19.776548906717128.\u001b[0m\n"
          ]
        },
        {
          "output_type": "stream",
          "name": "stdout",
          "text": [
            "[00:09:00] WARNING: /workspace/src/objective/regression_obj.cu:152: reg:linear is now deprecated in favor of reg:squarederror.\n",
            "[0]\tvalidation_0-rmse:113.327\n",
            "Will train until validation_0-rmse hasn't improved in 599 rounds.\n",
            "[1200]\tvalidation_0-rmse:22.7317\n",
            "[1466]\tvalidation_0-rmse:21.6162\n"
          ]
        },
        {
          "output_type": "stream",
          "name": "stderr",
          "text": [
            "\u001b[32m[I 2022-05-18 00:09:05,774]\u001b[0m Trial 4 finished with value: 21.616215314251736 and parameters: {'learning_rate': 0.002261742945857228, 'reg_lambda': 0.03580377578258787, 'reg_alpha': 1.2735547079540313e-05, 'subsample': 0.5540776271258777, 'colsample_bytree': 0.8524961509950191, 'max_depth': 16, 'early_stopping_rounds': 599, 'n_estimators': 1467}. Best is trial 0 with value: 19.776548906717128.\u001b[0m\n"
          ]
        },
        {
          "output_type": "stream",
          "name": "stdout",
          "text": [
            "[00:09:05] WARNING: /workspace/src/objective/regression_obj.cu:152: reg:linear is now deprecated in favor of reg:squarederror.\n",
            "[0]\tvalidation_0-rmse:113.559\n",
            "Will train until validation_0-rmse hasn't improved in 396 rounds.\n",
            "[1200]\tvalidation_0-rmse:102.315\n",
            "[1603]\tvalidation_0-rmse:98.8672\n"
          ]
        },
        {
          "output_type": "stream",
          "name": "stderr",
          "text": [
            "\u001b[32m[I 2022-05-18 00:09:07,473]\u001b[0m Trial 5 finished with value: 98.86719308751522 and parameters: {'learning_rate': 0.00010432954269682732, 'reg_lambda': 1.2767498666733815e-08, 'reg_alpha': 0.005330192497244675, 'subsample': 0.5096591490367237, 'colsample_bytree': 0.6134264609178975, 'max_depth': 1, 'early_stopping_rounds': 396, 'n_estimators': 1604}. Best is trial 0 with value: 19.776548906717128.\u001b[0m\n"
          ]
        },
        {
          "output_type": "stream",
          "name": "stdout",
          "text": [
            "[00:09:07] WARNING: /workspace/src/objective/regression_obj.cu:152: reg:linear is now deprecated in favor of reg:squarederror.\n",
            "[0]\tvalidation_0-rmse:113.548\n",
            "Will train until validation_0-rmse hasn't improved in 467 rounds.\n",
            "[1200]\tvalidation_0-rmse:91.0544\n",
            "[2400]\tvalidation_0-rmse:74.3246\n",
            "[3600]\tvalidation_0-rmse:61.9737\n",
            "[4800]\tvalidation_0-rmse:52.96\n",
            "[6000]\tvalidation_0-rmse:46.451\n",
            "[7200]\tvalidation_0-rmse:41.7037\n",
            "[8400]\tvalidation_0-rmse:38.2088\n",
            "[8626]\tvalidation_0-rmse:37.6606\n"
          ]
        },
        {
          "output_type": "stream",
          "name": "stderr",
          "text": [
            "\u001b[32m[I 2022-05-18 00:09:21,630]\u001b[0m Trial 6 finished with value: 37.66058651242562 and parameters: {'learning_rate': 0.00022383151497852076, 'reg_lambda': 3.4556470481051715e-08, 'reg_alpha': 68.66930853893226, 'subsample': 0.4755222462190598, 'colsample_bytree': 0.6533240343137298, 'max_depth': 17, 'early_stopping_rounds': 467, 'n_estimators': 8627}. Best is trial 0 with value: 19.776548906717128.\u001b[0m\n"
          ]
        },
        {
          "output_type": "stream",
          "name": "stdout",
          "text": [
            "[00:09:21] WARNING: /workspace/src/objective/regression_obj.cu:152: reg:linear is now deprecated in favor of reg:squarederror.\n",
            "[0]\tvalidation_0-rmse:111.092\n",
            "Will train until validation_0-rmse hasn't improved in 280 rounds.\n",
            "Stopping. Best iteration:\n",
            "[246]\tvalidation_0-rmse:21.2944\n",
            "\n"
          ]
        },
        {
          "output_type": "stream",
          "name": "stderr",
          "text": [
            "\u001b[32m[I 2022-05-18 00:09:23,976]\u001b[0m Trial 7 finished with value: 21.294412100747607 and parameters: {'learning_rate': 0.022723225096724652, 'reg_lambda': 1.92288628284278e-09, 'reg_alpha': 9.059208531368443e-06, 'subsample': 0.5368022845548504, 'colsample_bytree': 0.8313326859101664, 'max_depth': 50, 'early_stopping_rounds': 280, 'n_estimators': 9498}. Best is trial 0 with value: 19.776548906717128.\u001b[0m\n"
          ]
        },
        {
          "output_type": "stream",
          "name": "stdout",
          "text": [
            "[00:09:23] WARNING: /workspace/src/objective/regression_obj.cu:152: reg:linear is now deprecated in favor of reg:squarederror.\n",
            "[0]\tvalidation_0-rmse:112.631\n",
            "Will train until validation_0-rmse hasn't improved in 621 rounds.\n",
            "[1200]\tvalidation_0-rmse:21.3053\n",
            "[2400]\tvalidation_0-rmse:20.7738\n",
            "[3600]\tvalidation_0-rmse:20.716\n",
            "[3750]\tvalidation_0-rmse:20.7155\n"
          ]
        },
        {
          "output_type": "stream",
          "name": "stderr",
          "text": [
            "\u001b[32m[I 2022-05-18 00:09:29,716]\u001b[0m Trial 8 finished with value: 20.71353015141803 and parameters: {'learning_rate': 0.009898420831829909, 'reg_lambda': 0.00021691558150717166, 'reg_alpha': 1.76454587973843e-09, 'subsample': 0.913848254584186, 'colsample_bytree': 0.17189720774781583, 'max_depth': 22, 'early_stopping_rounds': 621, 'n_estimators': 3751}. Best is trial 0 with value: 19.776548906717128.\u001b[0m\n"
          ]
        },
        {
          "output_type": "stream",
          "name": "stdout",
          "text": [
            "[00:09:29] WARNING: /workspace/src/objective/regression_obj.cu:152: reg:linear is now deprecated in favor of reg:squarederror.\n",
            "[0]\tvalidation_0-rmse:110.438\n",
            "Will train until validation_0-rmse hasn't improved in 571 rounds.\n",
            "Stopping. Best iteration:\n",
            "[275]\tvalidation_0-rmse:20.8522\n",
            "\n"
          ]
        },
        {
          "output_type": "stream",
          "name": "stderr",
          "text": [
            "\u001b[32m[I 2022-05-18 00:09:33,048]\u001b[0m Trial 9 finished with value: 20.852188487583177 and parameters: {'learning_rate': 0.030006972998661566, 'reg_lambda': 0.313028510219945, 'reg_alpha': 0.13897512451894176, 'subsample': 0.6061803721909979, 'colsample_bytree': 0.9451797801428141, 'max_depth': 22, 'early_stopping_rounds': 571, 'n_estimators': 7735}. Best is trial 0 with value: 19.776548906717128.\u001b[0m\n"
          ]
        },
        {
          "output_type": "execute_result",
          "data": {
            "text/plain": [
              "{'colsample_bytree': 0.3152759828234102,\n",
              " 'early_stopping_rounds': 263,\n",
              " 'learning_rate': 0.051434028495989756,\n",
              " 'max_depth': 7,\n",
              " 'n_estimators': 1968,\n",
              " 'reg_alpha': 1.6501521526429508e-05,\n",
              " 'reg_lambda': 0.07765410085511942,\n",
              " 'subsample': 0.960921581688122}"
            ]
          },
          "metadata": {},
          "execution_count": 278
        }
      ]
    },
    {
      "cell_type": "code",
      "source": [
        "print(\"Approach 1: Using XGBoost \")\n",
        "model = XGBRegressor( early_stopping_rounds=optuna_params_xgb['early_stopping_rounds'],\n",
        "      n_estimators=optuna_params_xgb['n_estimators'],\n",
        "      learning_rate=optuna_params_xgb['learning_rate'],\n",
        "      reg_lambda=optuna_params_xgb['reg_lambda'],\n",
        "      reg_alpha=optuna_params_xgb['reg_alpha'],\n",
        "      subsample=optuna_params_xgb['subsample'],\n",
        "      colsample_bytree=optuna_params_xgb['colsample_bytree'],\n",
        "      max_depth=optuna_params_xgb['max_depth'],)\n",
        "model, xtrain, xtest, ytrain, ytest  = train_model(X,Y, model)\n",
        "#feature_importance(model,X)\n",
        "print(\"Model Accuracy on Test Dataset\")\n",
        "model_accuracy(model, xtrain, xtest, ytrain, ytest)\n",
        "#print(X.columns)\n"
      ],
      "metadata": {
        "colab": {
          "base_uri": "https://localhost:8080/"
        },
        "id": "fSiM5sHgykwY",
        "outputId": "902deae3-893b-4394-c021-9ccdcc9e9a08"
      },
      "execution_count": 279,
      "outputs": [
        {
          "output_type": "stream",
          "name": "stdout",
          "text": [
            "Approach 1: Using XGBoost \n",
            "[00:09:33] WARNING: /workspace/src/objective/regression_obj.cu:152: reg:linear is now deprecated in favor of reg:squarederror.\n",
            "Model Accuracy on Test Dataset\n",
            "[00:09:34] WARNING: /workspace/src/objective/regression_obj.cu:152: reg:linear is now deprecated in favor of reg:squarederror.\n",
            "[00:09:35] WARNING: /workspace/src/objective/regression_obj.cu:152: reg:linear is now deprecated in favor of reg:squarederror.\n",
            "[00:09:36] WARNING: /workspace/src/objective/regression_obj.cu:152: reg:linear is now deprecated in favor of reg:squarederror.\n",
            "[00:09:38] WARNING: /workspace/src/objective/regression_obj.cu:152: reg:linear is now deprecated in favor of reg:squarederror.\n",
            "[00:09:39] WARNING: /workspace/src/objective/regression_obj.cu:152: reg:linear is now deprecated in favor of reg:squarederror.\n",
            "Mean cross-validation score: 0.59\n",
            "RMSE: 19.26\n"
          ]
        }
      ]
    },
    {
      "cell_type": "code",
      "source": [
        ""
      ],
      "metadata": {
        "id": "cTVHHVsKypGf"
      },
      "execution_count": 279,
      "outputs": []
    }
  ]
}